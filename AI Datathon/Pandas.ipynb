{
 "cells": [
  {
   "cell_type": "markdown",
   "metadata": {},
   "source": [
    "# Pandas\n",
    "Pandas (Python Data Analysis Library) is a swiss-army knife module you'll find at the top of a huge proportion of datascience notebooks. It's popular enough to deserve its own import idiom..."
   ]
  },
  {
   "cell_type": "code",
   "execution_count": 1,
   "metadata": {},
   "outputs": [],
   "source": [
    "import matplotlib.pyplot as plt\n",
    "import pandas as pd\n",
    "import numpy as np\n",
    "\n",
    "plt.rcParams['figure.figsize'] = (16, 12)"
   ]
  },
  {
   "cell_type": "markdown",
   "metadata": {},
   "source": [
    "To get a quick idea of the scope of pandas take a look at the autocomplete for pd."
   ]
  },
  {
   "cell_type": "code",
   "execution_count": 2,
   "metadata": {},
   "outputs": [],
   "source": [
    "#pd."
   ]
  },
  {
   "cell_type": "markdown",
   "metadata": {},
   "source": [
    "The fundamental objects in pandas are the `Series` and the `DataFrame`. Together they encapsulate how you will normally ingest, clean, manipulate and even visualize external data sources. Most of this module will use methods on these objects so we'll take a quick tour of the concepts they implement, and the idea of an `index`."
   ]
  },
  {
   "cell_type": "markdown",
   "metadata": {},
   "source": [
    "## Series\n",
    "The pandas `Series` object is basically a one dimensional indexed array. Schematically, it looks like\n",
    "\n",
    "| Index | Value |\n",
    "|-------|-------|\n",
    "| 0     |  0.12 |\n",
    "| 1     |  0.24 |\n",
    "| 2     |  0.36 |\n",
    "| 3     |  0.48 |\n",
    "\n",
    "Where there are two columns: an index and a value. Most of the time the index values are distinct (not a firm requirement though!) but they don't have to be integers; any hashable type will do"
   ]
  },
  {
   "cell_type": "code",
   "execution_count": 5,
   "metadata": {},
   "outputs": [
    {
     "data": {
      "text/plain": [
       "one      1.0\n",
       "two      2.0\n",
       "three    3.0\n",
       "dtype: float64"
      ]
     },
     "execution_count": 5,
     "metadata": {},
     "output_type": "execute_result"
    }
   ],
   "source": [
    "s1 = pd.Series({'one' : 1.0, 'two': 2.0, 'three': 3.0})\n",
    "s1"
   ]
  },
  {
   "cell_type": "markdown",
   "metadata": {},
   "source": [
    "One particularly common option is to use a timestamp as the index (don't worry about the syntax here, we'll come back to time-series later)..."
   ]
  },
  {
   "cell_type": "code",
   "execution_count": 6,
   "metadata": {},
   "outputs": [
    {
     "data": {
      "text/plain": [
       "2020-06-03 00:00:00     first\n",
       "2020-06-03 01:00:00    second\n",
       "2020-06-03 02:00:00     third\n",
       "Freq: H, dtype: object"
      ]
     },
     "execution_count": 6,
     "metadata": {},
     "output_type": "execute_result"
    }
   ],
   "source": [
    "dti = pd.date_range('2020-06-03', periods=3, freq='H')\n",
    "pd.Series(['first', 'second', 'third'], index=dti)"
   ]
  },
  {
   "cell_type": "markdown",
   "metadata": {},
   "source": [
    "The next thing to notice is that the values all have the same type (e.g. `dtype: float64` for `s1`). `pandas` can make `Series` of almost any type as long as all the rows share the same type, but it will try to pick the most efficient implementation (`ndarrays` for numeric types). It can fall back to a generic `object` type if all else fails but it really pays (in speed) to keep an eye on the `dtype` and make it a `numpy` type where possible."
   ]
  },
  {
   "cell_type": "code",
   "execution_count": 8,
   "metadata": {},
   "outputs": [
    {
     "data": {
      "text/plain": [
       "0      one\n",
       "1        2\n",
       "2    three\n",
       "dtype: object"
      ]
     },
     "execution_count": 8,
     "metadata": {},
     "output_type": "execute_result"
    }
   ],
   "source": [
    "s2 = pd.Series(['one', 2, 'three'])\n",
    "s2"
   ]
  },
  {
   "cell_type": "markdown",
   "metadata": {},
   "source": [
    "### Making `Series`\n",
    "\n",
    "You'll probably find that you are making `DataFrames` more often than `Series`, but lots of operations in `panadas` return Series, or want them as an argument so it's good to know how to build them.\n",
    "\n",
    "Like `ndarray`'s, you can initialize a `Series` from a sequence, it'll get the default ascending integer index"
   ]
  },
  {
   "cell_type": "code",
   "execution_count": 9,
   "metadata": {},
   "outputs": [
    {
     "data": {
      "text/plain": [
       "0    1.0\n",
       "1    2.0\n",
       "2    3.0\n",
       "3    4.0\n",
       "4    5.0\n",
       "dtype: float64"
      ]
     },
     "execution_count": 9,
     "metadata": {},
     "output_type": "execute_result"
    }
   ],
   "source": [
    "sf = pd.Series([1.0, 2.0, 3.0, 4.0, 5.0])\n",
    "sf"
   ]
  },
  {
   "cell_type": "code",
   "execution_count": 11,
   "metadata": {},
   "outputs": [
    {
     "data": {
      "text/plain": [
       "0    0\n",
       "1    1\n",
       "2    2\n",
       "3    3\n",
       "4    4\n",
       "dtype: int64"
      ]
     },
     "execution_count": 11,
     "metadata": {},
     "output_type": "execute_result"
    }
   ],
   "source": [
    "si = pd.Series(range(5))\n",
    "si"
   ]
  },
  {
   "cell_type": "code",
   "execution_count": 12,
   "metadata": {},
   "outputs": [
    {
     "data": {
      "text/plain": [
       "dtype('int64')"
      ]
     },
     "execution_count": 12,
     "metadata": {},
     "output_type": "execute_result"
    }
   ],
   "source": [
    "si.dtype"
   ]
  },
  {
   "cell_type": "markdown",
   "metadata": {},
   "source": [
    "So far, this looks a lot like a numpy array (or even just a list), but we can switch the indexing to suit our needs, by explicitly passing the `index=` arguement"
   ]
  },
  {
   "cell_type": "code",
   "execution_count": 13,
   "metadata": {},
   "outputs": [
    {
     "data": {
      "text/plain": [
       "one      1.0\n",
       "two      2.0\n",
       "three    3.0\n",
       "four     4.0\n",
       "five     5.0\n",
       "dtype: float64"
      ]
     },
     "execution_count": 13,
     "metadata": {},
     "output_type": "execute_result"
    }
   ],
   "source": [
    "sm = pd.Series([1., 2., 3., 4., 5.], index=['one', 'two', 'three', 'four', 'five'])\n",
    "sm"
   ]
  },
  {
   "cell_type": "markdown",
   "metadata": {},
   "source": [
    "### Indexing and Slicing\n",
    "\n",
    "square bracket notation will select by index value, this is convenient (but see `.loc` and `.iloc` later for more flexibility)"
   ]
  },
  {
   "cell_type": "code",
   "execution_count": 14,
   "metadata": {},
   "outputs": [
    {
     "data": {
      "text/plain": [
       "3.0"
      ]
     },
     "execution_count": 14,
     "metadata": {},
     "output_type": "execute_result"
    }
   ],
   "source": [
    "sm['three']"
   ]
  },
  {
   "cell_type": "markdown",
   "metadata": {},
   "source": [
    "Now the series is starting to look more like a dictionary, in fact, that's another good way to construct `Series`"
   ]
  },
  {
   "cell_type": "code",
   "execution_count": 15,
   "metadata": {},
   "outputs": [
    {
     "data": {
      "text/plain": [
       "one      1\n",
       "three    3\n",
       "two      2\n",
       "four     4\n",
       "five     5\n",
       "dtype: int64"
      ]
     },
     "execution_count": 15,
     "metadata": {},
     "output_type": "execute_result"
    }
   ],
   "source": [
    "sn = pd.Series({'one': 1, 'three': 3, 'two': 2, 'four': 4, 'five': 5})\n",
    "sn"
   ]
  },
  {
   "cell_type": "markdown",
   "metadata": {},
   "source": [
    "When you look closely though, a Series has a few tricks that a dictionary doesn't..."
   ]
  },
  {
   "cell_type": "code",
   "execution_count": 17,
   "metadata": {},
   "outputs": [
    {
     "data": {
      "text/plain": [
       "three    3\n",
       "two      2\n",
       "four     4\n",
       "dtype: int64"
      ]
     },
     "execution_count": 17,
     "metadata": {},
     "output_type": "execute_result"
    }
   ],
   "source": [
    "sn['three':'four']"
   ]
  },
  {
   "cell_type": "markdown",
   "metadata": {},
   "source": [
    "N.B. label based indexes are _inclusive_ of the `stop` value. This is different from most other slices you'll see in python, but this can cause a little confusion. Basically it boils down to the idea that there isn't always a natural \"next\" object in a hash (notice that the rows aren't sorted beyond what we specified manually in the index).\n",
    "\n",
    "If you use numbers to do the slice, you'll get the familiar python behaviour\n"
   ]
  },
  {
   "cell_type": "code",
   "execution_count": 19,
   "metadata": {},
   "outputs": [
    {
     "data": {
      "text/plain": [
       "three    3\n",
       "two      2\n",
       "dtype: int64"
      ]
     },
     "execution_count": 19,
     "metadata": {},
     "output_type": "execute_result"
    }
   ],
   "source": [
    "sn[1:3]"
   ]
  },
  {
   "cell_type": "markdown",
   "metadata": {},
   "source": [
    "Series have a `keys()` method, but it returns an index object"
   ]
  },
  {
   "cell_type": "code",
   "execution_count": 20,
   "metadata": {},
   "outputs": [
    {
     "data": {
      "text/plain": [
       "Index(['one', 'three', 'two', 'four', 'five'], dtype='object')"
      ]
     },
     "execution_count": 20,
     "metadata": {},
     "output_type": "execute_result"
    }
   ],
   "source": [
    "sn.keys()"
   ]
  },
  {
   "cell_type": "markdown",
   "metadata": {},
   "source": [
    "Element by element statements evaluate to Booleans"
   ]
  },
  {
   "cell_type": "code",
   "execution_count": 21,
   "metadata": {},
   "outputs": [
    {
     "data": {
      "text/plain": [
       "one      False\n",
       "three     True\n",
       "two      False\n",
       "four      True\n",
       "five      True\n",
       "dtype: bool"
      ]
     },
     "execution_count": 21,
     "metadata": {},
     "output_type": "execute_result"
    }
   ],
   "source": [
    "sn > 2"
   ]
  },
  {
   "cell_type": "markdown",
   "metadata": {},
   "source": [
    "and if you remember the material on numpy fancy indexing, this can be very useful"
   ]
  },
  {
   "cell_type": "code",
   "execution_count": 22,
   "metadata": {},
   "outputs": [
    {
     "data": {
      "text/plain": [
       "three    3\n",
       "four     4\n",
       "five     5\n",
       "dtype: int64"
      ]
     },
     "execution_count": 22,
     "metadata": {},
     "output_type": "execute_result"
    }
   ],
   "source": [
    "sn[sn > 2]"
   ]
  },
  {
   "cell_type": "markdown",
   "metadata": {},
   "source": [
    "There are also some extra indexing methods available to you: `.loc`, `.iloc`, `.ix`. We'll discuss these more in the context of `DataFrames`, but basically they let you be much more explicit about exactly what you want to return. At a very basic level, they can help you avoid label confusion..."
   ]
  },
  {
   "cell_type": "code",
   "execution_count": 24,
   "metadata": {},
   "outputs": [
    {
     "data": {
      "text/plain": [
       "3        apple\n",
       "2       banana\n",
       "1       orange\n",
       "7    pineapple\n",
       "dtype: object"
      ]
     },
     "execution_count": 24,
     "metadata": {},
     "output_type": "execute_result"
    }
   ],
   "source": [
    "sa = pd.Series(\n",
    "    data=['apple', 'banana', 'orange', 'pineapple'],\n",
    "    index=[3, 2, 1, 7]\n",
    ")\n",
    "\n",
    "sa"
   ]
  },
  {
   "cell_type": "markdown",
   "metadata": {},
   "source": [
    "Suppose we want the value in the 4th row..."
   ]
  },
  {
   "cell_type": "code",
   "execution_count": 26,
   "metadata": {},
   "outputs": [
    {
     "data": {
      "text/plain": [
       "'apple'"
      ]
     },
     "execution_count": 26,
     "metadata": {},
     "output_type": "execute_result"
    }
   ],
   "source": [
    "sa[3]"
   ]
  },
  {
   "cell_type": "markdown",
   "metadata": {},
   "source": [
    "Nope, `3` was interperted as a label. There's an ambiguity because of the type of the index. Fortunately `pandas` gives us a pair of functions to avoid that problem\n",
    "\n",
    "  * `.iloc[]`: Purely integer-location based indexing.\n",
    "  * `.loc[]` : Purely label based indexing."
   ]
  },
  {
   "cell_type": "code",
   "execution_count": 27,
   "metadata": {},
   "outputs": [
    {
     "data": {
      "text/plain": [
       "'apple'"
      ]
     },
     "execution_count": 27,
     "metadata": {},
     "output_type": "execute_result"
    }
   ],
   "source": [
    "sa.loc[3]"
   ]
  },
  {
   "cell_type": "code",
   "execution_count": 29,
   "metadata": {},
   "outputs": [
    {
     "data": {
      "text/plain": [
       "'pineapple'"
      ]
     },
     "execution_count": 29,
     "metadata": {},
     "output_type": "execute_result"
    }
   ],
   "source": [
    "sa.iloc[3]"
   ]
  },
  {
   "cell_type": "markdown",
   "metadata": {},
   "source": [
    "And `.iloc` will also work with slices"
   ]
  },
  {
   "cell_type": "code",
   "execution_count": 30,
   "metadata": {},
   "outputs": [
    {
     "data": {
      "text/plain": [
       "3     apple\n",
       "1    orange\n",
       "dtype: object"
      ]
     },
     "execution_count": 30,
     "metadata": {},
     "output_type": "execute_result"
    }
   ],
   "source": [
    "sa.iloc[:3:2]"
   ]
  },
  {
   "cell_type": "markdown",
   "metadata": {},
   "source": [
    "Logical and fancy indexing work here too"
   ]
  },
  {
   "cell_type": "code",
   "execution_count": 31,
   "metadata": {},
   "outputs": [
    {
     "data": {
      "text/plain": [
       "1       orange\n",
       "2       banana\n",
       "7    pineapple\n",
       "dtype: object"
      ]
     },
     "execution_count": 31,
     "metadata": {},
     "output_type": "execute_result"
    }
   ],
   "source": [
    "sa.iloc[[2, 1, 3]]"
   ]
  },
  {
   "cell_type": "markdown",
   "metadata": {},
   "source": [
    "Logical indexing works with these methods as well..."
   ]
  },
  {
   "cell_type": "code",
   "execution_count": 32,
   "metadata": {},
   "outputs": [
    {
     "data": {
      "text/plain": [
       "four    4\n",
       "five    5\n",
       "dtype: int64"
      ]
     },
     "execution_count": 32,
     "metadata": {},
     "output_type": "execute_result"
    }
   ],
   "source": [
    "sn.loc[sn>3]"
   ]
  },
  {
   "cell_type": "markdown",
   "metadata": {},
   "source": [
    "## DataFrames\n",
    "\n",
    "Most of the time you will be using `DataFrames` rather than `Series`, but at a first pass it is OK to think of `DataFrames` as a bunch of `Series` stuck together with a common index. \n",
    "\n",
    "\n",
    "| Index | Value1 | Value2 | \n",
    "|-------|--------|--------|\n",
    "|   0   |  0.12  |   'a'  |\n",
    "|   1   |  0.24  |   'b'  |\n",
    "|   2   |  0.36  |   'c'  |\n",
    "|   3   |  0.48  |   'd'  |\n",
    "\n",
    "The rules discussed above for the index stay the same but notice that we can now have different types in the various columns"
   ]
  },
  {
   "cell_type": "code",
   "execution_count": 33,
   "metadata": {},
   "outputs": [
    {
     "data": {
      "text/html": [
       "<div>\n",
       "<style scoped>\n",
       "    .dataframe tbody tr th:only-of-type {\n",
       "        vertical-align: middle;\n",
       "    }\n",
       "\n",
       "    .dataframe tbody tr th {\n",
       "        vertical-align: top;\n",
       "    }\n",
       "\n",
       "    .dataframe thead th {\n",
       "        text-align: right;\n",
       "    }\n",
       "</style>\n",
       "<table border=\"1\" class=\"dataframe\">\n",
       "  <thead>\n",
       "    <tr style=\"text-align: right;\">\n",
       "      <th></th>\n",
       "      <th>floats</th>\n",
       "      <th>ints</th>\n",
       "    </tr>\n",
       "  </thead>\n",
       "  <tbody>\n",
       "    <tr>\n",
       "      <th>five</th>\n",
       "      <td>5.0</td>\n",
       "      <td>5</td>\n",
       "    </tr>\n",
       "    <tr>\n",
       "      <th>four</th>\n",
       "      <td>4.0</td>\n",
       "      <td>4</td>\n",
       "    </tr>\n",
       "    <tr>\n",
       "      <th>one</th>\n",
       "      <td>1.0</td>\n",
       "      <td>1</td>\n",
       "    </tr>\n",
       "    <tr>\n",
       "      <th>three</th>\n",
       "      <td>3.0</td>\n",
       "      <td>3</td>\n",
       "    </tr>\n",
       "    <tr>\n",
       "      <th>two</th>\n",
       "      <td>2.0</td>\n",
       "      <td>2</td>\n",
       "    </tr>\n",
       "  </tbody>\n",
       "</table>\n",
       "</div>"
      ],
      "text/plain": [
       "       floats  ints\n",
       "five      5.0     5\n",
       "four      4.0     4\n",
       "one       1.0     1\n",
       "three     3.0     3\n",
       "two       2.0     2"
      ]
     },
     "execution_count": 33,
     "metadata": {},
     "output_type": "execute_result"
    }
   ],
   "source": [
    "d1 = pd.DataFrame({'floats': sm, 'ints': sn})\n",
    "d1"
   ]
  },
  {
   "cell_type": "code",
   "execution_count": 35,
   "metadata": {},
   "outputs": [
    {
     "data": {
      "text/plain": [
       "floats    float64\n",
       "ints        int64\n",
       "dtype: object"
      ]
     },
     "execution_count": 35,
     "metadata": {},
     "output_type": "execute_result"
    }
   ],
   "source": [
    "d1.dtypes"
   ]
  },
  {
   "cell_type": "markdown",
   "metadata": {},
   "source": [
    "### DataFrame Attributes\n",
    "\n",
    "We've already seen some of the attributes of the DataFrame (column etc.) but there are quite a few available, take a look at `dtypes`, `ndim`, `shape`"
   ]
  },
  {
   "cell_type": "code",
   "execution_count": 36,
   "metadata": {},
   "outputs": [
    {
     "data": {
      "text/plain": [
       "Index(['five', 'four', 'one', 'three', 'two'], dtype='object')"
      ]
     },
     "execution_count": 36,
     "metadata": {},
     "output_type": "execute_result"
    }
   ],
   "source": [
    "d1.index"
   ]
  },
  {
   "cell_type": "code",
   "execution_count": 37,
   "metadata": {},
   "outputs": [
    {
     "data": {
      "text/plain": [
       "Index(['floats', 'ints'], dtype='object')"
      ]
     },
     "execution_count": 37,
     "metadata": {},
     "output_type": "execute_result"
    }
   ],
   "source": [
    "d1.columns"
   ]
  },
  {
   "cell_type": "code",
   "execution_count": 38,
   "metadata": {},
   "outputs": [
    {
     "data": {
      "text/plain": [
       "(5, 2)"
      ]
     },
     "execution_count": 38,
     "metadata": {},
     "output_type": "execute_result"
    }
   ],
   "source": [
    "d1.shape"
   ]
  },
  {
   "cell_type": "code",
   "execution_count": 39,
   "metadata": {},
   "outputs": [
    {
     "data": {
      "text/plain": [
       "floats    float64\n",
       "ints        int64\n",
       "dtype: object"
      ]
     },
     "execution_count": 39,
     "metadata": {},
     "output_type": "execute_result"
    }
   ],
   "source": [
    "d1.dtypes"
   ]
  },
  {
   "cell_type": "markdown",
   "metadata": {},
   "source": [
    "### Indexing\n",
    "\n",
    "When indexing a dataframe, the default is to give you the column (you can also use the syntax `d1.ints`)"
   ]
  },
  {
   "cell_type": "code",
   "execution_count": 40,
   "metadata": {},
   "outputs": [
    {
     "data": {
      "text/plain": [
       "five     5\n",
       "four     4\n",
       "one      1\n",
       "three    3\n",
       "two      2\n",
       "Name: ints, dtype: int64"
      ]
     },
     "execution_count": 40,
     "metadata": {},
     "output_type": "execute_result"
    }
   ],
   "source": [
    "d1['ints']\n"
   ]
  },
  {
   "cell_type": "markdown",
   "metadata": {},
   "source": [
    "If you are looking for the row, then try `.loc` with the row index value"
   ]
  },
  {
   "cell_type": "code",
   "execution_count": 41,
   "metadata": {},
   "outputs": [
    {
     "data": {
      "text/plain": [
       "floats    1.0\n",
       "ints      1.0\n",
       "Name: one, dtype: float64"
      ]
     },
     "execution_count": 41,
     "metadata": {},
     "output_type": "execute_result"
    }
   ],
   "source": [
    "d1.loc['one']"
   ]
  },
  {
   "cell_type": "markdown",
   "metadata": {},
   "source": [
    "In fact, you probably want to lean towards `.loc` when you want to subset rows and/or columns. It is much more flexible and helps pandas resolve some potential ambiguities about what you want to select. Here is a column selection..."
   ]
  },
  {
   "cell_type": "code",
   "execution_count": 45,
   "metadata": {},
   "outputs": [
    {
     "data": {
      "text/html": [
       "<div>\n",
       "<style scoped>\n",
       "    .dataframe tbody tr th:only-of-type {\n",
       "        vertical-align: middle;\n",
       "    }\n",
       "\n",
       "    .dataframe tbody tr th {\n",
       "        vertical-align: top;\n",
       "    }\n",
       "\n",
       "    .dataframe thead th {\n",
       "        text-align: right;\n",
       "    }\n",
       "</style>\n",
       "<table border=\"1\" class=\"dataframe\">\n",
       "  <thead>\n",
       "    <tr style=\"text-align: right;\">\n",
       "      <th></th>\n",
       "      <th>ints</th>\n",
       "      <th>floats</th>\n",
       "    </tr>\n",
       "  </thead>\n",
       "  <tbody>\n",
       "    <tr>\n",
       "      <th>four</th>\n",
       "      <td>4</td>\n",
       "      <td>4.0</td>\n",
       "    </tr>\n",
       "    <tr>\n",
       "      <th>one</th>\n",
       "      <td>1</td>\n",
       "      <td>1.0</td>\n",
       "    </tr>\n",
       "    <tr>\n",
       "      <th>three</th>\n",
       "      <td>3</td>\n",
       "      <td>3.0</td>\n",
       "    </tr>\n",
       "  </tbody>\n",
       "</table>\n",
       "</div>"
      ],
      "text/plain": [
       "       ints  floats\n",
       "four      4     4.0\n",
       "one       1     1.0\n",
       "three     3     3.0"
      ]
     },
     "execution_count": 45,
     "metadata": {},
     "output_type": "execute_result"
    }
   ],
   "source": [
    "d1.loc['four':'three', ['ints', 'floats']]"
   ]
  },
  {
   "cell_type": "markdown",
   "metadata": {},
   "source": [
    "(The square brackets around 'ints' here tell pandas I want a `DataFrame` to be returned, rather than a `Series`)"
   ]
  },
  {
   "cell_type": "code",
   "execution_count": 47,
   "metadata": {},
   "outputs": [
    {
     "data": {
      "text/html": [
       "<div>\n",
       "<style scoped>\n",
       "    .dataframe tbody tr th:only-of-type {\n",
       "        vertical-align: middle;\n",
       "    }\n",
       "\n",
       "    .dataframe tbody tr th {\n",
       "        vertical-align: top;\n",
       "    }\n",
       "\n",
       "    .dataframe thead th {\n",
       "        text-align: right;\n",
       "    }\n",
       "</style>\n",
       "<table border=\"1\" class=\"dataframe\">\n",
       "  <thead>\n",
       "    <tr style=\"text-align: right;\">\n",
       "      <th></th>\n",
       "      <th>floats</th>\n",
       "      <th>ints</th>\n",
       "    </tr>\n",
       "  </thead>\n",
       "  <tbody>\n",
       "    <tr>\n",
       "      <th>five</th>\n",
       "      <td>5.0</td>\n",
       "      <td>5</td>\n",
       "    </tr>\n",
       "    <tr>\n",
       "      <th>four</th>\n",
       "      <td>4.0</td>\n",
       "      <td>4</td>\n",
       "    </tr>\n",
       "  </tbody>\n",
       "</table>\n",
       "</div>"
      ],
      "text/plain": [
       "      floats  ints\n",
       "five     5.0     5\n",
       "four     4.0     4"
      ]
     },
     "execution_count": 47,
     "metadata": {},
     "output_type": "execute_result"
    }
   ],
   "source": [
    "d1.iloc[:2]"
   ]
  },
  {
   "cell_type": "code",
   "execution_count": 48,
   "metadata": {},
   "outputs": [
    {
     "data": {
      "text/plain": [
       "five    5\n",
       "four    4\n",
       "Name: ints, dtype: int64"
      ]
     },
     "execution_count": 48,
     "metadata": {},
     "output_type": "execute_result"
    }
   ],
   "source": [
    "# `.iloc` will interprete both row and column specifiers as numerical positions\n",
    "d1.iloc[:2, 1]"
   ]
  },
  {
   "cell_type": "markdown",
   "metadata": {},
   "source": [
    "Logical/fancy indexing works with `.loc` and `.iloc` as well, but remember the parentheses or `&` will be interpreted as a bitwise operator."
   ]
  },
  {
   "cell_type": "code",
   "execution_count": 49,
   "metadata": {},
   "outputs": [
    {
     "data": {
      "text/html": [
       "<div>\n",
       "<style scoped>\n",
       "    .dataframe tbody tr th:only-of-type {\n",
       "        vertical-align: middle;\n",
       "    }\n",
       "\n",
       "    .dataframe tbody tr th {\n",
       "        vertical-align: top;\n",
       "    }\n",
       "\n",
       "    .dataframe thead th {\n",
       "        text-align: right;\n",
       "    }\n",
       "</style>\n",
       "<table border=\"1\" class=\"dataframe\">\n",
       "  <thead>\n",
       "    <tr style=\"text-align: right;\">\n",
       "      <th></th>\n",
       "      <th>ints</th>\n",
       "    </tr>\n",
       "  </thead>\n",
       "  <tbody>\n",
       "    <tr>\n",
       "      <th>three</th>\n",
       "      <td>3</td>\n",
       "    </tr>\n",
       "  </tbody>\n",
       "</table>\n",
       "</div>"
      ],
      "text/plain": [
       "       ints\n",
       "three     3"
      ]
     },
     "execution_count": 49,
     "metadata": {},
     "output_type": "execute_result"
    }
   ],
   "source": [
    "d1.loc[(d1['ints'] > 2) & (d1['floats'] < 4), ['ints']]"
   ]
  },
  {
   "cell_type": "markdown",
   "metadata": {},
   "source": [
    "Wherever possible, `pandas` (like `numpy`) will try to return a view on the same data rather than a copy, but because the indexing possibilities in `pandas` are much greater, the specific rules are more subtle and we won't get into them now, suffice to say, `.loc` and `.iloc` will generally help resolve the ambiguity and if you really need to break the link between two dataframes you can use the `.copy()` method."
   ]
  },
  {
   "cell_type": "code",
   "execution_count": 50,
   "metadata": {},
   "outputs": [
    {
     "data": {
      "text/plain": [
       "True"
      ]
     },
     "execution_count": 50,
     "metadata": {},
     "output_type": "execute_result"
    }
   ],
   "source": [
    "d1a = d1\n",
    "d1a is d1"
   ]
  },
  {
   "cell_type": "code",
   "execution_count": 51,
   "metadata": {},
   "outputs": [
    {
     "data": {
      "text/plain": [
       "False"
      ]
     },
     "execution_count": 51,
     "metadata": {},
     "output_type": "execute_result"
    }
   ],
   "source": [
    "d1b = d1.copy()\n",
    "d1b is d1"
   ]
  },
  {
   "cell_type": "markdown",
   "metadata": {},
   "source": [
    "### Changing DataFrames\n",
    "\n",
    "`DataFrames` are mutable; we can change the values in rows and columns and we can add/remove columns. `pandas` will usually try to do this in place, but some modifications (e.g. changing column dtype) require implicit data copies."
   ]
  },
  {
   "cell_type": "code",
   "execution_count": 52,
   "metadata": {},
   "outputs": [
    {
     "data": {
      "text/html": [
       "<div>\n",
       "<style scoped>\n",
       "    .dataframe tbody tr th:only-of-type {\n",
       "        vertical-align: middle;\n",
       "    }\n",
       "\n",
       "    .dataframe tbody tr th {\n",
       "        vertical-align: top;\n",
       "    }\n",
       "\n",
       "    .dataframe thead th {\n",
       "        text-align: right;\n",
       "    }\n",
       "</style>\n",
       "<table border=\"1\" class=\"dataframe\">\n",
       "  <thead>\n",
       "    <tr style=\"text-align: right;\">\n",
       "      <th></th>\n",
       "      <th>floats</th>\n",
       "      <th>ints</th>\n",
       "    </tr>\n",
       "  </thead>\n",
       "  <tbody>\n",
       "    <tr>\n",
       "      <th>five</th>\n",
       "      <td>5.0</td>\n",
       "      <td>5</td>\n",
       "    </tr>\n",
       "    <tr>\n",
       "      <th>four</th>\n",
       "      <td>3.0</td>\n",
       "      <td>3</td>\n",
       "    </tr>\n",
       "    <tr>\n",
       "      <th>one</th>\n",
       "      <td>1.0</td>\n",
       "      <td>1</td>\n",
       "    </tr>\n",
       "    <tr>\n",
       "      <th>three</th>\n",
       "      <td>3.0</td>\n",
       "      <td>3</td>\n",
       "    </tr>\n",
       "    <tr>\n",
       "      <th>two</th>\n",
       "      <td>2.0</td>\n",
       "      <td>2</td>\n",
       "    </tr>\n",
       "  </tbody>\n",
       "</table>\n",
       "</div>"
      ],
      "text/plain": [
       "       floats  ints\n",
       "five      5.0     5\n",
       "four      3.0     3\n",
       "one       1.0     1\n",
       "three     3.0     3\n",
       "two       2.0     2"
      ]
     },
     "execution_count": 52,
     "metadata": {},
     "output_type": "execute_result"
    }
   ],
   "source": [
    "d1.iloc[1] = (3.0, 3)\n",
    "d1"
   ]
  },
  {
   "cell_type": "markdown",
   "metadata": {},
   "source": [
    "Add a new column"
   ]
  },
  {
   "cell_type": "code",
   "execution_count": 53,
   "metadata": {},
   "outputs": [
    {
     "data": {
      "text/html": [
       "<div>\n",
       "<style scoped>\n",
       "    .dataframe tbody tr th:only-of-type {\n",
       "        vertical-align: middle;\n",
       "    }\n",
       "\n",
       "    .dataframe tbody tr th {\n",
       "        vertical-align: top;\n",
       "    }\n",
       "\n",
       "    .dataframe thead th {\n",
       "        text-align: right;\n",
       "    }\n",
       "</style>\n",
       "<table border=\"1\" class=\"dataframe\">\n",
       "  <thead>\n",
       "    <tr style=\"text-align: right;\">\n",
       "      <th></th>\n",
       "      <th>floats</th>\n",
       "      <th>ints</th>\n",
       "      <th>ratio</th>\n",
       "    </tr>\n",
       "  </thead>\n",
       "  <tbody>\n",
       "    <tr>\n",
       "      <th>five</th>\n",
       "      <td>5.0</td>\n",
       "      <td>5</td>\n",
       "      <td>0.5</td>\n",
       "    </tr>\n",
       "    <tr>\n",
       "      <th>four</th>\n",
       "      <td>3.0</td>\n",
       "      <td>3</td>\n",
       "      <td>0.5</td>\n",
       "    </tr>\n",
       "    <tr>\n",
       "      <th>one</th>\n",
       "      <td>1.0</td>\n",
       "      <td>1</td>\n",
       "      <td>0.5</td>\n",
       "    </tr>\n",
       "    <tr>\n",
       "      <th>three</th>\n",
       "      <td>3.0</td>\n",
       "      <td>3</td>\n",
       "      <td>0.5</td>\n",
       "    </tr>\n",
       "    <tr>\n",
       "      <th>two</th>\n",
       "      <td>2.0</td>\n",
       "      <td>2</td>\n",
       "      <td>0.5</td>\n",
       "    </tr>\n",
       "  </tbody>\n",
       "</table>\n",
       "</div>"
      ],
      "text/plain": [
       "       floats  ints  ratio\n",
       "five      5.0     5    0.5\n",
       "four      3.0     3    0.5\n",
       "one       1.0     1    0.5\n",
       "three     3.0     3    0.5\n",
       "two       2.0     2    0.5"
      ]
     },
     "execution_count": 53,
     "metadata": {},
     "output_type": "execute_result"
    }
   ],
   "source": [
    "d1['ratio'] = d1['ints'] / (2 * d1['floats'])\n",
    "d1"
   ]
  },
  {
   "cell_type": "markdown",
   "metadata": {},
   "source": [
    "\"Patching up\" dataframes by modifying individual cells or groups of cells can be a little bit tricky. The basic reason is that a lot of the operations you would like to use to address the cell will return a copy of the dataframe but in general you want to modify the original."
   ]
  },
  {
   "cell_type": "code",
   "execution_count": 55,
   "metadata": {},
   "outputs": [
    {
     "name": "stderr",
     "output_type": "stream",
     "text": [
      "/tmp/ipykernel_161/3754205575.py:1: SettingWithCopyWarning: \n",
      "A value is trying to be set on a copy of a slice from a DataFrame\n",
      "\n",
      "See the caveats in the documentation: https://pandas.pydata.org/pandas-docs/stable/user_guide/indexing.html#returning-a-view-versus-a-copy\n",
      "  d1['floats']['five'] = 5.1\n"
     ]
    }
   ],
   "source": [
    "d1['floats']['five'] = 5.1"
   ]
  },
  {
   "cell_type": "markdown",
   "metadata": {},
   "source": [
    "This is an example of chained indexing. The heart of the issue is described in the warning you'll see given above, but if you only need to change a single (scalar) value you can use `pd.DataFrame.at`"
   ]
  },
  {
   "cell_type": "code",
   "execution_count": 56,
   "metadata": {},
   "outputs": [],
   "source": [
    "d1.at['five', 'floats'] = 5.0"
   ]
  },
  {
   "cell_type": "markdown",
   "metadata": {},
   "source": [
    "For more general cases you can use `pd.DataFrame.loc`, (N.B. Avoid chained indexing ([][])"
   ]
  },
  {
   "cell_type": "code",
   "execution_count": 57,
   "metadata": {},
   "outputs": [
    {
     "data": {
      "text/html": [
       "<div>\n",
       "<style scoped>\n",
       "    .dataframe tbody tr th:only-of-type {\n",
       "        vertical-align: middle;\n",
       "    }\n",
       "\n",
       "    .dataframe tbody tr th {\n",
       "        vertical-align: top;\n",
       "    }\n",
       "\n",
       "    .dataframe thead th {\n",
       "        text-align: right;\n",
       "    }\n",
       "</style>\n",
       "<table border=\"1\" class=\"dataframe\">\n",
       "  <thead>\n",
       "    <tr style=\"text-align: right;\">\n",
       "      <th></th>\n",
       "      <th>floats</th>\n",
       "      <th>ints</th>\n",
       "      <th>ratio</th>\n",
       "    </tr>\n",
       "  </thead>\n",
       "  <tbody>\n",
       "    <tr>\n",
       "      <th>five</th>\n",
       "      <td>5.1</td>\n",
       "      <td>5</td>\n",
       "      <td>0.5</td>\n",
       "    </tr>\n",
       "    <tr>\n",
       "      <th>four</th>\n",
       "      <td>3.1</td>\n",
       "      <td>3</td>\n",
       "      <td>0.5</td>\n",
       "    </tr>\n",
       "    <tr>\n",
       "      <th>one</th>\n",
       "      <td>1.1</td>\n",
       "      <td>1</td>\n",
       "      <td>0.5</td>\n",
       "    </tr>\n",
       "    <tr>\n",
       "      <th>three</th>\n",
       "      <td>3.1</td>\n",
       "      <td>3</td>\n",
       "      <td>0.5</td>\n",
       "    </tr>\n",
       "    <tr>\n",
       "      <th>two</th>\n",
       "      <td>2.1</td>\n",
       "      <td>2</td>\n",
       "      <td>0.5</td>\n",
       "    </tr>\n",
       "  </tbody>\n",
       "</table>\n",
       "</div>"
      ],
      "text/plain": [
       "       floats  ints  ratio\n",
       "five      5.1     5    0.5\n",
       "four      3.1     3    0.5\n",
       "one       1.1     1    0.5\n",
       "three     3.1     3    0.5\n",
       "two       2.1     2    0.5"
      ]
     },
     "execution_count": 57,
     "metadata": {},
     "output_type": "execute_result"
    }
   ],
   "source": [
    "d1.loc[:, 'floats'] += 0.1\n",
    "d1"
   ]
  },
  {
   "cell_type": "markdown",
   "metadata": {},
   "source": [
    "`pandas` also has facilities like `fillna` to fill in multiple missing values using various strategies, we'll look at those later."
   ]
  },
  {
   "cell_type": "markdown",
   "metadata": {},
   "source": [
    "## DataFrame Methods\n",
    "\n",
    "There are *lots* of methods for operating on DataFrames, have a look at the tab completion and explore the documentation for them. In particular, take a look at the help for `describe`, `head` and `tail`. These are great for orienting yourself with a new dataset"
   ]
  },
  {
   "cell_type": "code",
   "execution_count": 59,
   "metadata": {},
   "outputs": [
    {
     "data": {
      "text/html": [
       "<div>\n",
       "<style scoped>\n",
       "    .dataframe tbody tr th:only-of-type {\n",
       "        vertical-align: middle;\n",
       "    }\n",
       "\n",
       "    .dataframe tbody tr th {\n",
       "        vertical-align: top;\n",
       "    }\n",
       "\n",
       "    .dataframe thead th {\n",
       "        text-align: right;\n",
       "    }\n",
       "</style>\n",
       "<table border=\"1\" class=\"dataframe\">\n",
       "  <thead>\n",
       "    <tr style=\"text-align: right;\">\n",
       "      <th></th>\n",
       "      <th>floats</th>\n",
       "      <th>ints</th>\n",
       "      <th>ratio</th>\n",
       "    </tr>\n",
       "  </thead>\n",
       "  <tbody>\n",
       "    <tr>\n",
       "      <th>count</th>\n",
       "      <td>5.00000</td>\n",
       "      <td>5.00000</td>\n",
       "      <td>5.0</td>\n",
       "    </tr>\n",
       "    <tr>\n",
       "      <th>mean</th>\n",
       "      <td>2.90000</td>\n",
       "      <td>2.80000</td>\n",
       "      <td>0.5</td>\n",
       "    </tr>\n",
       "    <tr>\n",
       "      <th>std</th>\n",
       "      <td>1.48324</td>\n",
       "      <td>1.48324</td>\n",
       "      <td>0.0</td>\n",
       "    </tr>\n",
       "    <tr>\n",
       "      <th>min</th>\n",
       "      <td>1.10000</td>\n",
       "      <td>1.00000</td>\n",
       "      <td>0.5</td>\n",
       "    </tr>\n",
       "    <tr>\n",
       "      <th>25%</th>\n",
       "      <td>2.10000</td>\n",
       "      <td>2.00000</td>\n",
       "      <td>0.5</td>\n",
       "    </tr>\n",
       "    <tr>\n",
       "      <th>50%</th>\n",
       "      <td>3.10000</td>\n",
       "      <td>3.00000</td>\n",
       "      <td>0.5</td>\n",
       "    </tr>\n",
       "    <tr>\n",
       "      <th>75%</th>\n",
       "      <td>3.10000</td>\n",
       "      <td>3.00000</td>\n",
       "      <td>0.5</td>\n",
       "    </tr>\n",
       "    <tr>\n",
       "      <th>max</th>\n",
       "      <td>5.10000</td>\n",
       "      <td>5.00000</td>\n",
       "      <td>0.5</td>\n",
       "    </tr>\n",
       "  </tbody>\n",
       "</table>\n",
       "</div>"
      ],
      "text/plain": [
       "        floats     ints  ratio\n",
       "count  5.00000  5.00000    5.0\n",
       "mean   2.90000  2.80000    0.5\n",
       "std    1.48324  1.48324    0.0\n",
       "min    1.10000  1.00000    0.5\n",
       "25%    2.10000  2.00000    0.5\n",
       "50%    3.10000  3.00000    0.5\n",
       "75%    3.10000  3.00000    0.5\n",
       "max    5.10000  5.00000    0.5"
      ]
     },
     "execution_count": 59,
     "metadata": {},
     "output_type": "execute_result"
    }
   ],
   "source": [
    "d1.describe()"
   ]
  },
  {
   "cell_type": "markdown",
   "metadata": {},
   "source": [
    "We won't have time to dive into all of the methods but we'll sample a few, then you should explore the documentation for others. Some of the most often used are\n",
    "\n",
    "* `min`, `max`\n",
    "* `mean`, `mode`, `median`\n",
    "* `max`, `min`, `idxmax`, `idxmin`\n",
    "* `any`, `all`\n",
    "* `astype`\n",
    "* `dropna`\n",
    "* `sort_index`, `sort_values`\n",
    "\n",
    "Generally these will return another `DataFrame` with the results you are looking for, but you can also pass the `inplace=True` keyword argument which will modify the `DataFrame` in place and save some memory."
   ]
  },
  {
   "cell_type": "code",
   "execution_count": 60,
   "metadata": {},
   "outputs": [
    {
     "data": {
      "text/plain": [
       "floats    1.1\n",
       "ints      1.0\n",
       "ratio     0.5\n",
       "dtype: float64"
      ]
     },
     "execution_count": 60,
     "metadata": {},
     "output_type": "execute_result"
    }
   ],
   "source": [
    "d1.min()"
   ]
  },
  {
   "cell_type": "code",
   "execution_count": 61,
   "metadata": {},
   "outputs": [
    {
     "data": {
      "text/plain": [
       "floats     True\n",
       "ints       True\n",
       "ratio     False\n",
       "dtype: bool"
      ]
     },
     "execution_count": 61,
     "metadata": {},
     "output_type": "execute_result"
    }
   ],
   "source": [
    "(d1 > 3).any()"
   ]
  },
  {
   "cell_type": "markdown",
   "metadata": {},
   "source": [
    "You can coerce values to different type"
   ]
  },
  {
   "cell_type": "code",
   "execution_count": 62,
   "metadata": {},
   "outputs": [
    {
     "data": {
      "text/plain": [
       "five     5\n",
       "four     3\n",
       "one      1\n",
       "three    3\n",
       "two      2\n",
       "Name: floats, dtype: int64"
      ]
     },
     "execution_count": 62,
     "metadata": {},
     "output_type": "execute_result"
    }
   ],
   "source": [
    "d1['floats'].astype(int)"
   ]
  },
  {
   "cell_type": "markdown",
   "metadata": {},
   "source": [
    "And sort values (or indices)"
   ]
  },
  {
   "cell_type": "code",
   "execution_count": 63,
   "metadata": {},
   "outputs": [
    {
     "data": {
      "text/html": [
       "<div>\n",
       "<style scoped>\n",
       "    .dataframe tbody tr th:only-of-type {\n",
       "        vertical-align: middle;\n",
       "    }\n",
       "\n",
       "    .dataframe tbody tr th {\n",
       "        vertical-align: top;\n",
       "    }\n",
       "\n",
       "    .dataframe thead th {\n",
       "        text-align: right;\n",
       "    }\n",
       "</style>\n",
       "<table border=\"1\" class=\"dataframe\">\n",
       "  <thead>\n",
       "    <tr style=\"text-align: right;\">\n",
       "      <th></th>\n",
       "      <th>floats</th>\n",
       "      <th>ints</th>\n",
       "      <th>ratio</th>\n",
       "    </tr>\n",
       "  </thead>\n",
       "  <tbody>\n",
       "    <tr>\n",
       "      <th>one</th>\n",
       "      <td>1.1</td>\n",
       "      <td>1</td>\n",
       "      <td>0.5</td>\n",
       "    </tr>\n",
       "    <tr>\n",
       "      <th>two</th>\n",
       "      <td>2.1</td>\n",
       "      <td>2</td>\n",
       "      <td>0.5</td>\n",
       "    </tr>\n",
       "    <tr>\n",
       "      <th>four</th>\n",
       "      <td>3.1</td>\n",
       "      <td>3</td>\n",
       "      <td>0.5</td>\n",
       "    </tr>\n",
       "    <tr>\n",
       "      <th>three</th>\n",
       "      <td>3.1</td>\n",
       "      <td>3</td>\n",
       "      <td>0.5</td>\n",
       "    </tr>\n",
       "    <tr>\n",
       "      <th>five</th>\n",
       "      <td>5.1</td>\n",
       "      <td>5</td>\n",
       "      <td>0.5</td>\n",
       "    </tr>\n",
       "  </tbody>\n",
       "</table>\n",
       "</div>"
      ],
      "text/plain": [
       "       floats  ints  ratio\n",
       "one       1.1     1    0.5\n",
       "two       2.1     2    0.5\n",
       "four      3.1     3    0.5\n",
       "three     3.1     3    0.5\n",
       "five      5.1     5    0.5"
      ]
     },
     "execution_count": 63,
     "metadata": {},
     "output_type": "execute_result"
    }
   ],
   "source": [
    "d1.sort_values('floats')"
   ]
  },
  {
   "cell_type": "markdown",
   "metadata": {},
   "source": [
    "The `dropna` method can come in handy sometimes. In general, pandas is very good at [handling missing data](https://pandas.pydata.org/pandas-docs/stable/user_guide/missing_data.html), but in some other modules will choke when they encounter a `np.NaN`"
   ]
  },
  {
   "cell_type": "code",
   "execution_count": 64,
   "metadata": {},
   "outputs": [],
   "source": [
    "d1.at['three', 'floats'] = np.NaN"
   ]
  },
  {
   "cell_type": "markdown",
   "metadata": {},
   "source": [
    "Operating directly on the numpy array..."
   ]
  },
  {
   "cell_type": "code",
   "execution_count": 65,
   "metadata": {},
   "outputs": [
    {
     "data": {
      "text/plain": [
       "nan"
      ]
     },
     "execution_count": 65,
     "metadata": {},
     "output_type": "execute_result"
    }
   ],
   "source": [
    "d1['floats'].values.mean()"
   ]
  },
  {
   "cell_type": "markdown",
   "metadata": {},
   "source": [
    "Operating through pandas..."
   ]
  },
  {
   "cell_type": "code",
   "execution_count": 66,
   "metadata": {},
   "outputs": [
    {
     "data": {
      "text/plain": [
       "2.8499999999999996"
      ]
     },
     "execution_count": 66,
     "metadata": {},
     "output_type": "execute_result"
    }
   ],
   "source": [
    "d1['floats'].mean()"
   ]
  },
  {
   "cell_type": "code",
   "execution_count": 67,
   "metadata": {},
   "outputs": [
    {
     "data": {
      "text/plain": [
       "2.8499999999999996"
      ]
     },
     "execution_count": 67,
     "metadata": {},
     "output_type": "execute_result"
    }
   ],
   "source": [
    "d1['floats'].dropna().values.mean()"
   ]
  },
  {
   "cell_type": "markdown",
   "metadata": {},
   "source": [
    "## Working with External Data\n",
    "\n",
    "Data comes in many forms from simple csv/json files, real-time APIs, structured binary files and many others. Try `pd.read_<TAB>` to see some of the `pandas` ingestion options. `read_csv` is the main workhorse for data sets which will fit on a single machine. It is way more flexible than it's name suggests (S3 buckets, https, compressed files, ...) and many of the arguments to `read_csv` will have equivalents for the other functions, so we'll take a closer look at it.\n",
    "    \n",
    "We need a CSV to work with. The city of Vancouver has an [open data catalog](https://vancouver.ca/your-government/open-data-catalogue.aspx), which has CSV for some of the datasets. There's a dataset which lists all of the [community gardens and food trees](https://opendata.vancouver.ca/explore/dataset/community-gardens-and-food-trees/information/) maintained by the city. A copy of it is available in this directory called `CommunityGardensAndFoodTrees.csv`"
   ]
  },
  {
   "cell_type": "code",
   "execution_count": 68,
   "metadata": {},
   "outputs": [],
   "source": [
    "#pd.read_csv?"
   ]
  },
  {
   "cell_type": "code",
   "execution_count": 76,
   "metadata": {},
   "outputs": [
    {
     "data": {
      "text/plain": [
       "(168, 19)"
      ]
     },
     "execution_count": 76,
     "metadata": {},
     "output_type": "execute_result"
    }
   ],
   "source": [
    "gardenDF = pd.read_csv(\n",
    "    \"https://opendata.vancouver.ca/explore/dataset/community-gardens-and-food-trees/download/?format=csv&timezone=America/Los_Angeles&lang=en&use_labels_for_header=true&csv_separator=%3B\",\n",
    "    delimiter=';'\n",
    ")\n",
    "gardenDF.shape"
   ]
  },
  {
   "cell_type": "markdown",
   "metadata": {},
   "source": [
    "So there are 168 rows, with 19 columns, here are the fist few rows"
   ]
  },
  {
   "cell_type": "code",
   "execution_count": 77,
   "metadata": {},
   "outputs": [
    {
     "data": {
      "text/html": [
       "<div>\n",
       "<style scoped>\n",
       "    .dataframe tbody tr th:only-of-type {\n",
       "        vertical-align: middle;\n",
       "    }\n",
       "\n",
       "    .dataframe tbody tr th {\n",
       "        vertical-align: top;\n",
       "    }\n",
       "\n",
       "    .dataframe thead th {\n",
       "        text-align: right;\n",
       "    }\n",
       "</style>\n",
       "<table border=\"1\" class=\"dataframe\">\n",
       "  <thead>\n",
       "    <tr style=\"text-align: right;\">\n",
       "      <th></th>\n",
       "      <th>MAPID</th>\n",
       "      <th>YEAR_CREATED</th>\n",
       "      <th>NAME</th>\n",
       "      <th>STREET_NUMBER</th>\n",
       "      <th>STREET_DIRECTION</th>\n",
       "      <th>STREET_NAME</th>\n",
       "      <th>STREET_TYPE</th>\n",
       "      <th>MERGED_ADDRESS</th>\n",
       "      <th>NUMBER_OF_PLOTS</th>\n",
       "      <th>NUMBER_OF_FOOD_TREES</th>\n",
       "      <th>NOTES</th>\n",
       "      <th>FOOD_TREE_VARIETIES</th>\n",
       "      <th>OTHER_FOOD_ASSETS</th>\n",
       "      <th>JURISDICTION</th>\n",
       "      <th>STEWARD_OR_MANAGING_ORGANIZATION</th>\n",
       "      <th>PUBLIC_E_MAIL</th>\n",
       "      <th>WEBSITE</th>\n",
       "      <th>Geo Local Area</th>\n",
       "      <th>Geom</th>\n",
       "    </tr>\n",
       "  </thead>\n",
       "  <tbody>\n",
       "    <tr>\n",
       "      <th>0</th>\n",
       "      <td>FA001</td>\n",
       "      <td>Pre-2010</td>\n",
       "      <td>0 - Private Developments - Community Shared</td>\n",
       "      <td>NaN</td>\n",
       "      <td>NaN</td>\n",
       "      <td>NaN</td>\n",
       "      <td>NaN</td>\n",
       "      <td>NaN</td>\n",
       "      <td>507.0</td>\n",
       "      <td>NaN</td>\n",
       "      <td>NaN</td>\n",
       "      <td>NaN</td>\n",
       "      <td>NaN</td>\n",
       "      <td>Private</td>\n",
       "      <td>NaN</td>\n",
       "      <td>NaN</td>\n",
       "      <td>NaN</td>\n",
       "      <td>NaN</td>\n",
       "      <td>NaN</td>\n",
       "    </tr>\n",
       "    <tr>\n",
       "      <th>1</th>\n",
       "      <td>FA006</td>\n",
       "      <td>2011</td>\n",
       "      <td>Adanac Park Community Garden</td>\n",
       "      <td>1025</td>\n",
       "      <td>NaN</td>\n",
       "      <td>Boundary</td>\n",
       "      <td>Road</td>\n",
       "      <td>1025 Boundary Road, Vancouver, BC</td>\n",
       "      <td>50.0</td>\n",
       "      <td>8</td>\n",
       "      <td>Some plots are accessible</td>\n",
       "      <td>1 Early McIntosh Apple; 1 Jonagold apple; 2 it...</td>\n",
       "      <td>NaN</td>\n",
       "      <td>Park Board</td>\n",
       "      <td>Adanac Community Garden Society</td>\n",
       "      <td>Adanaccommunitygarden@gmail.com</td>\n",
       "      <td>http://adanacparkcommunitygarden.blogspot.ca/</td>\n",
       "      <td>Hastings-Sunrise</td>\n",
       "      <td>{\"coordinates\": [-123.02439453, 49.27558227], ...</td>\n",
       "    </tr>\n",
       "    <tr>\n",
       "      <th>2</th>\n",
       "      <td>FA008</td>\n",
       "      <td>NaN</td>\n",
       "      <td>Arbutus Village Park</td>\n",
       "      <td>4202</td>\n",
       "      <td>NaN</td>\n",
       "      <td>Valley</td>\n",
       "      <td>Drive</td>\n",
       "      <td>4202 Valley Drive, Vancouver, BC</td>\n",
       "      <td>0.0</td>\n",
       "      <td>9</td>\n",
       "      <td>NaN</td>\n",
       "      <td>Crabapple</td>\n",
       "      <td>NaN</td>\n",
       "      <td>Park Board</td>\n",
       "      <td>NaN</td>\n",
       "      <td>NaN</td>\n",
       "      <td>NaN</td>\n",
       "      <td>Arbutus-Ridge</td>\n",
       "      <td>{\"coordinates\": [-123.1549951, 49.2507172], \"t...</td>\n",
       "    </tr>\n",
       "    <tr>\n",
       "      <th>3</th>\n",
       "      <td>FA013</td>\n",
       "      <td>2012</td>\n",
       "      <td>Brewery Creek Community Garden</td>\n",
       "      <td>2390</td>\n",
       "      <td>NaN</td>\n",
       "      <td>Brunswick</td>\n",
       "      <td>St</td>\n",
       "      <td>2390 Brunswick St, Vancouver, BC</td>\n",
       "      <td>40.0</td>\n",
       "      <td>11</td>\n",
       "      <td>NaN</td>\n",
       "      <td>Bramley's seedling apple; cortland apple; earl...</td>\n",
       "      <td>NaN</td>\n",
       "      <td>Park Board</td>\n",
       "      <td>Urban Diggers Society</td>\n",
       "      <td>brewerycreekgarden@gmail.com</td>\n",
       "      <td>http://brewerycreekgarden.wix.com/home</td>\n",
       "      <td>Mount Pleasant</td>\n",
       "      <td>{\"coordinates\": [-123.09573323, 49.26416489], ...</td>\n",
       "    </tr>\n",
       "    <tr>\n",
       "      <th>4</th>\n",
       "      <td>FA014</td>\n",
       "      <td>NaN</td>\n",
       "      <td>Burrard View Park</td>\n",
       "      <td>650</td>\n",
       "      <td>N</td>\n",
       "      <td>Penticton</td>\n",
       "      <td>St</td>\n",
       "      <td>650 N Penticton St, Vancouver, BC</td>\n",
       "      <td>0.0</td>\n",
       "      <td>1</td>\n",
       "      <td>NaN</td>\n",
       "      <td>Cherry</td>\n",
       "      <td>NaN</td>\n",
       "      <td>Park Board</td>\n",
       "      <td>NaN</td>\n",
       "      <td>NaN</td>\n",
       "      <td>NaN</td>\n",
       "      <td>Hastings-Sunrise</td>\n",
       "      <td>{\"coordinates\": [-123.0519175, 49.2912065], \"t...</td>\n",
       "    </tr>\n",
       "  </tbody>\n",
       "</table>\n",
       "</div>"
      ],
      "text/plain": [
       "   MAPID YEAR_CREATED                                         NAME  \\\n",
       "0  FA001     Pre-2010  0 - Private Developments - Community Shared   \n",
       "1  FA006         2011                 Adanac Park Community Garden   \n",
       "2  FA008          NaN                         Arbutus Village Park   \n",
       "3  FA013         2012               Brewery Creek Community Garden   \n",
       "4  FA014          NaN                            Burrard View Park   \n",
       "\n",
       "  STREET_NUMBER STREET_DIRECTION STREET_NAME STREET_TYPE  \\\n",
       "0           NaN              NaN         NaN         NaN   \n",
       "1          1025              NaN    Boundary        Road   \n",
       "2          4202              NaN      Valley       Drive   \n",
       "3          2390              NaN   Brunswick          St   \n",
       "4           650                N   Penticton          St   \n",
       "\n",
       "                      MERGED_ADDRESS  NUMBER_OF_PLOTS NUMBER_OF_FOOD_TREES  \\\n",
       "0                                NaN            507.0                  NaN   \n",
       "1  1025 Boundary Road, Vancouver, BC             50.0                    8   \n",
       "2   4202 Valley Drive, Vancouver, BC              0.0                    9   \n",
       "3   2390 Brunswick St, Vancouver, BC             40.0                   11   \n",
       "4  650 N Penticton St, Vancouver, BC              0.0                    1   \n",
       "\n",
       "                       NOTES  \\\n",
       "0                        NaN   \n",
       "1  Some plots are accessible   \n",
       "2                        NaN   \n",
       "3                        NaN   \n",
       "4                        NaN   \n",
       "\n",
       "                                 FOOD_TREE_VARIETIES OTHER_FOOD_ASSETS  \\\n",
       "0                                                NaN               NaN   \n",
       "1  1 Early McIntosh Apple; 1 Jonagold apple; 2 it...               NaN   \n",
       "2                                          Crabapple               NaN   \n",
       "3  Bramley's seedling apple; cortland apple; earl...               NaN   \n",
       "4                                             Cherry               NaN   \n",
       "\n",
       "  JURISDICTION STEWARD_OR_MANAGING_ORGANIZATION  \\\n",
       "0      Private                              NaN   \n",
       "1   Park Board  Adanac Community Garden Society   \n",
       "2   Park Board                              NaN   \n",
       "3   Park Board            Urban Diggers Society   \n",
       "4   Park Board                              NaN   \n",
       "\n",
       "                     PUBLIC_E_MAIL  \\\n",
       "0                              NaN   \n",
       "1  Adanaccommunitygarden@gmail.com   \n",
       "2                              NaN   \n",
       "3     brewerycreekgarden@gmail.com   \n",
       "4                              NaN   \n",
       "\n",
       "                                         WEBSITE    Geo Local Area  \\\n",
       "0                                            NaN               NaN   \n",
       "1  http://adanacparkcommunitygarden.blogspot.ca/  Hastings-Sunrise   \n",
       "2                                            NaN     Arbutus-Ridge   \n",
       "3         http://brewerycreekgarden.wix.com/home    Mount Pleasant   \n",
       "4                                            NaN  Hastings-Sunrise   \n",
       "\n",
       "                                                Geom  \n",
       "0                                                NaN  \n",
       "1  {\"coordinates\": [-123.02439453, 49.27558227], ...  \n",
       "2  {\"coordinates\": [-123.1549951, 49.2507172], \"t...  \n",
       "3  {\"coordinates\": [-123.09573323, 49.26416489], ...  \n",
       "4  {\"coordinates\": [-123.0519175, 49.2912065], \"t...  "
      ]
     },
     "execution_count": 77,
     "metadata": {},
     "output_type": "execute_result"
    }
   ],
   "source": [
    "gardenDF.head()"
   ]
  },
  {
   "cell_type": "markdown",
   "metadata": {},
   "source": [
    "So we can tell things like the gardens were created (`YEAR_CREATED`), and where the are (`LATITUDE`, `LONGITUDE`), and who's responsible for them (`STEWARD_OR_MANAGING_ORGANIZATION`). "
   ]
  },
  {
   "cell_type": "markdown",
   "metadata": {},
   "source": [
    "Now it is time to clean the data. This is a hugely important step and will generally eat a lot of your time, but it is worth doing right. Having mistakes in your data can undermine everything you are trying to do.\n",
    "\n",
    "First let's look at the index, the default is to index by integer, but we could have picked any column instead. It looks like the first column is unique (`MAPID`) and so let's use that (chosing the index right can make your life much easier when adding data or combining multiple DataFrames). The `inplace=True` argument means modify the existing dataframe rather than returning a modified copy"
   ]
  },
  {
   "cell_type": "code",
   "execution_count": 78,
   "metadata": {},
   "outputs": [
    {
     "data": {
      "text/html": [
       "<div>\n",
       "<style scoped>\n",
       "    .dataframe tbody tr th:only-of-type {\n",
       "        vertical-align: middle;\n",
       "    }\n",
       "\n",
       "    .dataframe tbody tr th {\n",
       "        vertical-align: top;\n",
       "    }\n",
       "\n",
       "    .dataframe thead th {\n",
       "        text-align: right;\n",
       "    }\n",
       "</style>\n",
       "<table border=\"1\" class=\"dataframe\">\n",
       "  <thead>\n",
       "    <tr style=\"text-align: right;\">\n",
       "      <th></th>\n",
       "      <th>YEAR_CREATED</th>\n",
       "      <th>NAME</th>\n",
       "      <th>STREET_NUMBER</th>\n",
       "      <th>STREET_DIRECTION</th>\n",
       "      <th>STREET_NAME</th>\n",
       "      <th>STREET_TYPE</th>\n",
       "      <th>MERGED_ADDRESS</th>\n",
       "      <th>NUMBER_OF_PLOTS</th>\n",
       "      <th>NUMBER_OF_FOOD_TREES</th>\n",
       "      <th>NOTES</th>\n",
       "      <th>FOOD_TREE_VARIETIES</th>\n",
       "      <th>OTHER_FOOD_ASSETS</th>\n",
       "      <th>JURISDICTION</th>\n",
       "      <th>STEWARD_OR_MANAGING_ORGANIZATION</th>\n",
       "      <th>PUBLIC_E_MAIL</th>\n",
       "      <th>WEBSITE</th>\n",
       "      <th>Geo Local Area</th>\n",
       "      <th>Geom</th>\n",
       "    </tr>\n",
       "    <tr>\n",
       "      <th>MAPID</th>\n",
       "      <th></th>\n",
       "      <th></th>\n",
       "      <th></th>\n",
       "      <th></th>\n",
       "      <th></th>\n",
       "      <th></th>\n",
       "      <th></th>\n",
       "      <th></th>\n",
       "      <th></th>\n",
       "      <th></th>\n",
       "      <th></th>\n",
       "      <th></th>\n",
       "      <th></th>\n",
       "      <th></th>\n",
       "      <th></th>\n",
       "      <th></th>\n",
       "      <th></th>\n",
       "      <th></th>\n",
       "    </tr>\n",
       "  </thead>\n",
       "  <tbody>\n",
       "    <tr>\n",
       "      <th>FA001</th>\n",
       "      <td>Pre-2010</td>\n",
       "      <td>0 - Private Developments - Community Shared</td>\n",
       "      <td>NaN</td>\n",
       "      <td>NaN</td>\n",
       "      <td>NaN</td>\n",
       "      <td>NaN</td>\n",
       "      <td>NaN</td>\n",
       "      <td>507.0</td>\n",
       "      <td>NaN</td>\n",
       "      <td>NaN</td>\n",
       "      <td>NaN</td>\n",
       "      <td>NaN</td>\n",
       "      <td>Private</td>\n",
       "      <td>NaN</td>\n",
       "      <td>NaN</td>\n",
       "      <td>NaN</td>\n",
       "      <td>NaN</td>\n",
       "      <td>NaN</td>\n",
       "    </tr>\n",
       "    <tr>\n",
       "      <th>FA006</th>\n",
       "      <td>2011</td>\n",
       "      <td>Adanac Park Community Garden</td>\n",
       "      <td>1025</td>\n",
       "      <td>NaN</td>\n",
       "      <td>Boundary</td>\n",
       "      <td>Road</td>\n",
       "      <td>1025 Boundary Road, Vancouver, BC</td>\n",
       "      <td>50.0</td>\n",
       "      <td>8</td>\n",
       "      <td>Some plots are accessible</td>\n",
       "      <td>1 Early McIntosh Apple; 1 Jonagold apple; 2 it...</td>\n",
       "      <td>NaN</td>\n",
       "      <td>Park Board</td>\n",
       "      <td>Adanac Community Garden Society</td>\n",
       "      <td>Adanaccommunitygarden@gmail.com</td>\n",
       "      <td>http://adanacparkcommunitygarden.blogspot.ca/</td>\n",
       "      <td>Hastings-Sunrise</td>\n",
       "      <td>{\"coordinates\": [-123.02439453, 49.27558227], ...</td>\n",
       "    </tr>\n",
       "    <tr>\n",
       "      <th>FA008</th>\n",
       "      <td>NaN</td>\n",
       "      <td>Arbutus Village Park</td>\n",
       "      <td>4202</td>\n",
       "      <td>NaN</td>\n",
       "      <td>Valley</td>\n",
       "      <td>Drive</td>\n",
       "      <td>4202 Valley Drive, Vancouver, BC</td>\n",
       "      <td>0.0</td>\n",
       "      <td>9</td>\n",
       "      <td>NaN</td>\n",
       "      <td>Crabapple</td>\n",
       "      <td>NaN</td>\n",
       "      <td>Park Board</td>\n",
       "      <td>NaN</td>\n",
       "      <td>NaN</td>\n",
       "      <td>NaN</td>\n",
       "      <td>Arbutus-Ridge</td>\n",
       "      <td>{\"coordinates\": [-123.1549951, 49.2507172], \"t...</td>\n",
       "    </tr>\n",
       "    <tr>\n",
       "      <th>FA013</th>\n",
       "      <td>2012</td>\n",
       "      <td>Brewery Creek Community Garden</td>\n",
       "      <td>2390</td>\n",
       "      <td>NaN</td>\n",
       "      <td>Brunswick</td>\n",
       "      <td>St</td>\n",
       "      <td>2390 Brunswick St, Vancouver, BC</td>\n",
       "      <td>40.0</td>\n",
       "      <td>11</td>\n",
       "      <td>NaN</td>\n",
       "      <td>Bramley's seedling apple; cortland apple; earl...</td>\n",
       "      <td>NaN</td>\n",
       "      <td>Park Board</td>\n",
       "      <td>Urban Diggers Society</td>\n",
       "      <td>brewerycreekgarden@gmail.com</td>\n",
       "      <td>http://brewerycreekgarden.wix.com/home</td>\n",
       "      <td>Mount Pleasant</td>\n",
       "      <td>{\"coordinates\": [-123.09573323, 49.26416489], ...</td>\n",
       "    </tr>\n",
       "    <tr>\n",
       "      <th>FA014</th>\n",
       "      <td>NaN</td>\n",
       "      <td>Burrard View Park</td>\n",
       "      <td>650</td>\n",
       "      <td>N</td>\n",
       "      <td>Penticton</td>\n",
       "      <td>St</td>\n",
       "      <td>650 N Penticton St, Vancouver, BC</td>\n",
       "      <td>0.0</td>\n",
       "      <td>1</td>\n",
       "      <td>NaN</td>\n",
       "      <td>Cherry</td>\n",
       "      <td>NaN</td>\n",
       "      <td>Park Board</td>\n",
       "      <td>NaN</td>\n",
       "      <td>NaN</td>\n",
       "      <td>NaN</td>\n",
       "      <td>Hastings-Sunrise</td>\n",
       "      <td>{\"coordinates\": [-123.0519175, 49.2912065], \"t...</td>\n",
       "    </tr>\n",
       "  </tbody>\n",
       "</table>\n",
       "</div>"
      ],
      "text/plain": [
       "      YEAR_CREATED                                         NAME STREET_NUMBER  \\\n",
       "MAPID                                                                           \n",
       "FA001     Pre-2010  0 - Private Developments - Community Shared           NaN   \n",
       "FA006         2011                 Adanac Park Community Garden          1025   \n",
       "FA008          NaN                         Arbutus Village Park          4202   \n",
       "FA013         2012               Brewery Creek Community Garden          2390   \n",
       "FA014          NaN                            Burrard View Park           650   \n",
       "\n",
       "      STREET_DIRECTION STREET_NAME STREET_TYPE  \\\n",
       "MAPID                                            \n",
       "FA001              NaN         NaN         NaN   \n",
       "FA006              NaN    Boundary        Road   \n",
       "FA008              NaN      Valley       Drive   \n",
       "FA013              NaN   Brunswick          St   \n",
       "FA014                N   Penticton          St   \n",
       "\n",
       "                          MERGED_ADDRESS  NUMBER_OF_PLOTS  \\\n",
       "MAPID                                                       \n",
       "FA001                                NaN            507.0   \n",
       "FA006  1025 Boundary Road, Vancouver, BC             50.0   \n",
       "FA008   4202 Valley Drive, Vancouver, BC              0.0   \n",
       "FA013   2390 Brunswick St, Vancouver, BC             40.0   \n",
       "FA014  650 N Penticton St, Vancouver, BC              0.0   \n",
       "\n",
       "      NUMBER_OF_FOOD_TREES                      NOTES  \\\n",
       "MAPID                                                   \n",
       "FA001                  NaN                        NaN   \n",
       "FA006                    8  Some plots are accessible   \n",
       "FA008                    9                        NaN   \n",
       "FA013                   11                        NaN   \n",
       "FA014                    1                        NaN   \n",
       "\n",
       "                                     FOOD_TREE_VARIETIES OTHER_FOOD_ASSETS  \\\n",
       "MAPID                                                                        \n",
       "FA001                                                NaN               NaN   \n",
       "FA006  1 Early McIntosh Apple; 1 Jonagold apple; 2 it...               NaN   \n",
       "FA008                                          Crabapple               NaN   \n",
       "FA013  Bramley's seedling apple; cortland apple; earl...               NaN   \n",
       "FA014                                             Cherry               NaN   \n",
       "\n",
       "      JURISDICTION STEWARD_OR_MANAGING_ORGANIZATION  \\\n",
       "MAPID                                                 \n",
       "FA001      Private                              NaN   \n",
       "FA006   Park Board  Adanac Community Garden Society   \n",
       "FA008   Park Board                              NaN   \n",
       "FA013   Park Board            Urban Diggers Society   \n",
       "FA014   Park Board                              NaN   \n",
       "\n",
       "                         PUBLIC_E_MAIL  \\\n",
       "MAPID                                    \n",
       "FA001                              NaN   \n",
       "FA006  Adanaccommunitygarden@gmail.com   \n",
       "FA008                              NaN   \n",
       "FA013     brewerycreekgarden@gmail.com   \n",
       "FA014                              NaN   \n",
       "\n",
       "                                             WEBSITE    Geo Local Area  \\\n",
       "MAPID                                                                    \n",
       "FA001                                            NaN               NaN   \n",
       "FA006  http://adanacparkcommunitygarden.blogspot.ca/  Hastings-Sunrise   \n",
       "FA008                                            NaN     Arbutus-Ridge   \n",
       "FA013         http://brewerycreekgarden.wix.com/home    Mount Pleasant   \n",
       "FA014                                            NaN  Hastings-Sunrise   \n",
       "\n",
       "                                                    Geom  \n",
       "MAPID                                                     \n",
       "FA001                                                NaN  \n",
       "FA006  {\"coordinates\": [-123.02439453, 49.27558227], ...  \n",
       "FA008  {\"coordinates\": [-123.1549951, 49.2507172], \"t...  \n",
       "FA013  {\"coordinates\": [-123.09573323, 49.26416489], ...  \n",
       "FA014  {\"coordinates\": [-123.0519175, 49.2912065], \"t...  "
      ]
     },
     "execution_count": 78,
     "metadata": {},
     "output_type": "execute_result"
    }
   ],
   "source": [
    "gardenDF.set_index('MAPID', inplace=True)\n",
    "gardenDF.head()"
   ]
  },
  {
   "cell_type": "markdown",
   "metadata": {},
   "source": [
    "One useful trick when cleaning data is to look at the unique values in a column. You'll often catch coding mistakes or values being used as placeholders this way, e.g."
   ]
  },
  {
   "cell_type": "code",
   "execution_count": 80,
   "metadata": {},
   "outputs": [
    {
     "data": {
      "text/plain": [
       "array(['Pre-2010', '2011', nan, '2012', 'pre-1970', '2013', '2008',\n",
       "       '2006', '2009', '2010', '2014', '2015', '1986', '1996', '2003',\n",
       "       '2016', '2017', '2018', '1985', '2019', '2020', '1942', '1992',\n",
       "       '2007', 'pre 2000', '1978', '1990', '2002', '1993', '1995', '1988',\n",
       "       '1999'], dtype=object)"
      ]
     },
     "execution_count": 80,
     "metadata": {},
     "output_type": "execute_result"
    }
   ],
   "source": [
    "gardenDF['YEAR_CREATED'].unique()"
   ]
  },
  {
   "cell_type": "markdown",
   "metadata": {},
   "source": [
    "`Pre-2010`, `pre-1970` and `pre 2000` are kind of usless (and inconsistent!) so let's toss them"
   ]
  },
  {
   "cell_type": "code",
   "execution_count": 81,
   "metadata": {},
   "outputs": [
    {
     "data": {
      "text/plain": [
       "array(['2011', nan, '2012', '2013', '2008', '2006', '2009', '2010',\n",
       "       '2014', '2015', '1986', '1996', '2003', '2016', '2017', '2018',\n",
       "       '1985', '2019', '2020', '1942', '1992', '2007', '1978', '1990',\n",
       "       '2002', '1993', '1995', '1988', '1999'], dtype=object)"
      ]
     },
     "execution_count": 81,
     "metadata": {},
     "output_type": "execute_result"
    }
   ],
   "source": [
    "for badLabel in ['Pre-2010', 'pre-1970', 'pre 2000']:\n",
    "    gardenDF = gardenDF.loc[gardenDF['YEAR_CREATED'] != badLabel]\n",
    "\n",
    "gardenDF['YEAR_CREATED'].unique()"
   ]
  },
  {
   "cell_type": "markdown",
   "metadata": {},
   "source": [
    "There's still an `np.NaN`, and the years are strings (numbers would be better, or even dates). We can take a closer look at the rows which are missing their `YEAR_CREATED` using isnull"
   ]
  },
  {
   "cell_type": "code",
   "execution_count": 83,
   "metadata": {},
   "outputs": [
    {
     "data": {
      "text/html": [
       "<div>\n",
       "<style scoped>\n",
       "    .dataframe tbody tr th:only-of-type {\n",
       "        vertical-align: middle;\n",
       "    }\n",
       "\n",
       "    .dataframe tbody tr th {\n",
       "        vertical-align: top;\n",
       "    }\n",
       "\n",
       "    .dataframe thead th {\n",
       "        text-align: right;\n",
       "    }\n",
       "</style>\n",
       "<table border=\"1\" class=\"dataframe\">\n",
       "  <thead>\n",
       "    <tr style=\"text-align: right;\">\n",
       "      <th></th>\n",
       "      <th>YEAR_CREATED</th>\n",
       "      <th>NAME</th>\n",
       "      <th>STREET_NUMBER</th>\n",
       "      <th>STREET_DIRECTION</th>\n",
       "      <th>STREET_NAME</th>\n",
       "      <th>STREET_TYPE</th>\n",
       "      <th>MERGED_ADDRESS</th>\n",
       "      <th>NUMBER_OF_PLOTS</th>\n",
       "      <th>NUMBER_OF_FOOD_TREES</th>\n",
       "      <th>NOTES</th>\n",
       "      <th>FOOD_TREE_VARIETIES</th>\n",
       "      <th>OTHER_FOOD_ASSETS</th>\n",
       "      <th>JURISDICTION</th>\n",
       "      <th>STEWARD_OR_MANAGING_ORGANIZATION</th>\n",
       "      <th>PUBLIC_E_MAIL</th>\n",
       "      <th>WEBSITE</th>\n",
       "      <th>Geo Local Area</th>\n",
       "      <th>Geom</th>\n",
       "    </tr>\n",
       "    <tr>\n",
       "      <th>MAPID</th>\n",
       "      <th></th>\n",
       "      <th></th>\n",
       "      <th></th>\n",
       "      <th></th>\n",
       "      <th></th>\n",
       "      <th></th>\n",
       "      <th></th>\n",
       "      <th></th>\n",
       "      <th></th>\n",
       "      <th></th>\n",
       "      <th></th>\n",
       "      <th></th>\n",
       "      <th></th>\n",
       "      <th></th>\n",
       "      <th></th>\n",
       "      <th></th>\n",
       "      <th></th>\n",
       "      <th></th>\n",
       "    </tr>\n",
       "  </thead>\n",
       "  <tbody>\n",
       "    <tr>\n",
       "      <th>FA008</th>\n",
       "      <td>NaN</td>\n",
       "      <td>Arbutus Village Park</td>\n",
       "      <td>4202</td>\n",
       "      <td>NaN</td>\n",
       "      <td>Valley</td>\n",
       "      <td>Drive</td>\n",
       "      <td>4202 Valley Drive, Vancouver, BC</td>\n",
       "      <td>0.0</td>\n",
       "      <td>9</td>\n",
       "      <td>NaN</td>\n",
       "      <td>Crabapple</td>\n",
       "      <td>NaN</td>\n",
       "      <td>Park Board</td>\n",
       "      <td>NaN</td>\n",
       "      <td>NaN</td>\n",
       "      <td>NaN</td>\n",
       "      <td>Arbutus-Ridge</td>\n",
       "      <td>{\"coordinates\": [-123.1549951, 49.2507172], \"t...</td>\n",
       "    </tr>\n",
       "    <tr>\n",
       "      <th>FA014</th>\n",
       "      <td>NaN</td>\n",
       "      <td>Burrard View Park</td>\n",
       "      <td>650</td>\n",
       "      <td>N</td>\n",
       "      <td>Penticton</td>\n",
       "      <td>St</td>\n",
       "      <td>650 N Penticton St, Vancouver, BC</td>\n",
       "      <td>0.0</td>\n",
       "      <td>1</td>\n",
       "      <td>NaN</td>\n",
       "      <td>Cherry</td>\n",
       "      <td>NaN</td>\n",
       "      <td>Park Board</td>\n",
       "      <td>NaN</td>\n",
       "      <td>NaN</td>\n",
       "      <td>NaN</td>\n",
       "      <td>Hastings-Sunrise</td>\n",
       "      <td>{\"coordinates\": [-123.0519175, 49.2912065], \"t...</td>\n",
       "    </tr>\n",
       "    <tr>\n",
       "      <th>FA069</th>\n",
       "      <td>NaN</td>\n",
       "      <td>Grass Roots Community Garden</td>\n",
       "      <td>478</td>\n",
       "      <td>E</td>\n",
       "      <td>Hastings</td>\n",
       "      <td>St</td>\n",
       "      <td>478 E  Hastings  St, Vancouver, BC</td>\n",
       "      <td>10.0</td>\n",
       "      <td>NaN</td>\n",
       "      <td>NaN</td>\n",
       "      <td>NaN</td>\n",
       "      <td>NaN</td>\n",
       "      <td>Private</td>\n",
       "      <td>NaN</td>\n",
       "      <td>NaN</td>\n",
       "      <td>NaN</td>\n",
       "      <td>Strathcona</td>\n",
       "      <td>{\"coordinates\": [-123.0936723, 49.2809398], \"t...</td>\n",
       "    </tr>\n",
       "    <tr>\n",
       "      <th>FA145</th>\n",
       "      <td>NaN</td>\n",
       "      <td>Van Dusen Botanical Gardens</td>\n",
       "      <td>5251</td>\n",
       "      <td>NaN</td>\n",
       "      <td>Oak</td>\n",
       "      <td>St</td>\n",
       "      <td>5251 Oak St, Vancouver, BC</td>\n",
       "      <td>0.0</td>\n",
       "      <td>yes</td>\n",
       "      <td>NaN</td>\n",
       "      <td>Heritage apple</td>\n",
       "      <td>NaN</td>\n",
       "      <td>Park Board</td>\n",
       "      <td>Van Dusen Botanical Garden Association</td>\n",
       "      <td>NaN</td>\n",
       "      <td>NaN</td>\n",
       "      <td>Shaughnessy</td>\n",
       "      <td>{\"coordinates\": [-123.1280384, 49.2375047], \"t...</td>\n",
       "    </tr>\n",
       "    <tr>\n",
       "      <th>FA184</th>\n",
       "      <td>NaN</td>\n",
       "      <td>Van Tech secondary school</td>\n",
       "      <td>2600</td>\n",
       "      <td>E</td>\n",
       "      <td>Broadway</td>\n",
       "      <td>NaN</td>\n",
       "      <td>2600 E Broadway , Vancouver, BC</td>\n",
       "      <td>0.0</td>\n",
       "      <td>5</td>\n",
       "      <td>NaN</td>\n",
       "      <td>NaN</td>\n",
       "      <td>NaN</td>\n",
       "      <td>private</td>\n",
       "      <td>NaN</td>\n",
       "      <td>NaN</td>\n",
       "      <td>NaN</td>\n",
       "      <td>Renfrew-Collingwood</td>\n",
       "      <td>{\"coordinates\": [-123.051705, 49.261776], \"typ...</td>\n",
       "    </tr>\n",
       "    <tr>\n",
       "      <th>FA017</th>\n",
       "      <td>NaN</td>\n",
       "      <td>Carnarvon Park</td>\n",
       "      <td>2995</td>\n",
       "      <td>W</td>\n",
       "      <td>19th</td>\n",
       "      <td>Av</td>\n",
       "      <td>2995 W 19th Av, Vancouver, BC</td>\n",
       "      <td>0.0</td>\n",
       "      <td>15</td>\n",
       "      <td>NaN</td>\n",
       "      <td>Apple</td>\n",
       "      <td>NaN</td>\n",
       "      <td>Park Board</td>\n",
       "      <td>NaN</td>\n",
       "      <td>NaN</td>\n",
       "      <td>NaN</td>\n",
       "      <td>Arbutus-Ridge</td>\n",
       "      <td>{\"coordinates\": [-123.171486, 49.2565789], \"ty...</td>\n",
       "    </tr>\n",
       "    <tr>\n",
       "      <th>FA024</th>\n",
       "      <td>NaN</td>\n",
       "      <td>Charles Park</td>\n",
       "      <td>3400</td>\n",
       "      <td>NaN</td>\n",
       "      <td>Charles</td>\n",
       "      <td>St</td>\n",
       "      <td>3400 Charles St, Vancouver, BC</td>\n",
       "      <td>0.0</td>\n",
       "      <td>1</td>\n",
       "      <td>NaN</td>\n",
       "      <td>Crabapple</td>\n",
       "      <td>NaN</td>\n",
       "      <td>Park Board</td>\n",
       "      <td>NaN</td>\n",
       "      <td>NaN</td>\n",
       "      <td>NaN</td>\n",
       "      <td>Hastings-Sunrise</td>\n",
       "      <td>{\"coordinates\": [-123.0308947, 49.2732079], \"t...</td>\n",
       "    </tr>\n",
       "    <tr>\n",
       "      <th>FA046</th>\n",
       "      <td>NaN</td>\n",
       "      <td>Delamont Park</td>\n",
       "      <td>2091</td>\n",
       "      <td>W</td>\n",
       "      <td>7th</td>\n",
       "      <td>Av</td>\n",
       "      <td>2091 W 7th Av, Vancouver, BC</td>\n",
       "      <td>0.0</td>\n",
       "      <td>8</td>\n",
       "      <td>NaN</td>\n",
       "      <td>Cherry, Asian pear, plum, hazelnut</td>\n",
       "      <td>NaN</td>\n",
       "      <td>Park Board</td>\n",
       "      <td>NaN</td>\n",
       "      <td>NaN</td>\n",
       "      <td>NaN</td>\n",
       "      <td>Kitsilano</td>\n",
       "      <td>{\"coordinates\": [-123.152619, 49.2658197], \"ty...</td>\n",
       "    </tr>\n",
       "    <tr>\n",
       "      <th>FA055</th>\n",
       "      <td>NaN</td>\n",
       "      <td>Everett Crowley Park</td>\n",
       "      <td>8200</td>\n",
       "      <td>NaN</td>\n",
       "      <td>Kerr</td>\n",
       "      <td>St</td>\n",
       "      <td>8200 Kerr St, Vancouver, BC</td>\n",
       "      <td>0.0</td>\n",
       "      <td>2</td>\n",
       "      <td>NaN</td>\n",
       "      <td>Cherry, pear</td>\n",
       "      <td>NaN</td>\n",
       "      <td>Park Board</td>\n",
       "      <td>NaN</td>\n",
       "      <td>NaN</td>\n",
       "      <td>NaN</td>\n",
       "      <td>Killarney</td>\n",
       "      <td>{\"coordinates\": [-123.0380764, 49.2111116], \"t...</td>\n",
       "    </tr>\n",
       "    <tr>\n",
       "      <th>FA010</th>\n",
       "      <td>NaN</td>\n",
       "      <td>Barclay Heritage Square</td>\n",
       "      <td>1433</td>\n",
       "      <td>NaN</td>\n",
       "      <td>Barclay</td>\n",
       "      <td>St</td>\n",
       "      <td>1433 Barclay St, Vancouver, BC</td>\n",
       "      <td>0.0</td>\n",
       "      <td>2</td>\n",
       "      <td>NaN</td>\n",
       "      <td>Apple</td>\n",
       "      <td>NaN</td>\n",
       "      <td>Park Board</td>\n",
       "      <td>NaN</td>\n",
       "      <td>NaN</td>\n",
       "      <td>NaN</td>\n",
       "      <td>West End</td>\n",
       "      <td>{\"coordinates\": [-123.13284501, 49.28738755], ...</td>\n",
       "    </tr>\n",
       "    <tr>\n",
       "      <th>FA022</th>\n",
       "      <td>NaN</td>\n",
       "      <td>Champlain Heights Park</td>\n",
       "      <td>3351</td>\n",
       "      <td>NaN</td>\n",
       "      <td>Maquinna</td>\n",
       "      <td>Drive</td>\n",
       "      <td>3351 Maquinna  Drive, Vancouver, BC</td>\n",
       "      <td>0.0</td>\n",
       "      <td>1</td>\n",
       "      <td>NaN</td>\n",
       "      <td>Apple</td>\n",
       "      <td>NaN</td>\n",
       "      <td>Park Board</td>\n",
       "      <td>NaN</td>\n",
       "      <td>NaN</td>\n",
       "      <td>NaN</td>\n",
       "      <td>Killarney</td>\n",
       "      <td>{\"coordinates\": [-123.0326603, 49.2164913], \"t...</td>\n",
       "    </tr>\n",
       "    <tr>\n",
       "      <th>FA148</th>\n",
       "      <td>NaN</td>\n",
       "      <td>Westmount Park</td>\n",
       "      <td>4651</td>\n",
       "      <td>W</td>\n",
       "      <td>2nd</td>\n",
       "      <td>Av</td>\n",
       "      <td>4651 W 2nd Av, Vancouver, BC</td>\n",
       "      <td>0.0</td>\n",
       "      <td>2</td>\n",
       "      <td>NaN</td>\n",
       "      <td>Apple</td>\n",
       "      <td>NaN</td>\n",
       "      <td>Park Board</td>\n",
       "      <td>NaN</td>\n",
       "      <td>NaN</td>\n",
       "      <td>NaN</td>\n",
       "      <td>West Point Grey</td>\n",
       "      <td>{\"coordinates\": [-123.2144218, 49.2718445], \"t...</td>\n",
       "    </tr>\n",
       "    <tr>\n",
       "      <th>FA176</th>\n",
       "      <td>NaN</td>\n",
       "      <td>John Hendry (Trout Lake) Park</td>\n",
       "      <td>3300</td>\n",
       "      <td>NaN</td>\n",
       "      <td>Victoria</td>\n",
       "      <td>Drive</td>\n",
       "      <td>3300 Victoria Drive, Vancouver, BC</td>\n",
       "      <td>4.0</td>\n",
       "      <td>NaN</td>\n",
       "      <td>NaN</td>\n",
       "      <td>NaN</td>\n",
       "      <td>NaN</td>\n",
       "      <td>Park Board</td>\n",
       "      <td>NaN</td>\n",
       "      <td>NaN</td>\n",
       "      <td>https://cedarcottagefoodnetwork.com/projects-e...</td>\n",
       "      <td>Kensington-Cedar Cottage</td>\n",
       "      <td>{\"coordinates\": [-123.06367871, 49.255098], \"t...</td>\n",
       "    </tr>\n",
       "  </tbody>\n",
       "</table>\n",
       "</div>"
      ],
      "text/plain": [
       "      YEAR_CREATED                           NAME STREET_NUMBER  \\\n",
       "MAPID                                                             \n",
       "FA008          NaN           Arbutus Village Park          4202   \n",
       "FA014          NaN              Burrard View Park           650   \n",
       "FA069          NaN   Grass Roots Community Garden           478   \n",
       "FA145          NaN    Van Dusen Botanical Gardens          5251   \n",
       "FA184          NaN      Van Tech secondary school          2600   \n",
       "FA017          NaN                 Carnarvon Park          2995   \n",
       "FA024          NaN                   Charles Park          3400   \n",
       "FA046          NaN                  Delamont Park          2091   \n",
       "FA055          NaN           Everett Crowley Park          8200   \n",
       "FA010          NaN        Barclay Heritage Square          1433   \n",
       "FA022          NaN         Champlain Heights Park          3351   \n",
       "FA148          NaN                 Westmount Park          4651   \n",
       "FA176          NaN  John Hendry (Trout Lake) Park          3300   \n",
       "\n",
       "      STREET_DIRECTION STREET_NAME STREET_TYPE  \\\n",
       "MAPID                                            \n",
       "FA008              NaN      Valley       Drive   \n",
       "FA014                N   Penticton          St   \n",
       "FA069                E    Hastings          St   \n",
       "FA145              NaN         Oak          St   \n",
       "FA184                E    Broadway         NaN   \n",
       "FA017                W        19th          Av   \n",
       "FA024              NaN     Charles          St   \n",
       "FA046                W         7th          Av   \n",
       "FA055              NaN        Kerr          St   \n",
       "FA010              NaN     Barclay          St   \n",
       "FA022              NaN    Maquinna       Drive   \n",
       "FA148                W         2nd          Av   \n",
       "FA176              NaN    Victoria       Drive   \n",
       "\n",
       "                            MERGED_ADDRESS  NUMBER_OF_PLOTS  \\\n",
       "MAPID                                                         \n",
       "FA008     4202 Valley Drive, Vancouver, BC              0.0   \n",
       "FA014    650 N Penticton St, Vancouver, BC              0.0   \n",
       "FA069   478 E  Hastings  St, Vancouver, BC             10.0   \n",
       "FA145           5251 Oak St, Vancouver, BC              0.0   \n",
       "FA184      2600 E Broadway , Vancouver, BC              0.0   \n",
       "FA017        2995 W 19th Av, Vancouver, BC              0.0   \n",
       "FA024       3400 Charles St, Vancouver, BC              0.0   \n",
       "FA046         2091 W 7th Av, Vancouver, BC              0.0   \n",
       "FA055          8200 Kerr St, Vancouver, BC              0.0   \n",
       "FA010       1433 Barclay St, Vancouver, BC              0.0   \n",
       "FA022  3351 Maquinna  Drive, Vancouver, BC              0.0   \n",
       "FA148         4651 W 2nd Av, Vancouver, BC              0.0   \n",
       "FA176   3300 Victoria Drive, Vancouver, BC              4.0   \n",
       "\n",
       "      NUMBER_OF_FOOD_TREES NOTES                 FOOD_TREE_VARIETIES  \\\n",
       "MAPID                                                                  \n",
       "FA008                    9   NaN                           Crabapple   \n",
       "FA014                    1   NaN                              Cherry   \n",
       "FA069                  NaN   NaN                                 NaN   \n",
       "FA145                  yes   NaN                      Heritage apple   \n",
       "FA184                    5   NaN                                 NaN   \n",
       "FA017                   15   NaN                               Apple   \n",
       "FA024                    1   NaN                           Crabapple   \n",
       "FA046                    8   NaN  Cherry, Asian pear, plum, hazelnut   \n",
       "FA055                    2   NaN                        Cherry, pear   \n",
       "FA010                    2   NaN                               Apple   \n",
       "FA022                    1   NaN                               Apple   \n",
       "FA148                    2   NaN                               Apple   \n",
       "FA176                  NaN   NaN                                 NaN   \n",
       "\n",
       "      OTHER_FOOD_ASSETS JURISDICTION        STEWARD_OR_MANAGING_ORGANIZATION  \\\n",
       "MAPID                                                                          \n",
       "FA008               NaN   Park Board                                     NaN   \n",
       "FA014               NaN   Park Board                                     NaN   \n",
       "FA069               NaN      Private                                     NaN   \n",
       "FA145               NaN   Park Board  Van Dusen Botanical Garden Association   \n",
       "FA184               NaN      private                                     NaN   \n",
       "FA017               NaN   Park Board                                     NaN   \n",
       "FA024               NaN   Park Board                                     NaN   \n",
       "FA046               NaN   Park Board                                     NaN   \n",
       "FA055               NaN   Park Board                                     NaN   \n",
       "FA010               NaN   Park Board                                     NaN   \n",
       "FA022               NaN   Park Board                                     NaN   \n",
       "FA148               NaN   Park Board                                     NaN   \n",
       "FA176               NaN   Park Board                                     NaN   \n",
       "\n",
       "      PUBLIC_E_MAIL                                            WEBSITE  \\\n",
       "MAPID                                                                    \n",
       "FA008           NaN                                                NaN   \n",
       "FA014           NaN                                                NaN   \n",
       "FA069           NaN                                                NaN   \n",
       "FA145           NaN                                                NaN   \n",
       "FA184           NaN                                                NaN   \n",
       "FA017           NaN                                                NaN   \n",
       "FA024           NaN                                                NaN   \n",
       "FA046           NaN                                                NaN   \n",
       "FA055           NaN                                                NaN   \n",
       "FA010           NaN                                                NaN   \n",
       "FA022           NaN                                                NaN   \n",
       "FA148           NaN                                                NaN   \n",
       "FA176           NaN  https://cedarcottagefoodnetwork.com/projects-e...   \n",
       "\n",
       "                 Geo Local Area  \\\n",
       "MAPID                             \n",
       "FA008             Arbutus-Ridge   \n",
       "FA014          Hastings-Sunrise   \n",
       "FA069                Strathcona   \n",
       "FA145               Shaughnessy   \n",
       "FA184       Renfrew-Collingwood   \n",
       "FA017             Arbutus-Ridge   \n",
       "FA024          Hastings-Sunrise   \n",
       "FA046                 Kitsilano   \n",
       "FA055                 Killarney   \n",
       "FA010                  West End   \n",
       "FA022                 Killarney   \n",
       "FA148           West Point Grey   \n",
       "FA176  Kensington-Cedar Cottage   \n",
       "\n",
       "                                                    Geom  \n",
       "MAPID                                                     \n",
       "FA008  {\"coordinates\": [-123.1549951, 49.2507172], \"t...  \n",
       "FA014  {\"coordinates\": [-123.0519175, 49.2912065], \"t...  \n",
       "FA069  {\"coordinates\": [-123.0936723, 49.2809398], \"t...  \n",
       "FA145  {\"coordinates\": [-123.1280384, 49.2375047], \"t...  \n",
       "FA184  {\"coordinates\": [-123.051705, 49.261776], \"typ...  \n",
       "FA017  {\"coordinates\": [-123.171486, 49.2565789], \"ty...  \n",
       "FA024  {\"coordinates\": [-123.0308947, 49.2732079], \"t...  \n",
       "FA046  {\"coordinates\": [-123.152619, 49.2658197], \"ty...  \n",
       "FA055  {\"coordinates\": [-123.0380764, 49.2111116], \"t...  \n",
       "FA010  {\"coordinates\": [-123.13284501, 49.28738755], ...  \n",
       "FA022  {\"coordinates\": [-123.0326603, 49.2164913], \"t...  \n",
       "FA148  {\"coordinates\": [-123.2144218, 49.2718445], \"t...  \n",
       "FA176  {\"coordinates\": [-123.06367871, 49.255098], \"t...  "
      ]
     },
     "execution_count": 83,
     "metadata": {},
     "output_type": "execute_result"
    }
   ],
   "source": [
    "gardenDF.loc[gardenDF['YEAR_CREATED'].isnull()]"
   ]
  },
  {
   "cell_type": "markdown",
   "metadata": {},
   "source": [
    "Pandas has some facilities for [dealing with missing data](https://pandas.pydata.org/docs/user_guide/missing_data.html) as well as some helpful default behaviours. Additionally, the `.isna` and `.notna` methods can help you explicitly deal with missing values during operations, e.g."
   ]
  },
  {
   "cell_type": "code",
   "execution_count": 84,
   "metadata": {},
   "outputs": [
    {
     "data": {
      "text/html": [
       "<div>\n",
       "<style scoped>\n",
       "    .dataframe tbody tr th:only-of-type {\n",
       "        vertical-align: middle;\n",
       "    }\n",
       "\n",
       "    .dataframe tbody tr th {\n",
       "        vertical-align: top;\n",
       "    }\n",
       "\n",
       "    .dataframe thead th {\n",
       "        text-align: right;\n",
       "    }\n",
       "</style>\n",
       "<table border=\"1\" class=\"dataframe\">\n",
       "  <thead>\n",
       "    <tr style=\"text-align: right;\">\n",
       "      <th></th>\n",
       "      <th>a</th>\n",
       "      <th>b</th>\n",
       "      <th>c</th>\n",
       "    </tr>\n",
       "  </thead>\n",
       "  <tbody>\n",
       "    <tr>\n",
       "      <th>one</th>\n",
       "      <td>0.859623</td>\n",
       "      <td>1.123669</td>\n",
       "      <td>-0.438434</td>\n",
       "    </tr>\n",
       "    <tr>\n",
       "      <th>two</th>\n",
       "      <td>1.250342</td>\n",
       "      <td>1.463596</td>\n",
       "      <td>0.102070</td>\n",
       "    </tr>\n",
       "    <tr>\n",
       "      <th>three</th>\n",
       "      <td>-2.022493</td>\n",
       "      <td>-0.782557</td>\n",
       "      <td>-1.563972</td>\n",
       "    </tr>\n",
       "    <tr>\n",
       "      <th>four</th>\n",
       "      <td>-0.968379</td>\n",
       "      <td>0.593581</td>\n",
       "      <td>-0.109567</td>\n",
       "    </tr>\n",
       "  </tbody>\n",
       "</table>\n",
       "</div>"
      ],
      "text/plain": [
       "              a         b         c\n",
       "one    0.859623  1.123669 -0.438434\n",
       "two    1.250342  1.463596  0.102070\n",
       "three -2.022493 -0.782557 -1.563972\n",
       "four  -0.968379  0.593581 -0.109567"
      ]
     },
     "execution_count": 84,
     "metadata": {},
     "output_type": "execute_result"
    }
   ],
   "source": [
    "missingDF = pd.DataFrame(\n",
    "    np.random.randn(4, 3),\n",
    "    index = ['one', 'two', 'three', 'four'],\n",
    "    columns = ['a', 'b', 'c']\n",
    ")\n",
    "missingDF"
   ]
  },
  {
   "cell_type": "code",
   "execution_count": 85,
   "metadata": {},
   "outputs": [
    {
     "data": {
      "text/html": [
       "<div>\n",
       "<style scoped>\n",
       "    .dataframe tbody tr th:only-of-type {\n",
       "        vertical-align: middle;\n",
       "    }\n",
       "\n",
       "    .dataframe tbody tr th {\n",
       "        vertical-align: top;\n",
       "    }\n",
       "\n",
       "    .dataframe thead th {\n",
       "        text-align: right;\n",
       "    }\n",
       "</style>\n",
       "<table border=\"1\" class=\"dataframe\">\n",
       "  <thead>\n",
       "    <tr style=\"text-align: right;\">\n",
       "      <th></th>\n",
       "      <th>a</th>\n",
       "      <th>b</th>\n",
       "      <th>c</th>\n",
       "      <th>d</th>\n",
       "    </tr>\n",
       "  </thead>\n",
       "  <tbody>\n",
       "    <tr>\n",
       "      <th>one</th>\n",
       "      <td>0.859623</td>\n",
       "      <td>1.123669</td>\n",
       "      <td>-0.438434</td>\n",
       "      <td>1.291289</td>\n",
       "    </tr>\n",
       "    <tr>\n",
       "      <th>two</th>\n",
       "      <td>1.250342</td>\n",
       "      <td>1.463596</td>\n",
       "      <td>0.102070</td>\n",
       "      <td>-1.687597</td>\n",
       "    </tr>\n",
       "    <tr>\n",
       "      <th>three</th>\n",
       "      <td>-2.022493</td>\n",
       "      <td>-0.782557</td>\n",
       "      <td>-1.563972</td>\n",
       "      <td>NaN</td>\n",
       "    </tr>\n",
       "    <tr>\n",
       "      <th>four</th>\n",
       "      <td>-0.968379</td>\n",
       "      <td>0.593581</td>\n",
       "      <td>-0.109567</td>\n",
       "      <td>0.605905</td>\n",
       "    </tr>\n",
       "  </tbody>\n",
       "</table>\n",
       "</div>"
      ],
      "text/plain": [
       "              a         b         c         d\n",
       "one    0.859623  1.123669 -0.438434  1.291289\n",
       "two    1.250342  1.463596  0.102070 -1.687597\n",
       "three -2.022493 -0.782557 -1.563972       NaN\n",
       "four  -0.968379  0.593581 -0.109567  0.605905"
      ]
     },
     "execution_count": 85,
     "metadata": {},
     "output_type": "execute_result"
    }
   ],
   "source": [
    "missingDF['d'] = list(np.random.randn(2)) + [np.nan] + [np.random.randn()]\n",
    "missingDF"
   ]
  },
  {
   "cell_type": "code",
   "execution_count": 86,
   "metadata": {},
   "outputs": [
    {
     "data": {
      "text/plain": [
       "a   -0.220227\n",
       "b    0.599572\n",
       "c   -0.502476\n",
       "d    0.069865\n",
       "dtype: float64"
      ]
     },
     "execution_count": 86,
     "metadata": {},
     "output_type": "execute_result"
    }
   ],
   "source": [
    "missingDF.mean()"
   ]
  },
  {
   "cell_type": "markdown",
   "metadata": {},
   "source": [
    "In some cases you might want to patch up missing data by combining one DataFrame with another, or by interpolating from nearby values,"
   ]
  },
  {
   "cell_type": "code",
   "execution_count": 87,
   "metadata": {},
   "outputs": [
    {
     "data": {
      "text/html": [
       "<div>\n",
       "<style scoped>\n",
       "    .dataframe tbody tr th:only-of-type {\n",
       "        vertical-align: middle;\n",
       "    }\n",
       "\n",
       "    .dataframe tbody tr th {\n",
       "        vertical-align: top;\n",
       "    }\n",
       "\n",
       "    .dataframe thead th {\n",
       "        text-align: right;\n",
       "    }\n",
       "</style>\n",
       "<table border=\"1\" class=\"dataframe\">\n",
       "  <thead>\n",
       "    <tr style=\"text-align: right;\">\n",
       "      <th></th>\n",
       "      <th>a</th>\n",
       "      <th>b</th>\n",
       "      <th>c</th>\n",
       "      <th>d</th>\n",
       "    </tr>\n",
       "  </thead>\n",
       "  <tbody>\n",
       "    <tr>\n",
       "      <th>one</th>\n",
       "      <td>0.859623</td>\n",
       "      <td>1.123669</td>\n",
       "      <td>-0.438434</td>\n",
       "      <td>1.291289</td>\n",
       "    </tr>\n",
       "    <tr>\n",
       "      <th>two</th>\n",
       "      <td>1.250342</td>\n",
       "      <td>1.463596</td>\n",
       "      <td>0.102070</td>\n",
       "      <td>-1.687597</td>\n",
       "    </tr>\n",
       "    <tr>\n",
       "      <th>three</th>\n",
       "      <td>-2.022493</td>\n",
       "      <td>-0.782557</td>\n",
       "      <td>-1.563972</td>\n",
       "      <td>0.069865</td>\n",
       "    </tr>\n",
       "    <tr>\n",
       "      <th>four</th>\n",
       "      <td>-0.968379</td>\n",
       "      <td>0.593581</td>\n",
       "      <td>-0.109567</td>\n",
       "      <td>0.605905</td>\n",
       "    </tr>\n",
       "  </tbody>\n",
       "</table>\n",
       "</div>"
      ],
      "text/plain": [
       "              a         b         c         d\n",
       "one    0.859623  1.123669 -0.438434  1.291289\n",
       "two    1.250342  1.463596  0.102070 -1.687597\n",
       "three -2.022493 -0.782557 -1.563972  0.069865\n",
       "four  -0.968379  0.593581 -0.109567  0.605905"
      ]
     },
     "execution_count": 87,
     "metadata": {},
     "output_type": "execute_result"
    }
   ],
   "source": [
    "missingDF.fillna(missingDF.mean())"
   ]
  },
  {
   "cell_type": "markdown",
   "metadata": {},
   "source": [
    "Getting back to our example, for cases where that isn't possible (like here, where I'm too lazy), you can just throw away the rows without valid years"
   ]
  },
  {
   "cell_type": "code",
   "execution_count": 89,
   "metadata": {},
   "outputs": [
    {
     "data": {
      "text/html": [
       "<div>\n",
       "<style scoped>\n",
       "    .dataframe tbody tr th:only-of-type {\n",
       "        vertical-align: middle;\n",
       "    }\n",
       "\n",
       "    .dataframe tbody tr th {\n",
       "        vertical-align: top;\n",
       "    }\n",
       "\n",
       "    .dataframe thead th {\n",
       "        text-align: right;\n",
       "    }\n",
       "</style>\n",
       "<table border=\"1\" class=\"dataframe\">\n",
       "  <thead>\n",
       "    <tr style=\"text-align: right;\">\n",
       "      <th></th>\n",
       "      <th>YEAR_CREATED</th>\n",
       "      <th>NAME</th>\n",
       "      <th>STREET_NUMBER</th>\n",
       "      <th>STREET_DIRECTION</th>\n",
       "      <th>STREET_NAME</th>\n",
       "      <th>STREET_TYPE</th>\n",
       "      <th>MERGED_ADDRESS</th>\n",
       "      <th>NUMBER_OF_PLOTS</th>\n",
       "      <th>NUMBER_OF_FOOD_TREES</th>\n",
       "      <th>NOTES</th>\n",
       "      <th>FOOD_TREE_VARIETIES</th>\n",
       "      <th>OTHER_FOOD_ASSETS</th>\n",
       "      <th>JURISDICTION</th>\n",
       "      <th>STEWARD_OR_MANAGING_ORGANIZATION</th>\n",
       "      <th>PUBLIC_E_MAIL</th>\n",
       "      <th>WEBSITE</th>\n",
       "      <th>Geo Local Area</th>\n",
       "      <th>Geom</th>\n",
       "    </tr>\n",
       "    <tr>\n",
       "      <th>MAPID</th>\n",
       "      <th></th>\n",
       "      <th></th>\n",
       "      <th></th>\n",
       "      <th></th>\n",
       "      <th></th>\n",
       "      <th></th>\n",
       "      <th></th>\n",
       "      <th></th>\n",
       "      <th></th>\n",
       "      <th></th>\n",
       "      <th></th>\n",
       "      <th></th>\n",
       "      <th></th>\n",
       "      <th></th>\n",
       "      <th></th>\n",
       "      <th></th>\n",
       "      <th></th>\n",
       "      <th></th>\n",
       "    </tr>\n",
       "  </thead>\n",
       "  <tbody>\n",
       "    <tr>\n",
       "      <th>FA006</th>\n",
       "      <td>2011</td>\n",
       "      <td>Adanac Park Community Garden</td>\n",
       "      <td>1025</td>\n",
       "      <td>NaN</td>\n",
       "      <td>Boundary</td>\n",
       "      <td>Road</td>\n",
       "      <td>1025 Boundary Road, Vancouver, BC</td>\n",
       "      <td>50.0</td>\n",
       "      <td>8</td>\n",
       "      <td>Some plots are accessible</td>\n",
       "      <td>1 Early McIntosh Apple; 1 Jonagold apple; 2 it...</td>\n",
       "      <td>NaN</td>\n",
       "      <td>Park Board</td>\n",
       "      <td>Adanac Community Garden Society</td>\n",
       "      <td>Adanaccommunitygarden@gmail.com</td>\n",
       "      <td>http://adanacparkcommunitygarden.blogspot.ca/</td>\n",
       "      <td>Hastings-Sunrise</td>\n",
       "      <td>{\"coordinates\": [-123.02439453, 49.27558227], ...</td>\n",
       "    </tr>\n",
       "    <tr>\n",
       "      <th>FA013</th>\n",
       "      <td>2012</td>\n",
       "      <td>Brewery Creek Community Garden</td>\n",
       "      <td>2390</td>\n",
       "      <td>NaN</td>\n",
       "      <td>Brunswick</td>\n",
       "      <td>St</td>\n",
       "      <td>2390 Brunswick St, Vancouver, BC</td>\n",
       "      <td>40.0</td>\n",
       "      <td>11</td>\n",
       "      <td>NaN</td>\n",
       "      <td>Bramley's seedling apple; cortland apple; earl...</td>\n",
       "      <td>NaN</td>\n",
       "      <td>Park Board</td>\n",
       "      <td>Urban Diggers Society</td>\n",
       "      <td>brewerycreekgarden@gmail.com</td>\n",
       "      <td>http://brewerycreekgarden.wix.com/home</td>\n",
       "      <td>Mount Pleasant</td>\n",
       "      <td>{\"coordinates\": [-123.09573323, 49.26416489], ...</td>\n",
       "    </tr>\n",
       "    <tr>\n",
       "      <th>FA025</th>\n",
       "      <td>2013</td>\n",
       "      <td>Charleson Park Community Garden</td>\n",
       "      <td>999</td>\n",
       "      <td>NaN</td>\n",
       "      <td>Charleson</td>\n",
       "      <td>St</td>\n",
       "      <td>999 Charleson St, Vancouver, BC</td>\n",
       "      <td>38.0</td>\n",
       "      <td>NaN</td>\n",
       "      <td>NaN</td>\n",
       "      <td>NaN</td>\n",
       "      <td>NaN</td>\n",
       "      <td>Park Board</td>\n",
       "      <td>False Creek South Neighbourhood Association</td>\n",
       "      <td>charlesongarden@gmail.com</td>\n",
       "      <td>http://www.charlesongarden.ca/</td>\n",
       "      <td>Fairview</td>\n",
       "      <td>{\"coordinates\": [-123.12573796, 49.26776479], ...</td>\n",
       "    </tr>\n",
       "    <tr>\n",
       "      <th>FA036</th>\n",
       "      <td>2008</td>\n",
       "      <td>Cityview Baptist Church</td>\n",
       "      <td>4370</td>\n",
       "      <td>NaN</td>\n",
       "      <td>Sophia</td>\n",
       "      <td>St</td>\n",
       "      <td>4370 Sophia  St, Vancouver, BC</td>\n",
       "      <td>6.0</td>\n",
       "      <td>1</td>\n",
       "      <td>NaN</td>\n",
       "      <td>Heritage apple</td>\n",
       "      <td>NaN</td>\n",
       "      <td>Private</td>\n",
       "      <td>Neighbours</td>\n",
       "      <td>cityview.community.garden@gmail.com</td>\n",
       "      <td>http://cityviewchurch.ca/</td>\n",
       "      <td>Riley Park</td>\n",
       "      <td>{\"coordinates\": [-123.099148, 49.2459664], \"ty...</td>\n",
       "    </tr>\n",
       "    <tr>\n",
       "      <th>FA039</th>\n",
       "      <td>2006</td>\n",
       "      <td>Collingwood Community Gardens</td>\n",
       "      <td>3100</td>\n",
       "      <td>NaN</td>\n",
       "      <td>Vanness</td>\n",
       "      <td>Av</td>\n",
       "      <td>3100 Vanness Av, Vancouver, BC</td>\n",
       "      <td>30.0</td>\n",
       "      <td>NaN</td>\n",
       "      <td>NaN</td>\n",
       "      <td>NaN</td>\n",
       "      <td>NaN</td>\n",
       "      <td>Translink</td>\n",
       "      <td>Renfrew Collingwood Food Security Institute</td>\n",
       "      <td>foodsecurity@cnh.bc.ca</td>\n",
       "      <td>http://rcfsi.blogspot.ca</td>\n",
       "      <td>Renfrew-Collingwood</td>\n",
       "      <td>{\"coordinates\": [-123.0302, 49.23774], \"type\":...</td>\n",
       "    </tr>\n",
       "    <tr>\n",
       "      <th>...</th>\n",
       "      <td>...</td>\n",
       "      <td>...</td>\n",
       "      <td>...</td>\n",
       "      <td>...</td>\n",
       "      <td>...</td>\n",
       "      <td>...</td>\n",
       "      <td>...</td>\n",
       "      <td>...</td>\n",
       "      <td>...</td>\n",
       "      <td>...</td>\n",
       "      <td>...</td>\n",
       "      <td>...</td>\n",
       "      <td>...</td>\n",
       "      <td>...</td>\n",
       "      <td>...</td>\n",
       "      <td>...</td>\n",
       "      <td>...</td>\n",
       "      <td>...</td>\n",
       "    </tr>\n",
       "    <tr>\n",
       "      <th>FA181</th>\n",
       "      <td>2018</td>\n",
       "      <td>Still Creek Community Garden</td>\n",
       "      <td>2750</td>\n",
       "      <td>E</td>\n",
       "      <td>29th</td>\n",
       "      <td>Av</td>\n",
       "      <td>2750 E 29th Av, Vancouver, BC</td>\n",
       "      <td>45.0</td>\n",
       "      <td>NaN</td>\n",
       "      <td>NaN</td>\n",
       "      <td>NaN</td>\n",
       "      <td>NaN</td>\n",
       "      <td>Park Board</td>\n",
       "      <td>Collingwood Neighbourhood House Society</td>\n",
       "      <td>stillcreekcommunitygarden@gmail.com</td>\n",
       "      <td>https://rcfood.wordpress.com/</td>\n",
       "      <td>Renfrew-Collingwood</td>\n",
       "      <td>{\"coordinates\": [-123.045562, 49.243584], \"typ...</td>\n",
       "    </tr>\n",
       "    <tr>\n",
       "      <th>FA182</th>\n",
       "      <td>2019</td>\n",
       "      <td>Macleod Manor Community Garden</td>\n",
       "      <td>8725</td>\n",
       "      <td>NaN</td>\n",
       "      <td>French</td>\n",
       "      <td>St</td>\n",
       "      <td>8725 French St, Vancouver, BC</td>\n",
       "      <td>5.0</td>\n",
       "      <td>NaN</td>\n",
       "      <td>NaN</td>\n",
       "      <td>NaN</td>\n",
       "      <td>NaN</td>\n",
       "      <td>Private</td>\n",
       "      <td>Brightside Community Homes Foundation</td>\n",
       "      <td>NaN</td>\n",
       "      <td>NaN</td>\n",
       "      <td>Marpole</td>\n",
       "      <td>{\"coordinates\": [-123.1396302, 49.2069012], \"t...</td>\n",
       "    </tr>\n",
       "    <tr>\n",
       "      <th>FA185</th>\n",
       "      <td>2020</td>\n",
       "      <td>Astoria Community Garden</td>\n",
       "      <td>369</td>\n",
       "      <td>NaN</td>\n",
       "      <td>Hawks</td>\n",
       "      <td>Av</td>\n",
       "      <td>369 Hawks Av, Vancouver, BC</td>\n",
       "      <td>138.0</td>\n",
       "      <td>NaN</td>\n",
       "      <td>NaN</td>\n",
       "      <td>NaN</td>\n",
       "      <td>NaN</td>\n",
       "      <td>Private</td>\n",
       "      <td>managed by DTES NH House</td>\n",
       "      <td>ED@dtesnhouse.ca</td>\n",
       "      <td>NaN</td>\n",
       "      <td>Strathcona</td>\n",
       "      <td>{\"coordinates\": [-123.087377, 49.28134], \"type...</td>\n",
       "    </tr>\n",
       "    <tr>\n",
       "      <th>FA186</th>\n",
       "      <td>2020</td>\n",
       "      <td>FSE Herb Garden (Fransiscan Sister of the Euch...</td>\n",
       "      <td>2811</td>\n",
       "      <td>NaN</td>\n",
       "      <td>Venables</td>\n",
       "      <td>St</td>\n",
       "      <td>2811 Venables St, Vancouver, BC</td>\n",
       "      <td>5.0</td>\n",
       "      <td>NaN</td>\n",
       "      <td>NaN</td>\n",
       "      <td>NaN</td>\n",
       "      <td>NaN</td>\n",
       "      <td>private</td>\n",
       "      <td>Franciscan Sisters of the Eucharist</td>\n",
       "      <td>samc@ourfse.org</td>\n",
       "      <td>NaN</td>\n",
       "      <td>Hastings-Sunrise</td>\n",
       "      <td>{\"coordinates\": [-123.046256, 49.276805], \"typ...</td>\n",
       "    </tr>\n",
       "    <tr>\n",
       "      <th>FA189</th>\n",
       "      <td>1978</td>\n",
       "      <td>City Farmer Compost Demonstration Centre</td>\n",
       "      <td>2150</td>\n",
       "      <td>NaN</td>\n",
       "      <td>Maple</td>\n",
       "      <td>St</td>\n",
       "      <td>2150 Maple St, Vancouver, BC</td>\n",
       "      <td>1.0</td>\n",
       "      <td>NaN</td>\n",
       "      <td>NaN</td>\n",
       "      <td>NaN</td>\n",
       "      <td>NaN</td>\n",
       "      <td>City</td>\n",
       "      <td>City Farmer</td>\n",
       "      <td>cityfarmer@gmail.com</td>\n",
       "      <td>https://cityfarmer.info/</td>\n",
       "      <td>Kitsilano</td>\n",
       "      <td>{\"coordinates\": [-123.1497228, 49.2666997], \"t...</td>\n",
       "    </tr>\n",
       "  </tbody>\n",
       "</table>\n",
       "<p>151 rows × 18 columns</p>\n",
       "</div>"
      ],
      "text/plain": [
       "      YEAR_CREATED                                               NAME  \\\n",
       "MAPID                                                                   \n",
       "FA006         2011                       Adanac Park Community Garden   \n",
       "FA013         2012                     Brewery Creek Community Garden   \n",
       "FA025         2013                    Charleson Park Community Garden   \n",
       "FA036         2008                            Cityview Baptist Church   \n",
       "FA039         2006                      Collingwood Community Gardens   \n",
       "...            ...                                                ...   \n",
       "FA181         2018                       Still Creek Community Garden   \n",
       "FA182         2019                     Macleod Manor Community Garden   \n",
       "FA185         2020                           Astoria Community Garden   \n",
       "FA186         2020  FSE Herb Garden (Fransiscan Sister of the Euch...   \n",
       "FA189         1978           City Farmer Compost Demonstration Centre   \n",
       "\n",
       "      STREET_NUMBER STREET_DIRECTION STREET_NAME STREET_TYPE  \\\n",
       "MAPID                                                          \n",
       "FA006          1025              NaN    Boundary        Road   \n",
       "FA013          2390              NaN   Brunswick          St   \n",
       "FA025           999              NaN   Charleson          St   \n",
       "FA036          4370              NaN      Sophia          St   \n",
       "FA039          3100              NaN     Vanness          Av   \n",
       "...             ...              ...         ...         ...   \n",
       "FA181          2750                E        29th          Av   \n",
       "FA182          8725              NaN      French          St   \n",
       "FA185           369              NaN       Hawks          Av   \n",
       "FA186          2811              NaN    Venables          St   \n",
       "FA189          2150              NaN       Maple          St   \n",
       "\n",
       "                          MERGED_ADDRESS  NUMBER_OF_PLOTS  \\\n",
       "MAPID                                                       \n",
       "FA006  1025 Boundary Road, Vancouver, BC             50.0   \n",
       "FA013   2390 Brunswick St, Vancouver, BC             40.0   \n",
       "FA025    999 Charleson St, Vancouver, BC             38.0   \n",
       "FA036     4370 Sophia  St, Vancouver, BC              6.0   \n",
       "FA039     3100 Vanness Av, Vancouver, BC             30.0   \n",
       "...                                  ...              ...   \n",
       "FA181      2750 E 29th Av, Vancouver, BC             45.0   \n",
       "FA182      8725 French St, Vancouver, BC              5.0   \n",
       "FA185        369 Hawks Av, Vancouver, BC            138.0   \n",
       "FA186    2811 Venables St, Vancouver, BC              5.0   \n",
       "FA189       2150 Maple St, Vancouver, BC              1.0   \n",
       "\n",
       "      NUMBER_OF_FOOD_TREES                      NOTES  \\\n",
       "MAPID                                                   \n",
       "FA006                    8  Some plots are accessible   \n",
       "FA013                   11                        NaN   \n",
       "FA025                  NaN                        NaN   \n",
       "FA036                    1                        NaN   \n",
       "FA039                  NaN                        NaN   \n",
       "...                    ...                        ...   \n",
       "FA181                  NaN                        NaN   \n",
       "FA182                  NaN                        NaN   \n",
       "FA185                  NaN                        NaN   \n",
       "FA186                  NaN                        NaN   \n",
       "FA189                  NaN                        NaN   \n",
       "\n",
       "                                     FOOD_TREE_VARIETIES OTHER_FOOD_ASSETS  \\\n",
       "MAPID                                                                        \n",
       "FA006  1 Early McIntosh Apple; 1 Jonagold apple; 2 it...               NaN   \n",
       "FA013  Bramley's seedling apple; cortland apple; earl...               NaN   \n",
       "FA025                                                NaN               NaN   \n",
       "FA036                                     Heritage apple               NaN   \n",
       "FA039                                                NaN               NaN   \n",
       "...                                                  ...               ...   \n",
       "FA181                                                NaN               NaN   \n",
       "FA182                                                NaN               NaN   \n",
       "FA185                                                NaN               NaN   \n",
       "FA186                                                NaN               NaN   \n",
       "FA189                                                NaN               NaN   \n",
       "\n",
       "      JURISDICTION             STEWARD_OR_MANAGING_ORGANIZATION  \\\n",
       "MAPID                                                             \n",
       "FA006   Park Board              Adanac Community Garden Society   \n",
       "FA013   Park Board                        Urban Diggers Society   \n",
       "FA025   Park Board  False Creek South Neighbourhood Association   \n",
       "FA036      Private                                   Neighbours   \n",
       "FA039    Translink  Renfrew Collingwood Food Security Institute   \n",
       "...            ...                                          ...   \n",
       "FA181   Park Board      Collingwood Neighbourhood House Society   \n",
       "FA182      Private        Brightside Community Homes Foundation   \n",
       "FA185      Private                     managed by DTES NH House   \n",
       "FA186      private          Franciscan Sisters of the Eucharist   \n",
       "FA189         City                                  City Farmer   \n",
       "\n",
       "                             PUBLIC_E_MAIL  \\\n",
       "MAPID                                        \n",
       "FA006      Adanaccommunitygarden@gmail.com   \n",
       "FA013         brewerycreekgarden@gmail.com   \n",
       "FA025            charlesongarden@gmail.com   \n",
       "FA036  cityview.community.garden@gmail.com   \n",
       "FA039               foodsecurity@cnh.bc.ca   \n",
       "...                                    ...   \n",
       "FA181  stillcreekcommunitygarden@gmail.com   \n",
       "FA182                                  NaN   \n",
       "FA185                     ED@dtesnhouse.ca   \n",
       "FA186                      samc@ourfse.org   \n",
       "FA189                 cityfarmer@gmail.com   \n",
       "\n",
       "                                             WEBSITE       Geo Local Area  \\\n",
       "MAPID                                                                       \n",
       "FA006  http://adanacparkcommunitygarden.blogspot.ca/     Hastings-Sunrise   \n",
       "FA013         http://brewerycreekgarden.wix.com/home       Mount Pleasant   \n",
       "FA025                 http://www.charlesongarden.ca/             Fairview   \n",
       "FA036                      http://cityviewchurch.ca/           Riley Park   \n",
       "FA039                       http://rcfsi.blogspot.ca  Renfrew-Collingwood   \n",
       "...                                              ...                  ...   \n",
       "FA181                  https://rcfood.wordpress.com/  Renfrew-Collingwood   \n",
       "FA182                                            NaN              Marpole   \n",
       "FA185                                            NaN           Strathcona   \n",
       "FA186                                            NaN     Hastings-Sunrise   \n",
       "FA189                       https://cityfarmer.info/            Kitsilano   \n",
       "\n",
       "                                                    Geom  \n",
       "MAPID                                                     \n",
       "FA006  {\"coordinates\": [-123.02439453, 49.27558227], ...  \n",
       "FA013  {\"coordinates\": [-123.09573323, 49.26416489], ...  \n",
       "FA025  {\"coordinates\": [-123.12573796, 49.26776479], ...  \n",
       "FA036  {\"coordinates\": [-123.099148, 49.2459664], \"ty...  \n",
       "FA039  {\"coordinates\": [-123.0302, 49.23774], \"type\":...  \n",
       "...                                                  ...  \n",
       "FA181  {\"coordinates\": [-123.045562, 49.243584], \"typ...  \n",
       "FA182  {\"coordinates\": [-123.1396302, 49.2069012], \"t...  \n",
       "FA185  {\"coordinates\": [-123.087377, 49.28134], \"type...  \n",
       "FA186  {\"coordinates\": [-123.046256, 49.276805], \"typ...  \n",
       "FA189  {\"coordinates\": [-123.1497228, 49.2666997], \"t...  \n",
       "\n",
       "[151 rows x 18 columns]"
      ]
     },
     "execution_count": 89,
     "metadata": {},
     "output_type": "execute_result"
    }
   ],
   "source": [
    "gardenDF.dropna(axis=0, subset=['YEAR_CREATED'], inplace=True)\n",
    "gardenDF"
   ]
  },
  {
   "cell_type": "markdown",
   "metadata": {},
   "source": [
    "Now it might make sense to convert that column to a numerical value"
   ]
  },
  {
   "cell_type": "code",
   "execution_count": 91,
   "metadata": {},
   "outputs": [
    {
     "data": {
      "text/plain": [
       "MAPID\n",
       "FA006    2011\n",
       "FA013    2012\n",
       "FA025    2013\n",
       "FA036    2008\n",
       "FA039    2006\n",
       "         ... \n",
       "FA181    2018\n",
       "FA182    2019\n",
       "FA185    2020\n",
       "FA186    2020\n",
       "FA189    1978\n",
       "Name: YEAR_CREATED, Length: 151, dtype: int64"
      ]
     },
     "execution_count": 91,
     "metadata": {},
     "output_type": "execute_result"
    }
   ],
   "source": [
    "pd.to_numeric(gardenDF['YEAR_CREATED'])"
   ]
  },
  {
   "cell_type": "markdown",
   "metadata": {},
   "source": [
    "or better yet, a DateTime object"
   ]
  },
  {
   "cell_type": "code",
   "execution_count": 92,
   "metadata": {},
   "outputs": [
    {
     "data": {
      "text/html": [
       "<div>\n",
       "<style scoped>\n",
       "    .dataframe tbody tr th:only-of-type {\n",
       "        vertical-align: middle;\n",
       "    }\n",
       "\n",
       "    .dataframe tbody tr th {\n",
       "        vertical-align: top;\n",
       "    }\n",
       "\n",
       "    .dataframe thead th {\n",
       "        text-align: right;\n",
       "    }\n",
       "</style>\n",
       "<table border=\"1\" class=\"dataframe\">\n",
       "  <thead>\n",
       "    <tr style=\"text-align: right;\">\n",
       "      <th></th>\n",
       "      <th>YEAR_CREATED</th>\n",
       "      <th>NAME</th>\n",
       "      <th>STREET_NUMBER</th>\n",
       "      <th>STREET_DIRECTION</th>\n",
       "      <th>STREET_NAME</th>\n",
       "      <th>STREET_TYPE</th>\n",
       "      <th>MERGED_ADDRESS</th>\n",
       "      <th>NUMBER_OF_PLOTS</th>\n",
       "      <th>NUMBER_OF_FOOD_TREES</th>\n",
       "      <th>NOTES</th>\n",
       "      <th>FOOD_TREE_VARIETIES</th>\n",
       "      <th>OTHER_FOOD_ASSETS</th>\n",
       "      <th>JURISDICTION</th>\n",
       "      <th>STEWARD_OR_MANAGING_ORGANIZATION</th>\n",
       "      <th>PUBLIC_E_MAIL</th>\n",
       "      <th>WEBSITE</th>\n",
       "      <th>Geo Local Area</th>\n",
       "      <th>Geom</th>\n",
       "    </tr>\n",
       "    <tr>\n",
       "      <th>MAPID</th>\n",
       "      <th></th>\n",
       "      <th></th>\n",
       "      <th></th>\n",
       "      <th></th>\n",
       "      <th></th>\n",
       "      <th></th>\n",
       "      <th></th>\n",
       "      <th></th>\n",
       "      <th></th>\n",
       "      <th></th>\n",
       "      <th></th>\n",
       "      <th></th>\n",
       "      <th></th>\n",
       "      <th></th>\n",
       "      <th></th>\n",
       "      <th></th>\n",
       "      <th></th>\n",
       "      <th></th>\n",
       "    </tr>\n",
       "  </thead>\n",
       "  <tbody>\n",
       "    <tr>\n",
       "      <th>FA006</th>\n",
       "      <td>2011-01-01</td>\n",
       "      <td>Adanac Park Community Garden</td>\n",
       "      <td>1025</td>\n",
       "      <td>NaN</td>\n",
       "      <td>Boundary</td>\n",
       "      <td>Road</td>\n",
       "      <td>1025 Boundary Road, Vancouver, BC</td>\n",
       "      <td>50.0</td>\n",
       "      <td>8</td>\n",
       "      <td>Some plots are accessible</td>\n",
       "      <td>1 Early McIntosh Apple; 1 Jonagold apple; 2 it...</td>\n",
       "      <td>NaN</td>\n",
       "      <td>Park Board</td>\n",
       "      <td>Adanac Community Garden Society</td>\n",
       "      <td>Adanaccommunitygarden@gmail.com</td>\n",
       "      <td>http://adanacparkcommunitygarden.blogspot.ca/</td>\n",
       "      <td>Hastings-Sunrise</td>\n",
       "      <td>{\"coordinates\": [-123.02439453, 49.27558227], ...</td>\n",
       "    </tr>\n",
       "    <tr>\n",
       "      <th>FA013</th>\n",
       "      <td>2012-01-01</td>\n",
       "      <td>Brewery Creek Community Garden</td>\n",
       "      <td>2390</td>\n",
       "      <td>NaN</td>\n",
       "      <td>Brunswick</td>\n",
       "      <td>St</td>\n",
       "      <td>2390 Brunswick St, Vancouver, BC</td>\n",
       "      <td>40.0</td>\n",
       "      <td>11</td>\n",
       "      <td>NaN</td>\n",
       "      <td>Bramley's seedling apple; cortland apple; earl...</td>\n",
       "      <td>NaN</td>\n",
       "      <td>Park Board</td>\n",
       "      <td>Urban Diggers Society</td>\n",
       "      <td>brewerycreekgarden@gmail.com</td>\n",
       "      <td>http://brewerycreekgarden.wix.com/home</td>\n",
       "      <td>Mount Pleasant</td>\n",
       "      <td>{\"coordinates\": [-123.09573323, 49.26416489], ...</td>\n",
       "    </tr>\n",
       "    <tr>\n",
       "      <th>FA025</th>\n",
       "      <td>2013-01-01</td>\n",
       "      <td>Charleson Park Community Garden</td>\n",
       "      <td>999</td>\n",
       "      <td>NaN</td>\n",
       "      <td>Charleson</td>\n",
       "      <td>St</td>\n",
       "      <td>999 Charleson St, Vancouver, BC</td>\n",
       "      <td>38.0</td>\n",
       "      <td>NaN</td>\n",
       "      <td>NaN</td>\n",
       "      <td>NaN</td>\n",
       "      <td>NaN</td>\n",
       "      <td>Park Board</td>\n",
       "      <td>False Creek South Neighbourhood Association</td>\n",
       "      <td>charlesongarden@gmail.com</td>\n",
       "      <td>http://www.charlesongarden.ca/</td>\n",
       "      <td>Fairview</td>\n",
       "      <td>{\"coordinates\": [-123.12573796, 49.26776479], ...</td>\n",
       "    </tr>\n",
       "    <tr>\n",
       "      <th>FA036</th>\n",
       "      <td>2008-01-01</td>\n",
       "      <td>Cityview Baptist Church</td>\n",
       "      <td>4370</td>\n",
       "      <td>NaN</td>\n",
       "      <td>Sophia</td>\n",
       "      <td>St</td>\n",
       "      <td>4370 Sophia  St, Vancouver, BC</td>\n",
       "      <td>6.0</td>\n",
       "      <td>1</td>\n",
       "      <td>NaN</td>\n",
       "      <td>Heritage apple</td>\n",
       "      <td>NaN</td>\n",
       "      <td>Private</td>\n",
       "      <td>Neighbours</td>\n",
       "      <td>cityview.community.garden@gmail.com</td>\n",
       "      <td>http://cityviewchurch.ca/</td>\n",
       "      <td>Riley Park</td>\n",
       "      <td>{\"coordinates\": [-123.099148, 49.2459664], \"ty...</td>\n",
       "    </tr>\n",
       "    <tr>\n",
       "      <th>FA039</th>\n",
       "      <td>2006-01-01</td>\n",
       "      <td>Collingwood Community Gardens</td>\n",
       "      <td>3100</td>\n",
       "      <td>NaN</td>\n",
       "      <td>Vanness</td>\n",
       "      <td>Av</td>\n",
       "      <td>3100 Vanness Av, Vancouver, BC</td>\n",
       "      <td>30.0</td>\n",
       "      <td>NaN</td>\n",
       "      <td>NaN</td>\n",
       "      <td>NaN</td>\n",
       "      <td>NaN</td>\n",
       "      <td>Translink</td>\n",
       "      <td>Renfrew Collingwood Food Security Institute</td>\n",
       "      <td>foodsecurity@cnh.bc.ca</td>\n",
       "      <td>http://rcfsi.blogspot.ca</td>\n",
       "      <td>Renfrew-Collingwood</td>\n",
       "      <td>{\"coordinates\": [-123.0302, 49.23774], \"type\":...</td>\n",
       "    </tr>\n",
       "    <tr>\n",
       "      <th>...</th>\n",
       "      <td>...</td>\n",
       "      <td>...</td>\n",
       "      <td>...</td>\n",
       "      <td>...</td>\n",
       "      <td>...</td>\n",
       "      <td>...</td>\n",
       "      <td>...</td>\n",
       "      <td>...</td>\n",
       "      <td>...</td>\n",
       "      <td>...</td>\n",
       "      <td>...</td>\n",
       "      <td>...</td>\n",
       "      <td>...</td>\n",
       "      <td>...</td>\n",
       "      <td>...</td>\n",
       "      <td>...</td>\n",
       "      <td>...</td>\n",
       "      <td>...</td>\n",
       "    </tr>\n",
       "    <tr>\n",
       "      <th>FA181</th>\n",
       "      <td>2018-01-01</td>\n",
       "      <td>Still Creek Community Garden</td>\n",
       "      <td>2750</td>\n",
       "      <td>E</td>\n",
       "      <td>29th</td>\n",
       "      <td>Av</td>\n",
       "      <td>2750 E 29th Av, Vancouver, BC</td>\n",
       "      <td>45.0</td>\n",
       "      <td>NaN</td>\n",
       "      <td>NaN</td>\n",
       "      <td>NaN</td>\n",
       "      <td>NaN</td>\n",
       "      <td>Park Board</td>\n",
       "      <td>Collingwood Neighbourhood House Society</td>\n",
       "      <td>stillcreekcommunitygarden@gmail.com</td>\n",
       "      <td>https://rcfood.wordpress.com/</td>\n",
       "      <td>Renfrew-Collingwood</td>\n",
       "      <td>{\"coordinates\": [-123.045562, 49.243584], \"typ...</td>\n",
       "    </tr>\n",
       "    <tr>\n",
       "      <th>FA182</th>\n",
       "      <td>2019-01-01</td>\n",
       "      <td>Macleod Manor Community Garden</td>\n",
       "      <td>8725</td>\n",
       "      <td>NaN</td>\n",
       "      <td>French</td>\n",
       "      <td>St</td>\n",
       "      <td>8725 French St, Vancouver, BC</td>\n",
       "      <td>5.0</td>\n",
       "      <td>NaN</td>\n",
       "      <td>NaN</td>\n",
       "      <td>NaN</td>\n",
       "      <td>NaN</td>\n",
       "      <td>Private</td>\n",
       "      <td>Brightside Community Homes Foundation</td>\n",
       "      <td>NaN</td>\n",
       "      <td>NaN</td>\n",
       "      <td>Marpole</td>\n",
       "      <td>{\"coordinates\": [-123.1396302, 49.2069012], \"t...</td>\n",
       "    </tr>\n",
       "    <tr>\n",
       "      <th>FA185</th>\n",
       "      <td>2020-01-01</td>\n",
       "      <td>Astoria Community Garden</td>\n",
       "      <td>369</td>\n",
       "      <td>NaN</td>\n",
       "      <td>Hawks</td>\n",
       "      <td>Av</td>\n",
       "      <td>369 Hawks Av, Vancouver, BC</td>\n",
       "      <td>138.0</td>\n",
       "      <td>NaN</td>\n",
       "      <td>NaN</td>\n",
       "      <td>NaN</td>\n",
       "      <td>NaN</td>\n",
       "      <td>Private</td>\n",
       "      <td>managed by DTES NH House</td>\n",
       "      <td>ED@dtesnhouse.ca</td>\n",
       "      <td>NaN</td>\n",
       "      <td>Strathcona</td>\n",
       "      <td>{\"coordinates\": [-123.087377, 49.28134], \"type...</td>\n",
       "    </tr>\n",
       "    <tr>\n",
       "      <th>FA186</th>\n",
       "      <td>2020-01-01</td>\n",
       "      <td>FSE Herb Garden (Fransiscan Sister of the Euch...</td>\n",
       "      <td>2811</td>\n",
       "      <td>NaN</td>\n",
       "      <td>Venables</td>\n",
       "      <td>St</td>\n",
       "      <td>2811 Venables St, Vancouver, BC</td>\n",
       "      <td>5.0</td>\n",
       "      <td>NaN</td>\n",
       "      <td>NaN</td>\n",
       "      <td>NaN</td>\n",
       "      <td>NaN</td>\n",
       "      <td>private</td>\n",
       "      <td>Franciscan Sisters of the Eucharist</td>\n",
       "      <td>samc@ourfse.org</td>\n",
       "      <td>NaN</td>\n",
       "      <td>Hastings-Sunrise</td>\n",
       "      <td>{\"coordinates\": [-123.046256, 49.276805], \"typ...</td>\n",
       "    </tr>\n",
       "    <tr>\n",
       "      <th>FA189</th>\n",
       "      <td>1978-01-01</td>\n",
       "      <td>City Farmer Compost Demonstration Centre</td>\n",
       "      <td>2150</td>\n",
       "      <td>NaN</td>\n",
       "      <td>Maple</td>\n",
       "      <td>St</td>\n",
       "      <td>2150 Maple St, Vancouver, BC</td>\n",
       "      <td>1.0</td>\n",
       "      <td>NaN</td>\n",
       "      <td>NaN</td>\n",
       "      <td>NaN</td>\n",
       "      <td>NaN</td>\n",
       "      <td>City</td>\n",
       "      <td>City Farmer</td>\n",
       "      <td>cityfarmer@gmail.com</td>\n",
       "      <td>https://cityfarmer.info/</td>\n",
       "      <td>Kitsilano</td>\n",
       "      <td>{\"coordinates\": [-123.1497228, 49.2666997], \"t...</td>\n",
       "    </tr>\n",
       "  </tbody>\n",
       "</table>\n",
       "<p>151 rows × 18 columns</p>\n",
       "</div>"
      ],
      "text/plain": [
       "      YEAR_CREATED                                               NAME  \\\n",
       "MAPID                                                                   \n",
       "FA006   2011-01-01                       Adanac Park Community Garden   \n",
       "FA013   2012-01-01                     Brewery Creek Community Garden   \n",
       "FA025   2013-01-01                    Charleson Park Community Garden   \n",
       "FA036   2008-01-01                            Cityview Baptist Church   \n",
       "FA039   2006-01-01                      Collingwood Community Gardens   \n",
       "...            ...                                                ...   \n",
       "FA181   2018-01-01                       Still Creek Community Garden   \n",
       "FA182   2019-01-01                     Macleod Manor Community Garden   \n",
       "FA185   2020-01-01                           Astoria Community Garden   \n",
       "FA186   2020-01-01  FSE Herb Garden (Fransiscan Sister of the Euch...   \n",
       "FA189   1978-01-01           City Farmer Compost Demonstration Centre   \n",
       "\n",
       "      STREET_NUMBER STREET_DIRECTION STREET_NAME STREET_TYPE  \\\n",
       "MAPID                                                          \n",
       "FA006          1025              NaN    Boundary        Road   \n",
       "FA013          2390              NaN   Brunswick          St   \n",
       "FA025           999              NaN   Charleson          St   \n",
       "FA036          4370              NaN      Sophia          St   \n",
       "FA039          3100              NaN     Vanness          Av   \n",
       "...             ...              ...         ...         ...   \n",
       "FA181          2750                E        29th          Av   \n",
       "FA182          8725              NaN      French          St   \n",
       "FA185           369              NaN       Hawks          Av   \n",
       "FA186          2811              NaN    Venables          St   \n",
       "FA189          2150              NaN       Maple          St   \n",
       "\n",
       "                          MERGED_ADDRESS  NUMBER_OF_PLOTS  \\\n",
       "MAPID                                                       \n",
       "FA006  1025 Boundary Road, Vancouver, BC             50.0   \n",
       "FA013   2390 Brunswick St, Vancouver, BC             40.0   \n",
       "FA025    999 Charleson St, Vancouver, BC             38.0   \n",
       "FA036     4370 Sophia  St, Vancouver, BC              6.0   \n",
       "FA039     3100 Vanness Av, Vancouver, BC             30.0   \n",
       "...                                  ...              ...   \n",
       "FA181      2750 E 29th Av, Vancouver, BC             45.0   \n",
       "FA182      8725 French St, Vancouver, BC              5.0   \n",
       "FA185        369 Hawks Av, Vancouver, BC            138.0   \n",
       "FA186    2811 Venables St, Vancouver, BC              5.0   \n",
       "FA189       2150 Maple St, Vancouver, BC              1.0   \n",
       "\n",
       "      NUMBER_OF_FOOD_TREES                      NOTES  \\\n",
       "MAPID                                                   \n",
       "FA006                    8  Some plots are accessible   \n",
       "FA013                   11                        NaN   \n",
       "FA025                  NaN                        NaN   \n",
       "FA036                    1                        NaN   \n",
       "FA039                  NaN                        NaN   \n",
       "...                    ...                        ...   \n",
       "FA181                  NaN                        NaN   \n",
       "FA182                  NaN                        NaN   \n",
       "FA185                  NaN                        NaN   \n",
       "FA186                  NaN                        NaN   \n",
       "FA189                  NaN                        NaN   \n",
       "\n",
       "                                     FOOD_TREE_VARIETIES OTHER_FOOD_ASSETS  \\\n",
       "MAPID                                                                        \n",
       "FA006  1 Early McIntosh Apple; 1 Jonagold apple; 2 it...               NaN   \n",
       "FA013  Bramley's seedling apple; cortland apple; earl...               NaN   \n",
       "FA025                                                NaN               NaN   \n",
       "FA036                                     Heritage apple               NaN   \n",
       "FA039                                                NaN               NaN   \n",
       "...                                                  ...               ...   \n",
       "FA181                                                NaN               NaN   \n",
       "FA182                                                NaN               NaN   \n",
       "FA185                                                NaN               NaN   \n",
       "FA186                                                NaN               NaN   \n",
       "FA189                                                NaN               NaN   \n",
       "\n",
       "      JURISDICTION             STEWARD_OR_MANAGING_ORGANIZATION  \\\n",
       "MAPID                                                             \n",
       "FA006   Park Board              Adanac Community Garden Society   \n",
       "FA013   Park Board                        Urban Diggers Society   \n",
       "FA025   Park Board  False Creek South Neighbourhood Association   \n",
       "FA036      Private                                   Neighbours   \n",
       "FA039    Translink  Renfrew Collingwood Food Security Institute   \n",
       "...            ...                                          ...   \n",
       "FA181   Park Board      Collingwood Neighbourhood House Society   \n",
       "FA182      Private        Brightside Community Homes Foundation   \n",
       "FA185      Private                     managed by DTES NH House   \n",
       "FA186      private          Franciscan Sisters of the Eucharist   \n",
       "FA189         City                                  City Farmer   \n",
       "\n",
       "                             PUBLIC_E_MAIL  \\\n",
       "MAPID                                        \n",
       "FA006      Adanaccommunitygarden@gmail.com   \n",
       "FA013         brewerycreekgarden@gmail.com   \n",
       "FA025            charlesongarden@gmail.com   \n",
       "FA036  cityview.community.garden@gmail.com   \n",
       "FA039               foodsecurity@cnh.bc.ca   \n",
       "...                                    ...   \n",
       "FA181  stillcreekcommunitygarden@gmail.com   \n",
       "FA182                                  NaN   \n",
       "FA185                     ED@dtesnhouse.ca   \n",
       "FA186                      samc@ourfse.org   \n",
       "FA189                 cityfarmer@gmail.com   \n",
       "\n",
       "                                             WEBSITE       Geo Local Area  \\\n",
       "MAPID                                                                       \n",
       "FA006  http://adanacparkcommunitygarden.blogspot.ca/     Hastings-Sunrise   \n",
       "FA013         http://brewerycreekgarden.wix.com/home       Mount Pleasant   \n",
       "FA025                 http://www.charlesongarden.ca/             Fairview   \n",
       "FA036                      http://cityviewchurch.ca/           Riley Park   \n",
       "FA039                       http://rcfsi.blogspot.ca  Renfrew-Collingwood   \n",
       "...                                              ...                  ...   \n",
       "FA181                  https://rcfood.wordpress.com/  Renfrew-Collingwood   \n",
       "FA182                                            NaN              Marpole   \n",
       "FA185                                            NaN           Strathcona   \n",
       "FA186                                            NaN     Hastings-Sunrise   \n",
       "FA189                       https://cityfarmer.info/            Kitsilano   \n",
       "\n",
       "                                                    Geom  \n",
       "MAPID                                                     \n",
       "FA006  {\"coordinates\": [-123.02439453, 49.27558227], ...  \n",
       "FA013  {\"coordinates\": [-123.09573323, 49.26416489], ...  \n",
       "FA025  {\"coordinates\": [-123.12573796, 49.26776479], ...  \n",
       "FA036  {\"coordinates\": [-123.099148, 49.2459664], \"ty...  \n",
       "FA039  {\"coordinates\": [-123.0302, 49.23774], \"type\":...  \n",
       "...                                                  ...  \n",
       "FA181  {\"coordinates\": [-123.045562, 49.243584], \"typ...  \n",
       "FA182  {\"coordinates\": [-123.1396302, 49.2069012], \"t...  \n",
       "FA185  {\"coordinates\": [-123.087377, 49.28134], \"type...  \n",
       "FA186  {\"coordinates\": [-123.046256, 49.276805], \"typ...  \n",
       "FA189  {\"coordinates\": [-123.1497228, 49.2666997], \"t...  \n",
       "\n",
       "[151 rows x 18 columns]"
      ]
     },
     "execution_count": 92,
     "metadata": {},
     "output_type": "execute_result"
    }
   ],
   "source": [
    "gardenDF['YEAR_CREATED'] = pd.to_datetime(gardenDF['YEAR_CREATED'])\n",
    "gardenDF"
   ]
  },
  {
   "cell_type": "markdown",
   "metadata": {},
   "source": [
    "Sometimes you are not so lucky and will have to parse through strings to extract the information you are looking for. The `Geom` column looks like latitude and longitude stored as json, lets parse an individual entry"
   ]
  },
  {
   "cell_type": "code",
   "execution_count": 93,
   "metadata": {},
   "outputs": [
    {
     "data": {
      "text/plain": [
       "{'coordinates': [-123.1497228, 49.2666997], 'type': 'Point'}"
      ]
     },
     "execution_count": 93,
     "metadata": {},
     "output_type": "execute_result"
    }
   ],
   "source": [
    "import json\n",
    "\n",
    "geom = gardenDF.iloc[-1]['Geom']\n",
    "json.loads(geom)"
   ]
  },
  {
   "cell_type": "markdown",
   "metadata": {},
   "source": [
    "Now we have a `dict` and `coordinates` holds the longitude and latitude. We can use `pd.DataFrame.apply` to apply this transformation to all of the rows and generate new columns"
   ]
  },
  {
   "cell_type": "code",
   "execution_count": 95,
   "metadata": {},
   "outputs": [
    {
     "data": {
      "text/html": [
       "<div>\n",
       "<style scoped>\n",
       "    .dataframe tbody tr th:only-of-type {\n",
       "        vertical-align: middle;\n",
       "    }\n",
       "\n",
       "    .dataframe tbody tr th {\n",
       "        vertical-align: top;\n",
       "    }\n",
       "\n",
       "    .dataframe thead th {\n",
       "        text-align: right;\n",
       "    }\n",
       "</style>\n",
       "<table border=\"1\" class=\"dataframe\">\n",
       "  <thead>\n",
       "    <tr style=\"text-align: right;\">\n",
       "      <th></th>\n",
       "      <th>Latitude</th>\n",
       "      <th>Longitude</th>\n",
       "    </tr>\n",
       "    <tr>\n",
       "      <th>MAPID</th>\n",
       "      <th></th>\n",
       "      <th></th>\n",
       "    </tr>\n",
       "  </thead>\n",
       "  <tbody>\n",
       "    <tr>\n",
       "      <th>FA006</th>\n",
       "      <td>49.275582</td>\n",
       "      <td>-123.024395</td>\n",
       "    </tr>\n",
       "    <tr>\n",
       "      <th>FA013</th>\n",
       "      <td>49.264165</td>\n",
       "      <td>-123.095733</td>\n",
       "    </tr>\n",
       "    <tr>\n",
       "      <th>FA025</th>\n",
       "      <td>49.267765</td>\n",
       "      <td>-123.125738</td>\n",
       "    </tr>\n",
       "    <tr>\n",
       "      <th>FA036</th>\n",
       "      <td>49.245966</td>\n",
       "      <td>-123.099148</td>\n",
       "    </tr>\n",
       "    <tr>\n",
       "      <th>FA039</th>\n",
       "      <td>49.237740</td>\n",
       "      <td>-123.030200</td>\n",
       "    </tr>\n",
       "    <tr>\n",
       "      <th>...</th>\n",
       "      <td>...</td>\n",
       "      <td>...</td>\n",
       "    </tr>\n",
       "    <tr>\n",
       "      <th>FA181</th>\n",
       "      <td>49.243584</td>\n",
       "      <td>-123.045562</td>\n",
       "    </tr>\n",
       "    <tr>\n",
       "      <th>FA182</th>\n",
       "      <td>49.206901</td>\n",
       "      <td>-123.139630</td>\n",
       "    </tr>\n",
       "    <tr>\n",
       "      <th>FA185</th>\n",
       "      <td>49.281340</td>\n",
       "      <td>-123.087377</td>\n",
       "    </tr>\n",
       "    <tr>\n",
       "      <th>FA186</th>\n",
       "      <td>49.276805</td>\n",
       "      <td>-123.046256</td>\n",
       "    </tr>\n",
       "    <tr>\n",
       "      <th>FA189</th>\n",
       "      <td>49.266700</td>\n",
       "      <td>-123.149723</td>\n",
       "    </tr>\n",
       "  </tbody>\n",
       "</table>\n",
       "<p>151 rows × 2 columns</p>\n",
       "</div>"
      ],
      "text/plain": [
       "        Latitude   Longitude\n",
       "MAPID                       \n",
       "FA006  49.275582 -123.024395\n",
       "FA013  49.264165 -123.095733\n",
       "FA025  49.267765 -123.125738\n",
       "FA036  49.245966 -123.099148\n",
       "FA039  49.237740 -123.030200\n",
       "...          ...         ...\n",
       "FA181  49.243584 -123.045562\n",
       "FA182  49.206901 -123.139630\n",
       "FA185  49.281340 -123.087377\n",
       "FA186  49.276805 -123.046256\n",
       "FA189  49.266700 -123.149723\n",
       "\n",
       "[151 rows x 2 columns]"
      ]
     },
     "execution_count": 95,
     "metadata": {},
     "output_type": "execute_result"
    }
   ],
   "source": [
    "gardenDF['Longitude'] = gardenDF['Geom'].apply(lambda x: json.loads(x)['coordinates'][0])\n",
    "gardenDF['Latitude']  = gardenDF['Geom'].apply(lambda x: json.loads(x)['coordinates'][1])\n",
    "gardenDF[['Latitude', 'Longitude']]"
   ]
  },
  {
   "cell_type": "code",
   "execution_count": 96,
   "metadata": {},
   "outputs": [
    {
     "data": {
      "text/plain": [
       "<AxesSubplot:xlabel='Longitude', ylabel='Latitude'>"
      ]
     },
     "execution_count": 96,
     "metadata": {},
     "output_type": "execute_result"
    },
    {
     "data": {
      "image/png": "[encoded data removed]",
      "text/plain": [
       "<Figure size 432x288 with 1 Axes>"
      ]
     },
     "metadata": {
      "needs_background": "light"
     },
     "output_type": "display_data"
    }
   ],
   "source": [
    "gardenDF.plot(\n",
    "    kind='scatter',\n",
    "    x='Longitude',\n",
    "    y='Latitude',\n",
    "    s='NUMBER_OF_PLOTS'\n",
    ")           "
   ]
  },
  {
   "cell_type": "markdown",
   "metadata": {},
   "source": [
    "Once you have an idea of what your data source looks like there are some arguments to `read_csv` (and related functions) which can tidy things up as they are loaded"
   ]
  },
  {
   "cell_type": "code",
   "execution_count": 97,
   "metadata": {},
   "outputs": [
    {
     "data": {
      "text/html": [
       "<div>\n",
       "<style scoped>\n",
       "    .dataframe tbody tr th:only-of-type {\n",
       "        vertical-align: middle;\n",
       "    }\n",
       "\n",
       "    .dataframe tbody tr th {\n",
       "        vertical-align: top;\n",
       "    }\n",
       "\n",
       "    .dataframe thead th {\n",
       "        text-align: right;\n",
       "    }\n",
       "</style>\n",
       "<table border=\"1\" class=\"dataframe\">\n",
       "  <thead>\n",
       "    <tr style=\"text-align: right;\">\n",
       "      <th></th>\n",
       "      <th>YEAR_CREATED</th>\n",
       "      <th>NAME</th>\n",
       "      <th>STREET_NUMBER</th>\n",
       "      <th>STREET_NAME</th>\n",
       "      <th>STEWARD_OR_MANAGING_ORGANIZATION</th>\n",
       "      <th>Geom</th>\n",
       "    </tr>\n",
       "    <tr>\n",
       "      <th>MAPID</th>\n",
       "      <th></th>\n",
       "      <th></th>\n",
       "      <th></th>\n",
       "      <th></th>\n",
       "      <th></th>\n",
       "      <th></th>\n",
       "    </tr>\n",
       "  </thead>\n",
       "  <tbody>\n",
       "    <tr>\n",
       "      <th>FA001</th>\n",
       "      <td>NaT</td>\n",
       "      <td>0 - Private Developments - Community Shared</td>\n",
       "      <td>NaN</td>\n",
       "      <td>NaN</td>\n",
       "      <td>NaN</td>\n",
       "      <td>NaN</td>\n",
       "    </tr>\n",
       "    <tr>\n",
       "      <th>FA006</th>\n",
       "      <td>2011-01-01</td>\n",
       "      <td>Adanac Park Community Garden</td>\n",
       "      <td>1025</td>\n",
       "      <td>Boundary</td>\n",
       "      <td>Adanac Community Garden Society</td>\n",
       "      <td>-123.024395</td>\n",
       "    </tr>\n",
       "    <tr>\n",
       "      <th>FA008</th>\n",
       "      <td>NaT</td>\n",
       "      <td>Arbutus Village Park</td>\n",
       "      <td>4202</td>\n",
       "      <td>Valley</td>\n",
       "      <td>NaN</td>\n",
       "      <td>-123.154995</td>\n",
       "    </tr>\n",
       "    <tr>\n",
       "      <th>FA013</th>\n",
       "      <td>2012-01-01</td>\n",
       "      <td>Brewery Creek Community Garden</td>\n",
       "      <td>2390</td>\n",
       "      <td>Brunswick</td>\n",
       "      <td>Urban Diggers Society</td>\n",
       "      <td>-123.095733</td>\n",
       "    </tr>\n",
       "    <tr>\n",
       "      <th>FA014</th>\n",
       "      <td>NaT</td>\n",
       "      <td>Burrard View Park</td>\n",
       "      <td>650</td>\n",
       "      <td>Penticton</td>\n",
       "      <td>NaN</td>\n",
       "      <td>-123.051918</td>\n",
       "    </tr>\n",
       "  </tbody>\n",
       "</table>\n",
       "</div>"
      ],
      "text/plain": [
       "      YEAR_CREATED                                         NAME STREET_NUMBER  \\\n",
       "MAPID                                                                           \n",
       "FA001          NaT  0 - Private Developments - Community Shared           NaN   \n",
       "FA006   2011-01-01                 Adanac Park Community Garden          1025   \n",
       "FA008          NaT                         Arbutus Village Park          4202   \n",
       "FA013   2012-01-01               Brewery Creek Community Garden          2390   \n",
       "FA014          NaT                            Burrard View Park           650   \n",
       "\n",
       "      STREET_NAME STEWARD_OR_MANAGING_ORGANIZATION        Geom  \n",
       "MAPID                                                           \n",
       "FA001         NaN                              NaN         NaN  \n",
       "FA006    Boundary  Adanac Community Garden Society -123.024395  \n",
       "FA008      Valley                              NaN -123.154995  \n",
       "FA013   Brunswick            Urban Diggers Society -123.095733  \n",
       "FA014   Penticton                              NaN -123.051918  "
      ]
     },
     "execution_count": 97,
     "metadata": {},
     "output_type": "execute_result"
    }
   ],
   "source": [
    "import json\n",
    "\n",
    "def geom2lat(geom):\n",
    "    if geom:\n",
    "        return json.loads(geom)['coordinates'][0]\n",
    "    else:\n",
    "        return np.NaN\n",
    "\n",
    "    \n",
    "gardenDF = pd.read_csv(\n",
    "    \"https://opendata.vancouver.ca/explore/dataset/community-gardens-and-food-trees/download/?format=csv&timezone=America/Los_Angeles&lang=en&use_labels_for_header=true&csv_separator=%3B\",\n",
    "    usecols = [\n",
    "        'MAPID',\n",
    "        'YEAR_CREATED',\n",
    "        'NAME',\n",
    "        'STEWARD_OR_MANAGING_ORGANIZATION',\n",
    "        'STREET_NUMBER',\n",
    "        'STREET_NAME',\n",
    "        'Geom',\n",
    "        'Geom'\n",
    "    ],\n",
    "    delimiter=';',\n",
    "    encoding='latin1',\n",
    "    na_values={\n",
    "        'YEAR_CREATED': ['Pre-2010', 'pre-1970', 'pre 2000', 'nan']\n",
    "    },\n",
    "    index_col='MAPID',\n",
    "    parse_dates=['YEAR_CREATED'],\n",
    "    converters={\n",
    "        'Geom': geom2lat,\n",
    "    }\n",
    ")\n",
    "gardenDF.head()"
   ]
  },
  {
   "cell_type": "markdown",
   "metadata": {},
   "source": [
    "## Accessing Data via APIs\n",
    "\n",
    "An API (Application Programming Interface) is a formal specification describing how systems should communicate with each other. This is an incredibly general notion which could involve information going in both directions and changes being made on both systems. We will only talk about them in the context of extracting data and massaging it into pandas, but full featured APIs could also support authentication, uploading information, telling AWS to shutdown all your ec2 instances or pretty much anything else you could think of.\n",
    "\n",
    "APIs allow applications (you're code) to interact with other applications (someone elses' code) and they're particularly useful where the incoming data is event based or otherwise frequently updated. They also turn up in situations where the entire data set is very large, but individual requests will only need small slices; applications can request the information they need on demand without the source having to pre-prepare all the possible variations for download.\n",
    "\n",
    "Good APIs are versioned (or at the very least stable), well documented and they often implement a pattern called [REST](https://en.wikipedia.org/wiki/Representational_state_transfer). This adds a layer of formality and standardization to the API which which helps to make them more predictable and easier to develop against. Most of the API's I can think of operate over HTTP and pass information back and forth in the [json](https://en.wikipedia.org/wiki/JSON) format.\n"
   ]
  },
  {
   "cell_type": "markdown",
   "metadata": {},
   "source": [
    "For popular APIs (e.g. [twitter](https://developer.twitter.com/en/docs/twitter-api)) you might find that someone has already written a python wrapper for the API (e.g [python-twitter](https://python-twitter.readthedocs.io/en/latest/)). This is usually the best case scenario because it means someone else has done the hard work of reading the API specification for you. In other cases, you might only have access to the API spec or maybe a console to help you build queries. If you're very unlucky, the API will be undocumented, the silver lining in this case is these are usually where the really juicy stuff is stored!\n",
    "\n",
    "* [Vancouver Open Data Portal](https://opendata.vancouver.ca/api/v1/console/datasets/1.0/search/) has a console to help you build queries\n",
    "* [Canada Open Data Portal](https://open.canada.ca/en/working-data#toc93c) has instructions on interfacing with python\n",
    "* [Stats Canada API](https://www.statcan.gc.ca/eng/developers/wds/user-guide#a12-3) See also [this post](https://towardsdatascience.com/how-to-collect-data-from-statistics-canada-using-python-db8a81ce6475) on using that portal\n",
    "* [Twitter API](https://developer.twitter.com/en/docs)\n",
    "* [Open Weather Map](https://openweathermap.org/api)\n",
    "* [NASA](https://api.nasa.gov/) imagery, data, etc.\n",
    "* [GitHub](https://docs.github.com/en/rest)"
   ]
  },
  {
   "cell_type": "markdown",
   "metadata": {},
   "source": [
    "If there isn't a pre-packaged module to take care of your needs the [requests module](https://docs.python-requests.org/en/master/) is usually your best option. Here is a quick example extracting the part of the gardens dataset from the vancouver data portal"
   ]
  },
  {
   "cell_type": "code",
   "execution_count": 99,
   "metadata": {},
   "outputs": [
    {
     "data": {
      "text/plain": [
       "200"
      ]
     },
     "execution_count": 99,
     "metadata": {},
     "output_type": "execute_result"
    }
   ],
   "source": [
    "import requests\n",
    "\n",
    "url = 'https://opendata.vancouver.ca/api/v2/catalog/datasets/community-gardens-and-food-trees/records'\n",
    "headers = {\n",
    " 'Content-Type': 'application/json; charset=utf-8'\n",
    "}\n",
    "\n",
    "\n",
    "params = {\n",
    "    'dataset_id' : 'community-gardens-and-food-trees',\n",
    "    'limit'      : 10,\n",
    "    'facet'      : 'jurisdiction',\n",
    "    'refine'     : 'jurisdiction:City'\n",
    "}\n",
    "\n",
    "\n",
    "r = requests.get(url, params=params)\n",
    "r.status_code"
   ]
  },
  {
   "cell_type": "code",
   "execution_count": 100,
   "metadata": {},
   "outputs": [
    {
     "data": {
      "text/plain": [
       "'application/json; charset=utf-8'"
      ]
     },
     "execution_count": 100,
     "metadata": {},
     "output_type": "execute_result"
    }
   ],
   "source": [
    "r.headers['content-type']"
   ]
  },
  {
   "cell_type": "code",
   "execution_count": 103,
   "metadata": {},
   "outputs": [],
   "source": [
    "r.json();"
   ]
  },
  {
   "cell_type": "markdown",
   "metadata": {},
   "source": [
    "If you look up these params in the the [API documentation](https://opendata.vancouver.ca/api/v2/console#!/dataset/getRecords) you'll see that we are filtering for records where `jurisdiction` is `City` and we are asking for a `limit` of 10 records (which is actually the default value of `limit`). But there are 24 records in total which match that filter (look at the first line of `r.json()`. If we want them all, we have to access them in pages. Before we do that though, we should think about rate limits. Almost every API will implement some form of rate limit and the Vancouver Open Data (as well as a lot of other places) will tell you what your current rate limit status is in the response headers."
   ]
  },
  {
   "cell_type": "code",
   "execution_count": 104,
   "metadata": {},
   "outputs": [
    {
     "data": {
      "text/plain": [
       "{'X-RateLimit-Remaining': '14973',\n",
       " 'X-RateLimit-Limit': '15000',\n",
       " 'X-RateLimit-Reset': '2022-07-13 00:00:00+00:00'}"
      ]
     },
     "execution_count": 104,
     "metadata": {},
     "output_type": "execute_result"
    }
   ],
   "source": [
    "{k:v for k, v in dict(r.headers).items() if k.startswith('X-Rate')}"
   ]
  },
  {
   "cell_type": "markdown",
   "metadata": {},
   "source": [
    "[Their documentation](https://help.opendatasoft.com/apis/ods-search-v1/#quotas) has information on these values. In general, registered users will be given more generous limits. Often this means registering for some kind of token and including it in your requests, we will do this below, but with one **major** caveat. The token is usually equivalent to a password and you should treat it the same way. Don't share it with people, be careful where you use it (including jupyter notebook output cells!), and make sure you don't check it into version control!"
   ]
  },
  {
   "cell_type": "code",
   "execution_count": 105,
   "metadata": {},
   "outputs": [],
   "source": [
    "import os\n",
    "from getpass import getpass"
   ]
  },
  {
   "cell_type": "code",
   "execution_count": null,
   "metadata": {
    "tags": []
   },
   "outputs": [],
   "source": [
    "os.environ['VAN_API_KEY'] = getpass('API Key')"
   ]
  },
  {
   "cell_type": "code",
   "execution_count": 106,
   "metadata": {},
   "outputs": [
    {
     "ename": "KeyError",
     "evalue": "'VAN_API_KEY'",
     "output_type": "error",
     "traceback": [
      "\u001b[0;31m---------------------------------------------------------------------------\u001b[0m",
      "\u001b[0;31mKeyError\u001b[0m                                  Traceback (most recent call last)",
      "Input \u001b[0;32mIn [106]\u001b[0m, in \u001b[0;36m<cell line: 1>\u001b[0;34m()\u001b[0m\n\u001b[0;32m----> 1\u001b[0m params[\u001b[38;5;124m'\u001b[39m\u001b[38;5;124mapikey\u001b[39m\u001b[38;5;124m'\u001b[39m] \u001b[38;5;241m=\u001b[39m \u001b[43mos\u001b[49m\u001b[38;5;241;43m.\u001b[39;49m\u001b[43menviron\u001b[49m\u001b[43m[\u001b[49m\u001b[38;5;124;43m'\u001b[39;49m\u001b[38;5;124;43mVAN_API_KEY\u001b[39;49m\u001b[38;5;124;43m'\u001b[39;49m\u001b[43m]\u001b[49m\n\u001b[1;32m      2\u001b[0m r \u001b[38;5;241m=\u001b[39m requests\u001b[38;5;241m.\u001b[39mget(url, params\u001b[38;5;241m=\u001b[39mparams)\n",
      "File \u001b[0;32m/opt/conda/lib/python3.10/os.py:679\u001b[0m, in \u001b[0;36m_Environ.__getitem__\u001b[0;34m(self, key)\u001b[0m\n\u001b[1;32m    676\u001b[0m     value \u001b[38;5;241m=\u001b[39m \u001b[38;5;28mself\u001b[39m\u001b[38;5;241m.\u001b[39m_data[\u001b[38;5;28mself\u001b[39m\u001b[38;5;241m.\u001b[39mencodekey(key)]\n\u001b[1;32m    677\u001b[0m \u001b[38;5;28;01mexcept\u001b[39;00m \u001b[38;5;167;01mKeyError\u001b[39;00m:\n\u001b[1;32m    678\u001b[0m     \u001b[38;5;66;03m# raise KeyError with the original key value\u001b[39;00m\n\u001b[0;32m--> 679\u001b[0m     \u001b[38;5;28;01mraise\u001b[39;00m \u001b[38;5;167;01mKeyError\u001b[39;00m(key) \u001b[38;5;28;01mfrom\u001b[39;00m \u001b[38;5;28mNone\u001b[39m\n\u001b[1;32m    680\u001b[0m \u001b[38;5;28;01mreturn\u001b[39;00m \u001b[38;5;28mself\u001b[39m\u001b[38;5;241m.\u001b[39mdecodevalue(value)\n",
      "\u001b[0;31mKeyError\u001b[0m: 'VAN_API_KEY'"
     ]
    }
   ],
   "source": [
    "params['apikey'] = os.environ['VAN_API_KEY']\n",
    "r = requests.get(url, params=params)"
   ]
  },
  {
   "cell_type": "code",
   "execution_count": null,
   "metadata": {},
   "outputs": [],
   "source": [
    "{k:v for k, v in dict(r.headers).items() if k.startswith('X-Rate')}"
   ]
  },
  {
   "cell_type": "markdown",
   "metadata": {},
   "source": [
    "With our new rate limit we can make multiple requests and get all of the data we wanted. Even so it is worth limiting the impact we will have on their API, there are modules like [ratelimit](https://pypi.org/project/ratelimit/) which can do this systematically, but we will just add a manual delay."
   ]
  },
  {
   "cell_type": "code",
   "execution_count": 107,
   "metadata": {},
   "outputs": [],
   "source": [
    "import time\n",
    "from urllib.parse import urlencode, urljoin\n",
    "\n",
    "records = []\n",
    "url  = f\"{url}?{urlencode(params)}\"\n",
    "\n",
    "while True:\n",
    "    time.sleep(2)\n",
    "    \n",
    "    r = requests.get(url)\n",
    "    urls = {x['rel']:x['href'] for x in r.json()['links']}\n",
    "\n",
    "    records.extend(r.json()['records'])\n",
    "    \n",
    "    if urls['self'] == urls['last']:\n",
    "        break\n",
    "    else:\n",
    "        url = urls['next']\n",
    "        params = {}"
   ]
  },
  {
   "cell_type": "code",
   "execution_count": 108,
   "metadata": {},
   "outputs": [
    {
     "data": {
      "text/plain": [
       "24"
      ]
     },
     "execution_count": 108,
     "metadata": {},
     "output_type": "execute_result"
    }
   ],
   "source": [
    "len(records)"
   ]
  },
  {
   "cell_type": "markdown",
   "metadata": {},
   "source": [
    "## TimeSeries\n",
    "\n",
    "We've already talked about time and date handling a bit, but I use this a lot, so we can talk about it more! Pandas was created to handle Financial data and do financial modeling. This lineage has given pandas really excellent time handling. The main objects are\n",
    "\n",
    "  * **Time Stamps**: Specific points in time usually recorded to the second or nanosecond\n",
    "  * **Time Intervals/Time Deltas**: These types lets you do arithmetic on time objects\n",
    "\n",
    "We need some dates to play with. There's a convenience function called `to_datetime` which can convert many \"human readable\" dates to a pd.Timestamp object"
   ]
  },
  {
   "cell_type": "code",
   "execution_count": 109,
   "metadata": {},
   "outputs": [
    {
     "data": {
      "text/plain": [
       "Timestamp('1969-07-20 20:17:00+0000', tz='UTC')"
      ]
     },
     "execution_count": 109,
     "metadata": {},
     "output_type": "execute_result"
    }
   ],
   "source": [
    "from datetime import datetime\n",
    "\n",
    "moonwalk = pd.to_datetime('July 20, 1969, 20:17 UTC')\n",
    "moonwalk"
   ]
  },
  {
   "cell_type": "markdown",
   "metadata": {},
   "source": [
    "Timestamps have attributes which let you extract days, year, etc. Normally these will be reported as numbers, but the strftime method supports the usual format specifiers (The correspond with the libc specifiers, here's a reference http://strftime.org/)"
   ]
  },
  {
   "cell_type": "code",
   "execution_count": 110,
   "metadata": {},
   "outputs": [
    {
     "name": "stdout",
     "output_type": "stream",
     "text": [
      "The moon walk took place on a Sunday\n"
     ]
    }
   ],
   "source": [
    "print(f\"The moon walk took place on a {moonwalk.strftime('%A')}\")"
   ]
  },
  {
   "cell_type": "code",
   "execution_count": 111,
   "metadata": {},
   "outputs": [
    {
     "data": {
      "text/plain": [
       "Timestamp('2022-07-12 16:27:26.843322+0000', tz='UTC')"
      ]
     },
     "execution_count": 111,
     "metadata": {},
     "output_type": "execute_result"
    }
   ],
   "source": [
    "pd.to_datetime(datetime.utcnow(), utc=True)"
   ]
  },
  {
   "cell_type": "markdown",
   "metadata": {},
   "source": [
    "Let's look at another sample dataset. This time, it is a record of historical flight data. It contains various columns, we will look at\n",
    "\n",
    "  * `activity_period`: The date for the record in the format yyyymm\n",
    "  * `passenger_count`: Total passengers flying in that period\n",
    "  \n",
    "We can parse the date into a DateTime with `pd.to_datetime` then set the result as the index. We can then slice dates and resample"
   ]
  },
  {
   "cell_type": "code",
   "execution_count": 112,
   "metadata": {},
   "outputs": [],
   "source": [
    "import requests"
   ]
  },
  {
   "cell_type": "code",
   "execution_count": 113,
   "metadata": {},
   "outputs": [
    {
     "data": {
      "text/html": [
       "<div>\n",
       "<style scoped>\n",
       "    .dataframe tbody tr th:only-of-type {\n",
       "        vertical-align: middle;\n",
       "    }\n",
       "\n",
       "    .dataframe tbody tr th {\n",
       "        vertical-align: top;\n",
       "    }\n",
       "\n",
       "    .dataframe thead th {\n",
       "        text-align: right;\n",
       "    }\n",
       "</style>\n",
       "<table border=\"1\" class=\"dataframe\">\n",
       "  <thead>\n",
       "    <tr style=\"text-align: right;\">\n",
       "      <th></th>\n",
       "      <th>activity_period</th>\n",
       "      <th>operating_airline</th>\n",
       "      <th>operating_airline_iata_code</th>\n",
       "      <th>published_airline</th>\n",
       "      <th>published_airline_iata_code</th>\n",
       "      <th>geo_summary</th>\n",
       "      <th>geo_region</th>\n",
       "      <th>activity_type_code</th>\n",
       "      <th>price_category_code</th>\n",
       "      <th>terminal</th>\n",
       "      <th>boarding_area</th>\n",
       "      <th>passenger_count</th>\n",
       "    </tr>\n",
       "  </thead>\n",
       "  <tbody>\n",
       "    <tr>\n",
       "      <th>0</th>\n",
       "      <td>202106</td>\n",
       "      <td>Lufthansa German Airlines</td>\n",
       "      <td>LH</td>\n",
       "      <td>Lufthansa German Airlines</td>\n",
       "      <td>LH</td>\n",
       "      <td>International</td>\n",
       "      <td>Europe</td>\n",
       "      <td>Deplaned</td>\n",
       "      <td>Other</td>\n",
       "      <td>International</td>\n",
       "      <td>G</td>\n",
       "      <td>3336</td>\n",
       "    </tr>\n",
       "    <tr>\n",
       "      <th>1</th>\n",
       "      <td>202106</td>\n",
       "      <td>SkyWest Airlines</td>\n",
       "      <td>OO</td>\n",
       "      <td>Delta Air Lines</td>\n",
       "      <td>DL</td>\n",
       "      <td>Domestic</td>\n",
       "      <td>US</td>\n",
       "      <td>Enplaned</td>\n",
       "      <td>Other</td>\n",
       "      <td>Terminal 2</td>\n",
       "      <td>D</td>\n",
       "      <td>3626</td>\n",
       "    </tr>\n",
       "    <tr>\n",
       "      <th>2</th>\n",
       "      <td>202106</td>\n",
       "      <td>United Airlines</td>\n",
       "      <td>UA</td>\n",
       "      <td>United Airlines</td>\n",
       "      <td>UA</td>\n",
       "      <td>Domestic</td>\n",
       "      <td>US</td>\n",
       "      <td>Thru / Transit</td>\n",
       "      <td>Other</td>\n",
       "      <td>Terminal 3</td>\n",
       "      <td>F</td>\n",
       "      <td>144</td>\n",
       "    </tr>\n",
       "    <tr>\n",
       "      <th>3</th>\n",
       "      <td>202106</td>\n",
       "      <td>Jazz Aviation</td>\n",
       "      <td>QK</td>\n",
       "      <td>Air Canada</td>\n",
       "      <td>AC</td>\n",
       "      <td>International</td>\n",
       "      <td>Canada</td>\n",
       "      <td>Deplaned</td>\n",
       "      <td>Other</td>\n",
       "      <td>International</td>\n",
       "      <td>G</td>\n",
       "      <td>1669</td>\n",
       "    </tr>\n",
       "    <tr>\n",
       "      <th>4</th>\n",
       "      <td>202106</td>\n",
       "      <td>TAP Air Portugal</td>\n",
       "      <td>TP</td>\n",
       "      <td>TAP Air Portugal</td>\n",
       "      <td>TP</td>\n",
       "      <td>International</td>\n",
       "      <td>Europe</td>\n",
       "      <td>Enplaned</td>\n",
       "      <td>Other</td>\n",
       "      <td>International</td>\n",
       "      <td>G</td>\n",
       "      <td>1923</td>\n",
       "    </tr>\n",
       "  </tbody>\n",
       "</table>\n",
       "</div>"
      ],
      "text/plain": [
       "  activity_period          operating_airline operating_airline_iata_code  \\\n",
       "0          202106  Lufthansa German Airlines                          LH   \n",
       "1          202106           SkyWest Airlines                          OO   \n",
       "2          202106            United Airlines                          UA   \n",
       "3          202106              Jazz Aviation                          QK   \n",
       "4          202106           TAP Air Portugal                          TP   \n",
       "\n",
       "           published_airline published_airline_iata_code    geo_summary  \\\n",
       "0  Lufthansa German Airlines                          LH  International   \n",
       "1            Delta Air Lines                          DL       Domestic   \n",
       "2            United Airlines                          UA       Domestic   \n",
       "3                 Air Canada                          AC  International   \n",
       "4           TAP Air Portugal                          TP  International   \n",
       "\n",
       "  geo_region activity_type_code price_category_code       terminal  \\\n",
       "0     Europe           Deplaned               Other  International   \n",
       "1         US           Enplaned               Other     Terminal 2   \n",
       "2         US     Thru / Transit               Other     Terminal 3   \n",
       "3     Canada           Deplaned               Other  International   \n",
       "4     Europe           Enplaned               Other  International   \n",
       "\n",
       "  boarding_area passenger_count  \n",
       "0             G            3336  \n",
       "1             D            3626  \n",
       "2             F             144  \n",
       "3             G            1669  \n",
       "4             G            1923  "
      ]
     },
     "execution_count": 113,
     "metadata": {},
     "output_type": "execute_result"
    }
   ],
   "source": [
    "r = requests.get('https://data.sfgov.org/resource/rkru-6vcg?$limit=10000')\n",
    "\n",
    "flightsDF = pd.DataFrame(r.json())\n",
    "flightsDF.head()"
   ]
  },
  {
   "cell_type": "code",
   "execution_count": 114,
   "metadata": {},
   "outputs": [
    {
     "data": {
      "text/plain": [
       "activity_period                object\n",
       "operating_airline              object\n",
       "operating_airline_iata_code    object\n",
       "published_airline              object\n",
       "published_airline_iata_code    object\n",
       "geo_summary                    object\n",
       "geo_region                     object\n",
       "activity_type_code             object\n",
       "price_category_code            object\n",
       "terminal                       object\n",
       "boarding_area                  object\n",
       "passenger_count                object\n",
       "dtype: object"
      ]
     },
     "execution_count": 114,
     "metadata": {},
     "output_type": "execute_result"
    }
   ],
   "source": [
    "flightsDF.dtypes"
   ]
  },
  {
   "cell_type": "code",
   "execution_count": 115,
   "metadata": {},
   "outputs": [
    {
     "data": {
      "text/html": [
       "<div>\n",
       "<style scoped>\n",
       "    .dataframe tbody tr th:only-of-type {\n",
       "        vertical-align: middle;\n",
       "    }\n",
       "\n",
       "    .dataframe tbody tr th {\n",
       "        vertical-align: top;\n",
       "    }\n",
       "\n",
       "    .dataframe thead th {\n",
       "        text-align: right;\n",
       "    }\n",
       "</style>\n",
       "<table border=\"1\" class=\"dataframe\">\n",
       "  <thead>\n",
       "    <tr style=\"text-align: right;\">\n",
       "      <th></th>\n",
       "      <th>activity_period</th>\n",
       "      <th>operating_airline</th>\n",
       "      <th>operating_airline_iata_code</th>\n",
       "      <th>published_airline</th>\n",
       "      <th>published_airline_iata_code</th>\n",
       "      <th>geo_summary</th>\n",
       "      <th>geo_region</th>\n",
       "      <th>activity_type_code</th>\n",
       "      <th>price_category_code</th>\n",
       "      <th>terminal</th>\n",
       "      <th>boarding_area</th>\n",
       "      <th>passenger_count</th>\n",
       "    </tr>\n",
       "    <tr>\n",
       "      <th>date</th>\n",
       "      <th></th>\n",
       "      <th></th>\n",
       "      <th></th>\n",
       "      <th></th>\n",
       "      <th></th>\n",
       "      <th></th>\n",
       "      <th></th>\n",
       "      <th></th>\n",
       "      <th></th>\n",
       "      <th></th>\n",
       "      <th></th>\n",
       "      <th></th>\n",
       "    </tr>\n",
       "  </thead>\n",
       "  <tbody>\n",
       "    <tr>\n",
       "      <th>2021-06-01</th>\n",
       "      <td>202106</td>\n",
       "      <td>Lufthansa German Airlines</td>\n",
       "      <td>LH</td>\n",
       "      <td>Lufthansa German Airlines</td>\n",
       "      <td>LH</td>\n",
       "      <td>International</td>\n",
       "      <td>Europe</td>\n",
       "      <td>Deplaned</td>\n",
       "      <td>Other</td>\n",
       "      <td>International</td>\n",
       "      <td>G</td>\n",
       "      <td>3336</td>\n",
       "    </tr>\n",
       "    <tr>\n",
       "      <th>2021-06-01</th>\n",
       "      <td>202106</td>\n",
       "      <td>SkyWest Airlines</td>\n",
       "      <td>OO</td>\n",
       "      <td>Delta Air Lines</td>\n",
       "      <td>DL</td>\n",
       "      <td>Domestic</td>\n",
       "      <td>US</td>\n",
       "      <td>Enplaned</td>\n",
       "      <td>Other</td>\n",
       "      <td>Terminal 2</td>\n",
       "      <td>D</td>\n",
       "      <td>3626</td>\n",
       "    </tr>\n",
       "    <tr>\n",
       "      <th>2021-06-01</th>\n",
       "      <td>202106</td>\n",
       "      <td>United Airlines</td>\n",
       "      <td>UA</td>\n",
       "      <td>United Airlines</td>\n",
       "      <td>UA</td>\n",
       "      <td>Domestic</td>\n",
       "      <td>US</td>\n",
       "      <td>Thru / Transit</td>\n",
       "      <td>Other</td>\n",
       "      <td>Terminal 3</td>\n",
       "      <td>F</td>\n",
       "      <td>144</td>\n",
       "    </tr>\n",
       "    <tr>\n",
       "      <th>2021-06-01</th>\n",
       "      <td>202106</td>\n",
       "      <td>Jazz Aviation</td>\n",
       "      <td>QK</td>\n",
       "      <td>Air Canada</td>\n",
       "      <td>AC</td>\n",
       "      <td>International</td>\n",
       "      <td>Canada</td>\n",
       "      <td>Deplaned</td>\n",
       "      <td>Other</td>\n",
       "      <td>International</td>\n",
       "      <td>G</td>\n",
       "      <td>1669</td>\n",
       "    </tr>\n",
       "    <tr>\n",
       "      <th>2021-06-01</th>\n",
       "      <td>202106</td>\n",
       "      <td>TAP Air Portugal</td>\n",
       "      <td>TP</td>\n",
       "      <td>TAP Air Portugal</td>\n",
       "      <td>TP</td>\n",
       "      <td>International</td>\n",
       "      <td>Europe</td>\n",
       "      <td>Enplaned</td>\n",
       "      <td>Other</td>\n",
       "      <td>International</td>\n",
       "      <td>G</td>\n",
       "      <td>1923</td>\n",
       "    </tr>\n",
       "  </tbody>\n",
       "</table>\n",
       "</div>"
      ],
      "text/plain": [
       "           activity_period          operating_airline  \\\n",
       "date                                                    \n",
       "2021-06-01          202106  Lufthansa German Airlines   \n",
       "2021-06-01          202106           SkyWest Airlines   \n",
       "2021-06-01          202106            United Airlines   \n",
       "2021-06-01          202106              Jazz Aviation   \n",
       "2021-06-01          202106           TAP Air Portugal   \n",
       "\n",
       "           operating_airline_iata_code          published_airline  \\\n",
       "date                                                                \n",
       "2021-06-01                          LH  Lufthansa German Airlines   \n",
       "2021-06-01                          OO            Delta Air Lines   \n",
       "2021-06-01                          UA            United Airlines   \n",
       "2021-06-01                          QK                 Air Canada   \n",
       "2021-06-01                          TP           TAP Air Portugal   \n",
       "\n",
       "           published_airline_iata_code    geo_summary geo_region  \\\n",
       "date                                                               \n",
       "2021-06-01                          LH  International     Europe   \n",
       "2021-06-01                          DL       Domestic         US   \n",
       "2021-06-01                          UA       Domestic         US   \n",
       "2021-06-01                          AC  International     Canada   \n",
       "2021-06-01                          TP  International     Europe   \n",
       "\n",
       "           activity_type_code price_category_code       terminal  \\\n",
       "date                                                               \n",
       "2021-06-01           Deplaned               Other  International   \n",
       "2021-06-01           Enplaned               Other     Terminal 2   \n",
       "2021-06-01     Thru / Transit               Other     Terminal 3   \n",
       "2021-06-01           Deplaned               Other  International   \n",
       "2021-06-01           Enplaned               Other  International   \n",
       "\n",
       "           boarding_area  passenger_count  \n",
       "date                                       \n",
       "2021-06-01             G             3336  \n",
       "2021-06-01             D             3626  \n",
       "2021-06-01             F              144  \n",
       "2021-06-01             G             1669  \n",
       "2021-06-01             G             1923  "
      ]
     },
     "execution_count": 115,
     "metadata": {},
     "output_type": "execute_result"
    }
   ],
   "source": [
    "flightsDF['passenger_count'] = flightsDF['passenger_count'].astype(int)\n",
    "flightsDF['date'] = pd.to_datetime(flightsDF['activity_period'], format='%Y%m')\n",
    "\n",
    "flightsDF.set_index('date', inplace=True)\n",
    "flightsDF.head()"
   ]
  },
  {
   "cell_type": "markdown",
   "metadata": {},
   "source": [
    "You can resample data into different time periods. E.g. here we resample monthly, summing the values in each month"
   ]
  },
  {
   "cell_type": "code",
   "execution_count": 117,
   "metadata": {},
   "outputs": [
    {
     "data": {
      "text/html": [
       "<div>\n",
       "<style scoped>\n",
       "    .dataframe tbody tr th:only-of-type {\n",
       "        vertical-align: middle;\n",
       "    }\n",
       "\n",
       "    .dataframe tbody tr th {\n",
       "        vertical-align: top;\n",
       "    }\n",
       "\n",
       "    .dataframe thead th {\n",
       "        text-align: right;\n",
       "    }\n",
       "</style>\n",
       "<table border=\"1\" class=\"dataframe\">\n",
       "  <thead>\n",
       "    <tr style=\"text-align: right;\">\n",
       "      <th></th>\n",
       "      <th>passenger_count</th>\n",
       "    </tr>\n",
       "    <tr>\n",
       "      <th>date</th>\n",
       "      <th></th>\n",
       "    </tr>\n",
       "  </thead>\n",
       "  <tbody>\n",
       "    <tr>\n",
       "      <th>2018-03-31</th>\n",
       "      <td>3745874</td>\n",
       "    </tr>\n",
       "    <tr>\n",
       "      <th>2018-04-30</th>\n",
       "      <td>9426366</td>\n",
       "    </tr>\n",
       "    <tr>\n",
       "      <th>2018-05-31</th>\n",
       "      <td>10051190</td>\n",
       "    </tr>\n",
       "    <tr>\n",
       "      <th>2018-06-30</th>\n",
       "      <td>10854288</td>\n",
       "    </tr>\n",
       "    <tr>\n",
       "      <th>2018-07-31</th>\n",
       "      <td>11385144</td>\n",
       "    </tr>\n",
       "  </tbody>\n",
       "</table>\n",
       "</div>"
      ],
      "text/plain": [
       "            passenger_count\n",
       "date                       \n",
       "2018-03-31          3745874\n",
       "2018-04-30          9426366\n",
       "2018-05-31         10051190\n",
       "2018-06-30         10854288\n",
       "2018-07-31         11385144"
      ]
     },
     "execution_count": 117,
     "metadata": {},
     "output_type": "execute_result"
    }
   ],
   "source": [
    "monthlyFlightsDF = flightsDF.resample('M').sum()\n",
    "monthlyFlightsDF.head()"
   ]
  },
  {
   "cell_type": "code",
   "execution_count": 118,
   "metadata": {},
   "outputs": [
    {
     "data": {
      "text/plain": [
       "<AxesSubplot:xlabel='date'>"
      ]
     },
     "execution_count": 118,
     "metadata": {},
     "output_type": "execute_result"
    },
    {
     "data": {
      "image/png": "[encoded data removed]",
      "text/plain": [
       "<Figure size 432x288 with 1 Axes>"
      ]
     },
     "metadata": {
      "needs_background": "light"
     },
     "output_type": "display_data"
    }
   ],
   "source": [
    "monthlyFlightsDF.loc['2021-01-01':, 'passenger_count'].plot(kind='bar')"
   ]
  },
  {
   "cell_type": "markdown",
   "metadata": {},
   "source": [
    "Timestamp objects can also deal with arithmetic"
   ]
  },
  {
   "cell_type": "code",
   "execution_count": 119,
   "metadata": {},
   "outputs": [
    {
     "data": {
      "text/plain": [
       "Timedelta('-1188 days +00:00:00')"
      ]
     },
     "execution_count": 119,
     "metadata": {},
     "output_type": "execute_result"
    }
   ],
   "source": [
    "flightsDF.index[-1] - flightsDF.index[0]"
   ]
  },
  {
   "cell_type": "code",
   "execution_count": 120,
   "metadata": {},
   "outputs": [
    {
     "data": {
      "text/plain": [
       "<AxesSubplot:xlabel='date'>"
      ]
     },
     "execution_count": 120,
     "metadata": {},
     "output_type": "execute_result"
    },
    {
     "data": {
      "image/png": "[encoded data removed]",
      "text/plain": [
       "<Figure size 432x288 with 1 Axes>"
      ]
     },
     "metadata": {
      "needs_background": "light"
     },
     "output_type": "display_data"
    }
   ],
   "source": [
    "flightsDF.resample('Y').mean().plot(kind='bar')"
   ]
  },
  {
   "cell_type": "markdown",
   "metadata": {},
   "source": [
    "As an aside, this dataset has quite a few categorical variables (`dtype== object`). Modules like `sklearn` will normally want to deal with purely numerical values. `sklearn` has it's own tools for doing this sort of transform, but pandas can also do it at a lower level "
   ]
  },
  {
   "cell_type": "code",
   "execution_count": 121,
   "metadata": {},
   "outputs": [
    {
     "data": {
      "text/plain": [
       "['activity_period',\n",
       " 'operating_airline',\n",
       " 'operating_airline_iata_code',\n",
       " 'published_airline',\n",
       " 'published_airline_iata_code',\n",
       " 'geo_summary',\n",
       " 'geo_region',\n",
       " 'activity_type_code',\n",
       " 'price_category_code',\n",
       " 'terminal',\n",
       " 'boarding_area']"
      ]
     },
     "execution_count": 121,
     "metadata": {},
     "output_type": "execute_result"
    }
   ],
   "source": [
    "categorical_cols = [col for col in flightsDF.columns if flightsDF[col].dtype =='object']\n",
    "categorical_cols"
   ]
  },
  {
   "cell_type": "markdown",
   "metadata": {},
   "source": [
    "The `value_counts` method can be very useful to get an idea of how categorical values are distributed..."
   ]
  },
  {
   "cell_type": "code",
   "execution_count": 122,
   "metadata": {},
   "outputs": [
    {
     "data": {
      "text/plain": [
       "US                     3012\n",
       "Europe                 2109\n",
       "Asia                   2057\n",
       "Canada                  810\n",
       "Mexico                  752\n",
       "Australia / Oceania     672\n",
       "Middle East             312\n",
       "Central America         276\n",
       "Name: geo_region, dtype: int64"
      ]
     },
     "execution_count": 122,
     "metadata": {},
     "output_type": "execute_result"
    }
   ],
   "source": [
    "flightsDF['geo_region'].value_counts()"
   ]
  },
  {
   "cell_type": "code",
   "execution_count": 123,
   "metadata": {},
   "outputs": [
    {
     "data": {
      "text/html": [
       "<div>\n",
       "<style scoped>\n",
       "    .dataframe tbody tr th:only-of-type {\n",
       "        vertical-align: middle;\n",
       "    }\n",
       "\n",
       "    .dataframe tbody tr th {\n",
       "        vertical-align: top;\n",
       "    }\n",
       "\n",
       "    .dataframe thead th {\n",
       "        text-align: right;\n",
       "    }\n",
       "</style>\n",
       "<table border=\"1\" class=\"dataframe\">\n",
       "  <thead>\n",
       "    <tr style=\"text-align: right;\">\n",
       "      <th></th>\n",
       "      <th>activity_period</th>\n",
       "      <th>operating_airline</th>\n",
       "      <th>operating_airline_iata_code</th>\n",
       "      <th>published_airline</th>\n",
       "      <th>published_airline_iata_code</th>\n",
       "      <th>geo_summary</th>\n",
       "      <th>activity_type_code</th>\n",
       "      <th>price_category_code</th>\n",
       "      <th>terminal</th>\n",
       "      <th>boarding_area</th>\n",
       "      <th>passenger_count</th>\n",
       "      <th>Asia</th>\n",
       "      <th>Australia / Oceania</th>\n",
       "      <th>Canada</th>\n",
       "      <th>Central America</th>\n",
       "      <th>Europe</th>\n",
       "      <th>Mexico</th>\n",
       "      <th>Middle East</th>\n",
       "      <th>US</th>\n",
       "    </tr>\n",
       "    <tr>\n",
       "      <th>date</th>\n",
       "      <th></th>\n",
       "      <th></th>\n",
       "      <th></th>\n",
       "      <th></th>\n",
       "      <th></th>\n",
       "      <th></th>\n",
       "      <th></th>\n",
       "      <th></th>\n",
       "      <th></th>\n",
       "      <th></th>\n",
       "      <th></th>\n",
       "      <th></th>\n",
       "      <th></th>\n",
       "      <th></th>\n",
       "      <th></th>\n",
       "      <th></th>\n",
       "      <th></th>\n",
       "      <th></th>\n",
       "      <th></th>\n",
       "    </tr>\n",
       "  </thead>\n",
       "  <tbody>\n",
       "    <tr>\n",
       "      <th>2018-03-01</th>\n",
       "      <td>201803</td>\n",
       "      <td>ABC Aerolineas S.A. de C.V. dba Interjet</td>\n",
       "      <td>4O</td>\n",
       "      <td>ABC Aerolineas S.A. de C.V. dba Interjet</td>\n",
       "      <td>4O</td>\n",
       "      <td>International</td>\n",
       "      <td>Deplaned</td>\n",
       "      <td>Other</td>\n",
       "      <td>International</td>\n",
       "      <td>A</td>\n",
       "      <td>1090</td>\n",
       "      <td>0</td>\n",
       "      <td>0</td>\n",
       "      <td>0</td>\n",
       "      <td>0</td>\n",
       "      <td>0</td>\n",
       "      <td>1</td>\n",
       "      <td>0</td>\n",
       "      <td>0</td>\n",
       "    </tr>\n",
       "    <tr>\n",
       "      <th>2018-03-01</th>\n",
       "      <td>201803</td>\n",
       "      <td>ABC Aerolineas S.A. de C.V. dba Interjet</td>\n",
       "      <td>4O</td>\n",
       "      <td>ABC Aerolineas S.A. de C.V. dba Interjet</td>\n",
       "      <td>4O</td>\n",
       "      <td>International</td>\n",
       "      <td>Deplaned</td>\n",
       "      <td>Other</td>\n",
       "      <td>International</td>\n",
       "      <td>A</td>\n",
       "      <td>1090</td>\n",
       "      <td>0</td>\n",
       "      <td>0</td>\n",
       "      <td>0</td>\n",
       "      <td>0</td>\n",
       "      <td>0</td>\n",
       "      <td>1</td>\n",
       "      <td>0</td>\n",
       "      <td>0</td>\n",
       "    </tr>\n",
       "    <tr>\n",
       "      <th>2018-03-01</th>\n",
       "      <td>201803</td>\n",
       "      <td>ABC Aerolineas S.A. de C.V. dba Interjet</td>\n",
       "      <td>4O</td>\n",
       "      <td>ABC Aerolineas S.A. de C.V. dba Interjet</td>\n",
       "      <td>4O</td>\n",
       "      <td>International</td>\n",
       "      <td>Deplaned</td>\n",
       "      <td>Other</td>\n",
       "      <td>International</td>\n",
       "      <td>A</td>\n",
       "      <td>1090</td>\n",
       "      <td>0</td>\n",
       "      <td>0</td>\n",
       "      <td>0</td>\n",
       "      <td>0</td>\n",
       "      <td>1</td>\n",
       "      <td>0</td>\n",
       "      <td>0</td>\n",
       "      <td>0</td>\n",
       "    </tr>\n",
       "    <tr>\n",
       "      <th>2018-03-01</th>\n",
       "      <td>201803</td>\n",
       "      <td>ABC Aerolineas S.A. de C.V. dba Interjet</td>\n",
       "      <td>4O</td>\n",
       "      <td>ABC Aerolineas S.A. de C.V. dba Interjet</td>\n",
       "      <td>4O</td>\n",
       "      <td>International</td>\n",
       "      <td>Deplaned</td>\n",
       "      <td>Other</td>\n",
       "      <td>International</td>\n",
       "      <td>A</td>\n",
       "      <td>1090</td>\n",
       "      <td>0</td>\n",
       "      <td>0</td>\n",
       "      <td>0</td>\n",
       "      <td>0</td>\n",
       "      <td>1</td>\n",
       "      <td>0</td>\n",
       "      <td>0</td>\n",
       "      <td>0</td>\n",
       "    </tr>\n",
       "    <tr>\n",
       "      <th>2018-03-01</th>\n",
       "      <td>201803</td>\n",
       "      <td>ABC Aerolineas S.A. de C.V. dba Interjet</td>\n",
       "      <td>4O</td>\n",
       "      <td>ABC Aerolineas S.A. de C.V. dba Interjet</td>\n",
       "      <td>4O</td>\n",
       "      <td>International</td>\n",
       "      <td>Deplaned</td>\n",
       "      <td>Other</td>\n",
       "      <td>International</td>\n",
       "      <td>A</td>\n",
       "      <td>1090</td>\n",
       "      <td>0</td>\n",
       "      <td>0</td>\n",
       "      <td>0</td>\n",
       "      <td>0</td>\n",
       "      <td>0</td>\n",
       "      <td>1</td>\n",
       "      <td>0</td>\n",
       "      <td>0</td>\n",
       "    </tr>\n",
       "  </tbody>\n",
       "</table>\n",
       "</div>"
      ],
      "text/plain": [
       "           activity_period                         operating_airline  \\\n",
       "date                                                                   \n",
       "2018-03-01          201803  ABC Aerolineas S.A. de C.V. dba Interjet   \n",
       "2018-03-01          201803  ABC Aerolineas S.A. de C.V. dba Interjet   \n",
       "2018-03-01          201803  ABC Aerolineas S.A. de C.V. dba Interjet   \n",
       "2018-03-01          201803  ABC Aerolineas S.A. de C.V. dba Interjet   \n",
       "2018-03-01          201803  ABC Aerolineas S.A. de C.V. dba Interjet   \n",
       "\n",
       "           operating_airline_iata_code  \\\n",
       "date                                     \n",
       "2018-03-01                          4O   \n",
       "2018-03-01                          4O   \n",
       "2018-03-01                          4O   \n",
       "2018-03-01                          4O   \n",
       "2018-03-01                          4O   \n",
       "\n",
       "                                   published_airline  \\\n",
       "date                                                   \n",
       "2018-03-01  ABC Aerolineas S.A. de C.V. dba Interjet   \n",
       "2018-03-01  ABC Aerolineas S.A. de C.V. dba Interjet   \n",
       "2018-03-01  ABC Aerolineas S.A. de C.V. dba Interjet   \n",
       "2018-03-01  ABC Aerolineas S.A. de C.V. dba Interjet   \n",
       "2018-03-01  ABC Aerolineas S.A. de C.V. dba Interjet   \n",
       "\n",
       "           published_airline_iata_code    geo_summary activity_type_code  \\\n",
       "date                                                                       \n",
       "2018-03-01                          4O  International           Deplaned   \n",
       "2018-03-01                          4O  International           Deplaned   \n",
       "2018-03-01                          4O  International           Deplaned   \n",
       "2018-03-01                          4O  International           Deplaned   \n",
       "2018-03-01                          4O  International           Deplaned   \n",
       "\n",
       "           price_category_code       terminal boarding_area  passenger_count  \\\n",
       "date                                                                           \n",
       "2018-03-01               Other  International             A             1090   \n",
       "2018-03-01               Other  International             A             1090   \n",
       "2018-03-01               Other  International             A             1090   \n",
       "2018-03-01               Other  International             A             1090   \n",
       "2018-03-01               Other  International             A             1090   \n",
       "\n",
       "            Asia  Australia / Oceania  Canada  Central America  Europe  \\\n",
       "date                                                                     \n",
       "2018-03-01     0                    0       0                0       0   \n",
       "2018-03-01     0                    0       0                0       0   \n",
       "2018-03-01     0                    0       0                0       1   \n",
       "2018-03-01     0                    0       0                0       1   \n",
       "2018-03-01     0                    0       0                0       0   \n",
       "\n",
       "            Mexico  Middle East  US  \n",
       "date                                 \n",
       "2018-03-01       1            0   0  \n",
       "2018-03-01       1            0   0  \n",
       "2018-03-01       0            0   0  \n",
       "2018-03-01       0            0   0  \n",
       "2018-03-01       1            0   0  "
      ]
     },
     "execution_count": 123,
     "metadata": {},
     "output_type": "execute_result"
    }
   ],
   "source": [
    "airlines_one_hot = pd.get_dummies(flightsDF['geo_region'])\n",
    "flightsDF = flightsDF.drop('geo_region',axis = 1)\n",
    "flightsDF.join(airlines_one_hot).head()"
   ]
  },
  {
   "cell_type": "markdown",
   "metadata": {},
   "source": [
    "## Grouping, Joining, Concatenating\n",
    "\n",
    "You can get pretty far by jamming everything into a single dataframe, but sometimes you might want to do aggregate operations within a dataframe (e.g. group together all of the rows by year and show the mean value of some other column). Alternatively you might want to add new rows to or columns to an existing DataFrame or join dataframes based on shared key.\n",
    "\n",
    "\n",
    "Another dataset..."
   ]
  },
  {
   "cell_type": "code",
   "execution_count": 124,
   "metadata": {},
   "outputs": [
    {
     "data": {
      "text/html": [
       "<div>\n",
       "<style scoped>\n",
       "    .dataframe tbody tr th:only-of-type {\n",
       "        vertical-align: middle;\n",
       "    }\n",
       "\n",
       "    .dataframe tbody tr th {\n",
       "        vertical-align: top;\n",
       "    }\n",
       "\n",
       "    .dataframe thead th {\n",
       "        text-align: right;\n",
       "    }\n",
       "</style>\n",
       "<table border=\"1\" class=\"dataframe\">\n",
       "  <thead>\n",
       "    <tr style=\"text-align: right;\">\n",
       "      <th></th>\n",
       "      <th>mpg</th>\n",
       "      <th>cylinders</th>\n",
       "      <th>displacement</th>\n",
       "      <th>horsepower</th>\n",
       "      <th>weight</th>\n",
       "      <th>acceleration</th>\n",
       "      <th>model_year</th>\n",
       "      <th>origin</th>\n",
       "      <th>name</th>\n",
       "    </tr>\n",
       "  </thead>\n",
       "  <tbody>\n",
       "    <tr>\n",
       "      <th>0</th>\n",
       "      <td>18.0</td>\n",
       "      <td>8</td>\n",
       "      <td>307.0</td>\n",
       "      <td>130.0</td>\n",
       "      <td>3504</td>\n",
       "      <td>12.0</td>\n",
       "      <td>70</td>\n",
       "      <td>usa</td>\n",
       "      <td>chevrolet chevelle malibu</td>\n",
       "    </tr>\n",
       "    <tr>\n",
       "      <th>1</th>\n",
       "      <td>15.0</td>\n",
       "      <td>8</td>\n",
       "      <td>350.0</td>\n",
       "      <td>165.0</td>\n",
       "      <td>3693</td>\n",
       "      <td>11.5</td>\n",
       "      <td>70</td>\n",
       "      <td>usa</td>\n",
       "      <td>buick skylark 320</td>\n",
       "    </tr>\n",
       "    <tr>\n",
       "      <th>2</th>\n",
       "      <td>18.0</td>\n",
       "      <td>8</td>\n",
       "      <td>318.0</td>\n",
       "      <td>150.0</td>\n",
       "      <td>3436</td>\n",
       "      <td>11.0</td>\n",
       "      <td>70</td>\n",
       "      <td>usa</td>\n",
       "      <td>plymouth satellite</td>\n",
       "    </tr>\n",
       "    <tr>\n",
       "      <th>3</th>\n",
       "      <td>16.0</td>\n",
       "      <td>8</td>\n",
       "      <td>304.0</td>\n",
       "      <td>150.0</td>\n",
       "      <td>3433</td>\n",
       "      <td>12.0</td>\n",
       "      <td>70</td>\n",
       "      <td>usa</td>\n",
       "      <td>amc rebel sst</td>\n",
       "    </tr>\n",
       "    <tr>\n",
       "      <th>4</th>\n",
       "      <td>17.0</td>\n",
       "      <td>8</td>\n",
       "      <td>302.0</td>\n",
       "      <td>140.0</td>\n",
       "      <td>3449</td>\n",
       "      <td>10.5</td>\n",
       "      <td>70</td>\n",
       "      <td>usa</td>\n",
       "      <td>ford torino</td>\n",
       "    </tr>\n",
       "  </tbody>\n",
       "</table>\n",
       "</div>"
      ],
      "text/plain": [
       "    mpg  cylinders  displacement  horsepower  weight  acceleration  \\\n",
       "0  18.0          8         307.0       130.0    3504          12.0   \n",
       "1  15.0          8         350.0       165.0    3693          11.5   \n",
       "2  18.0          8         318.0       150.0    3436          11.0   \n",
       "3  16.0          8         304.0       150.0    3433          12.0   \n",
       "4  17.0          8         302.0       140.0    3449          10.5   \n",
       "\n",
       "   model_year origin                       name  \n",
       "0          70    usa  chevrolet chevelle malibu  \n",
       "1          70    usa          buick skylark 320  \n",
       "2          70    usa         plymouth satellite  \n",
       "3          70    usa              amc rebel sst  \n",
       "4          70    usa                ford torino  "
      ]
     },
     "execution_count": 124,
     "metadata": {},
     "output_type": "execute_result"
    }
   ],
   "source": [
    "carsDF = pd.read_csv(\n",
    "    'https://raw.githubusercontent.com/mwaskom/seaborn-data/master/mpg.csv'\n",
    ")\n",
    "carsDF.head()"
   ]
  },
  {
   "cell_type": "markdown",
   "metadata": {},
   "source": [
    "### Groupby\n",
    "Let's group things by number_of_cylinders and see how that affects mpg..."
   ]
  },
  {
   "cell_type": "code",
   "execution_count": 125,
   "metadata": {},
   "outputs": [
    {
     "data": {
      "text/plain": [
       "23.514572864321615"
      ]
     },
     "execution_count": 125,
     "metadata": {},
     "output_type": "execute_result"
    }
   ],
   "source": [
    "carsDF['mpg'].mean()"
   ]
  },
  {
   "cell_type": "markdown",
   "metadata": {},
   "source": [
    "Calling `groupby` on it's own will give you a `DataFrameGroupBy` object, informally you can think of this as a collection of Dataframes with subsets of the original Dataframe grouped together based on your condition. You can then perform aggregate operations (e.g. `sum`, `mean` etc.) on these groups to actually see some results."
   ]
  },
  {
   "cell_type": "code",
   "execution_count": 126,
   "metadata": {},
   "outputs": [
    {
     "data": {
      "text/plain": [
       "<pandas.core.groupby.generic.DataFrameGroupBy object at 0x7f6a880bcfd0>"
      ]
     },
     "execution_count": 126,
     "metadata": {},
     "output_type": "execute_result"
    }
   ],
   "source": [
    "carsDFbyCylinders = carsDF.groupby('cylinders')\n",
    "carsDFbyCylinders"
   ]
  },
  {
   "cell_type": "markdown",
   "metadata": {},
   "source": [
    "The typical aggregate operations are things like\n",
    "\n",
    "  * mean()\n",
    "  * sum()\n",
    "  * median()\n",
    "  * min()/max()"
   ]
  },
  {
   "cell_type": "code",
   "execution_count": 127,
   "metadata": {},
   "outputs": [
    {
     "data": {
      "text/html": [
       "<div>\n",
       "<style scoped>\n",
       "    .dataframe tbody tr th:only-of-type {\n",
       "        vertical-align: middle;\n",
       "    }\n",
       "\n",
       "    .dataframe tbody tr th {\n",
       "        vertical-align: top;\n",
       "    }\n",
       "\n",
       "    .dataframe thead th {\n",
       "        text-align: right;\n",
       "    }\n",
       "</style>\n",
       "<table border=\"1\" class=\"dataframe\">\n",
       "  <thead>\n",
       "    <tr style=\"text-align: right;\">\n",
       "      <th></th>\n",
       "      <th>mpg</th>\n",
       "      <th>displacement</th>\n",
       "      <th>horsepower</th>\n",
       "      <th>weight</th>\n",
       "      <th>acceleration</th>\n",
       "      <th>model_year</th>\n",
       "    </tr>\n",
       "    <tr>\n",
       "      <th>cylinders</th>\n",
       "      <th></th>\n",
       "      <th></th>\n",
       "      <th></th>\n",
       "      <th></th>\n",
       "      <th></th>\n",
       "      <th></th>\n",
       "    </tr>\n",
       "  </thead>\n",
       "  <tbody>\n",
       "    <tr>\n",
       "      <th>3</th>\n",
       "      <td>20.550000</td>\n",
       "      <td>72.500000</td>\n",
       "      <td>99.250000</td>\n",
       "      <td>2398.500000</td>\n",
       "      <td>13.250000</td>\n",
       "      <td>75.500000</td>\n",
       "    </tr>\n",
       "    <tr>\n",
       "      <th>4</th>\n",
       "      <td>29.286765</td>\n",
       "      <td>109.796569</td>\n",
       "      <td>78.281407</td>\n",
       "      <td>2308.127451</td>\n",
       "      <td>16.601471</td>\n",
       "      <td>77.073529</td>\n",
       "    </tr>\n",
       "    <tr>\n",
       "      <th>5</th>\n",
       "      <td>27.366667</td>\n",
       "      <td>145.000000</td>\n",
       "      <td>82.333333</td>\n",
       "      <td>3103.333333</td>\n",
       "      <td>18.633333</td>\n",
       "      <td>79.000000</td>\n",
       "    </tr>\n",
       "    <tr>\n",
       "      <th>6</th>\n",
       "      <td>19.985714</td>\n",
       "      <td>218.142857</td>\n",
       "      <td>101.506024</td>\n",
       "      <td>3198.226190</td>\n",
       "      <td>16.263095</td>\n",
       "      <td>75.928571</td>\n",
       "    </tr>\n",
       "    <tr>\n",
       "      <th>8</th>\n",
       "      <td>14.963107</td>\n",
       "      <td>345.009709</td>\n",
       "      <td>158.300971</td>\n",
       "      <td>4114.718447</td>\n",
       "      <td>12.955340</td>\n",
       "      <td>73.902913</td>\n",
       "    </tr>\n",
       "  </tbody>\n",
       "</table>\n",
       "</div>"
      ],
      "text/plain": [
       "                 mpg  displacement  horsepower       weight  acceleration  \\\n",
       "cylinders                                                                   \n",
       "3          20.550000     72.500000   99.250000  2398.500000     13.250000   \n",
       "4          29.286765    109.796569   78.281407  2308.127451     16.601471   \n",
       "5          27.366667    145.000000   82.333333  3103.333333     18.633333   \n",
       "6          19.985714    218.142857  101.506024  3198.226190     16.263095   \n",
       "8          14.963107    345.009709  158.300971  4114.718447     12.955340   \n",
       "\n",
       "           model_year  \n",
       "cylinders              \n",
       "3           75.500000  \n",
       "4           77.073529  \n",
       "5           79.000000  \n",
       "6           75.928571  \n",
       "8           73.902913  "
      ]
     },
     "execution_count": 127,
     "metadata": {},
     "output_type": "execute_result"
    }
   ],
   "source": [
    "carsDFbyCylinders.mean()"
   ]
  },
  {
   "cell_type": "markdown",
   "metadata": {},
   "source": [
    "The `agg` method lets you apply arbitrary aggregate functions as well, e.g."
   ]
  },
  {
   "cell_type": "code",
   "execution_count": 128,
   "metadata": {},
   "outputs": [
    {
     "data": {
      "text/plain": [
       "cylinders\n",
       "3    2.564501\n",
       "4    5.710156\n",
       "5    8.228204\n",
       "6    3.807322\n",
       "8    2.836284\n",
       "Name: mpg, dtype: float64"
      ]
     },
     "execution_count": 128,
     "metadata": {},
     "output_type": "execute_result"
    }
   ],
   "source": [
    "carsDFbyCylinders['mpg'].agg(np.std)"
   ]
  },
  {
   "cell_type": "markdown",
   "metadata": {},
   "source": [
    "Group the carsDF by model_year and look at the median mpg (don't include the other columns)"
   ]
  },
  {
   "cell_type": "code",
   "execution_count": 129,
   "metadata": {},
   "outputs": [
    {
     "data": {
      "text/plain": [
       "model_year\n",
       "70    16.00\n",
       "71    19.00\n",
       "72    18.50\n",
       "73    16.00\n",
       "74    24.00\n",
       "75    19.50\n",
       "76    21.00\n",
       "77    21.75\n",
       "78    20.70\n",
       "79    23.90\n",
       "80    32.70\n",
       "81    31.60\n",
       "82    32.00\n",
       "Name: mpg, dtype: float64"
      ]
     },
     "execution_count": 129,
     "metadata": {},
     "output_type": "execute_result"
    }
   ],
   "source": [
    "carsDF.groupby('model_year')['mpg'].median()"
   ]
  },
  {
   "cell_type": "markdown",
   "metadata": {},
   "source": [
    "You can actually do much more with groupby, you can iterate over the groups"
   ]
  },
  {
   "cell_type": "code",
   "execution_count": 130,
   "metadata": {},
   "outputs": [
    {
     "name": "stdout",
     "output_type": "stream",
     "text": [
      "There are 4 cars with 3 cylinders\n",
      "There are 204 cars with 4 cylinders\n",
      "There are 3 cars with 5 cylinders\n",
      "There are 84 cars with 6 cylinders\n",
      "There are 103 cars with 8 cylinders\n"
     ]
    }
   ],
   "source": [
    "for cylinders, group in carsDFbyCylinders:\n",
    "    print(f\"There are {group.shape[0]} cars with {cylinders} cylinders\")"
   ]
  },
  {
   "cell_type": "markdown",
   "metadata": {},
   "source": [
    "How are there possibly 4 cars with 3 cylinders?!\n",
    "\n",
    "We can apply multiple operations at the same time. The `.aggregate()` method can take a list of the operations you want to perform (e.g. [\"max\", \"min\"])"
   ]
  },
  {
   "cell_type": "code",
   "execution_count": 131,
   "metadata": {},
   "outputs": [
    {
     "data": {
      "text/html": [
       "<div>\n",
       "<style scoped>\n",
       "    .dataframe tbody tr th:only-of-type {\n",
       "        vertical-align: middle;\n",
       "    }\n",
       "\n",
       "    .dataframe tbody tr th {\n",
       "        vertical-align: top;\n",
       "    }\n",
       "\n",
       "    .dataframe thead th {\n",
       "        text-align: right;\n",
       "    }\n",
       "</style>\n",
       "<table border=\"1\" class=\"dataframe\">\n",
       "  <thead>\n",
       "    <tr style=\"text-align: right;\">\n",
       "      <th></th>\n",
       "      <th>min</th>\n",
       "      <th>max</th>\n",
       "      <th>mean</th>\n",
       "    </tr>\n",
       "    <tr>\n",
       "      <th>cylinders</th>\n",
       "      <th></th>\n",
       "      <th></th>\n",
       "      <th></th>\n",
       "    </tr>\n",
       "  </thead>\n",
       "  <tbody>\n",
       "    <tr>\n",
       "      <th>3</th>\n",
       "      <td>18.0</td>\n",
       "      <td>23.7</td>\n",
       "      <td>20.550000</td>\n",
       "    </tr>\n",
       "    <tr>\n",
       "      <th>4</th>\n",
       "      <td>18.0</td>\n",
       "      <td>46.6</td>\n",
       "      <td>29.286765</td>\n",
       "    </tr>\n",
       "    <tr>\n",
       "      <th>5</th>\n",
       "      <td>20.3</td>\n",
       "      <td>36.4</td>\n",
       "      <td>27.366667</td>\n",
       "    </tr>\n",
       "    <tr>\n",
       "      <th>6</th>\n",
       "      <td>15.0</td>\n",
       "      <td>38.0</td>\n",
       "      <td>19.985714</td>\n",
       "    </tr>\n",
       "    <tr>\n",
       "      <th>8</th>\n",
       "      <td>9.0</td>\n",
       "      <td>26.6</td>\n",
       "      <td>14.963107</td>\n",
       "    </tr>\n",
       "  </tbody>\n",
       "</table>\n",
       "</div>"
      ],
      "text/plain": [
       "            min   max       mean\n",
       "cylinders                       \n",
       "3          18.0  23.7  20.550000\n",
       "4          18.0  46.6  29.286765\n",
       "5          20.3  36.4  27.366667\n",
       "6          15.0  38.0  19.985714\n",
       "8           9.0  26.6  14.963107"
      ]
     },
     "execution_count": 131,
     "metadata": {},
     "output_type": "execute_result"
    }
   ],
   "source": [
    "carsDFbyCylinders['mpg'].aggregate([\"min\",\"max\",\"mean\"])"
   ]
  },
  {
   "cell_type": "markdown",
   "metadata": {},
   "source": [
    "We can filter based on group, this is a silly example, but group the cars by cylinder, then show me all of the groups with a mean mpg > 15."
   ]
  },
  {
   "cell_type": "code",
   "execution_count": 132,
   "metadata": {},
   "outputs": [
    {
     "data": {
      "text/html": [
       "<div>\n",
       "<style scoped>\n",
       "    .dataframe tbody tr th:only-of-type {\n",
       "        vertical-align: middle;\n",
       "    }\n",
       "\n",
       "    .dataframe tbody tr th {\n",
       "        vertical-align: top;\n",
       "    }\n",
       "\n",
       "    .dataframe thead th {\n",
       "        text-align: right;\n",
       "    }\n",
       "</style>\n",
       "<table border=\"1\" class=\"dataframe\">\n",
       "  <thead>\n",
       "    <tr style=\"text-align: right;\">\n",
       "      <th></th>\n",
       "      <th>mpg</th>\n",
       "      <th>cylinders</th>\n",
       "      <th>displacement</th>\n",
       "      <th>horsepower</th>\n",
       "      <th>weight</th>\n",
       "      <th>acceleration</th>\n",
       "      <th>model_year</th>\n",
       "      <th>origin</th>\n",
       "      <th>name</th>\n",
       "    </tr>\n",
       "  </thead>\n",
       "  <tbody>\n",
       "    <tr>\n",
       "      <th>14</th>\n",
       "      <td>24.0</td>\n",
       "      <td>4</td>\n",
       "      <td>113.0</td>\n",
       "      <td>95.0</td>\n",
       "      <td>2372</td>\n",
       "      <td>15.0</td>\n",
       "      <td>70</td>\n",
       "      <td>japan</td>\n",
       "      <td>toyota corona mark ii</td>\n",
       "    </tr>\n",
       "    <tr>\n",
       "      <th>15</th>\n",
       "      <td>22.0</td>\n",
       "      <td>6</td>\n",
       "      <td>198.0</td>\n",
       "      <td>95.0</td>\n",
       "      <td>2833</td>\n",
       "      <td>15.5</td>\n",
       "      <td>70</td>\n",
       "      <td>usa</td>\n",
       "      <td>plymouth duster</td>\n",
       "    </tr>\n",
       "    <tr>\n",
       "      <th>16</th>\n",
       "      <td>18.0</td>\n",
       "      <td>6</td>\n",
       "      <td>199.0</td>\n",
       "      <td>97.0</td>\n",
       "      <td>2774</td>\n",
       "      <td>15.5</td>\n",
       "      <td>70</td>\n",
       "      <td>usa</td>\n",
       "      <td>amc hornet</td>\n",
       "    </tr>\n",
       "    <tr>\n",
       "      <th>17</th>\n",
       "      <td>21.0</td>\n",
       "      <td>6</td>\n",
       "      <td>200.0</td>\n",
       "      <td>85.0</td>\n",
       "      <td>2587</td>\n",
       "      <td>16.0</td>\n",
       "      <td>70</td>\n",
       "      <td>usa</td>\n",
       "      <td>ford maverick</td>\n",
       "    </tr>\n",
       "    <tr>\n",
       "      <th>18</th>\n",
       "      <td>27.0</td>\n",
       "      <td>4</td>\n",
       "      <td>97.0</td>\n",
       "      <td>88.0</td>\n",
       "      <td>2130</td>\n",
       "      <td>14.5</td>\n",
       "      <td>70</td>\n",
       "      <td>japan</td>\n",
       "      <td>datsun pl510</td>\n",
       "    </tr>\n",
       "  </tbody>\n",
       "</table>\n",
       "</div>"
      ],
      "text/plain": [
       "     mpg  cylinders  displacement  horsepower  weight  acceleration  \\\n",
       "14  24.0          4         113.0        95.0    2372          15.0   \n",
       "15  22.0          6         198.0        95.0    2833          15.5   \n",
       "16  18.0          6         199.0        97.0    2774          15.5   \n",
       "17  21.0          6         200.0        85.0    2587          16.0   \n",
       "18  27.0          4          97.0        88.0    2130          14.5   \n",
       "\n",
       "    model_year origin                   name  \n",
       "14          70  japan  toyota corona mark ii  \n",
       "15          70    usa        plymouth duster  \n",
       "16          70    usa             amc hornet  \n",
       "17          70    usa          ford maverick  \n",
       "18          70  japan           datsun pl510  "
      ]
     },
     "execution_count": 132,
     "metadata": {},
     "output_type": "execute_result"
    }
   ],
   "source": [
    "carsDFbyCylinders.filter(lambda x: x['mpg'].mean()>15).head()"
   ]
  },
  {
   "cell_type": "markdown",
   "metadata": {},
   "source": [
    "The transform method lets you perform a group operation then use the results to update the rows. For example, we could calculate mean values for our groups, then look at how individual cars perform relative to that"
   ]
  },
  {
   "cell_type": "code",
   "execution_count": 133,
   "metadata": {},
   "outputs": [],
   "source": [
    "carsDF['mpg_mean'] = carsDFbyCylinders['mpg'].transform(lambda x: x - x.mean())"
   ]
  },
  {
   "cell_type": "markdown",
   "metadata": {},
   "source": [
    "So we could look at the best and worst performing car relative to the group means, `idxmin` and `idxmax` are to pandas as `argmin` and `argmax` are to numpy (see also `nlargest`)."
   ]
  },
  {
   "cell_type": "code",
   "execution_count": 134,
   "metadata": {},
   "outputs": [
    {
     "data": {
      "text/html": [
       "<div>\n",
       "<style scoped>\n",
       "    .dataframe tbody tr th:only-of-type {\n",
       "        vertical-align: middle;\n",
       "    }\n",
       "\n",
       "    .dataframe tbody tr th {\n",
       "        vertical-align: top;\n",
       "    }\n",
       "\n",
       "    .dataframe thead th {\n",
       "        text-align: right;\n",
       "    }\n",
       "</style>\n",
       "<table border=\"1\" class=\"dataframe\">\n",
       "  <thead>\n",
       "    <tr style=\"text-align: right;\">\n",
       "      <th></th>\n",
       "      <th>mpg</th>\n",
       "      <th>cylinders</th>\n",
       "      <th>displacement</th>\n",
       "      <th>horsepower</th>\n",
       "      <th>weight</th>\n",
       "      <th>acceleration</th>\n",
       "      <th>model_year</th>\n",
       "      <th>origin</th>\n",
       "      <th>name</th>\n",
       "      <th>mpg_mean</th>\n",
       "    </tr>\n",
       "  </thead>\n",
       "  <tbody>\n",
       "    <tr>\n",
       "      <th>334</th>\n",
       "      <td>23.7</td>\n",
       "      <td>3</td>\n",
       "      <td>70.0</td>\n",
       "      <td>100.0</td>\n",
       "      <td>2420</td>\n",
       "      <td>12.5</td>\n",
       "      <td>80</td>\n",
       "      <td>japan</td>\n",
       "      <td>mazda rx-7 gs</td>\n",
       "      <td>3.150000</td>\n",
       "    </tr>\n",
       "    <tr>\n",
       "      <th>322</th>\n",
       "      <td>46.6</td>\n",
       "      <td>4</td>\n",
       "      <td>86.0</td>\n",
       "      <td>65.0</td>\n",
       "      <td>2110</td>\n",
       "      <td>17.9</td>\n",
       "      <td>80</td>\n",
       "      <td>japan</td>\n",
       "      <td>mazda glc</td>\n",
       "      <td>17.313235</td>\n",
       "    </tr>\n",
       "    <tr>\n",
       "      <th>327</th>\n",
       "      <td>36.4</td>\n",
       "      <td>5</td>\n",
       "      <td>121.0</td>\n",
       "      <td>67.0</td>\n",
       "      <td>2950</td>\n",
       "      <td>19.9</td>\n",
       "      <td>80</td>\n",
       "      <td>europe</td>\n",
       "      <td>audi 5000s (diesel)</td>\n",
       "      <td>9.033333</td>\n",
       "    </tr>\n",
       "    <tr>\n",
       "      <th>387</th>\n",
       "      <td>38.0</td>\n",
       "      <td>6</td>\n",
       "      <td>262.0</td>\n",
       "      <td>85.0</td>\n",
       "      <td>3015</td>\n",
       "      <td>17.0</td>\n",
       "      <td>82</td>\n",
       "      <td>usa</td>\n",
       "      <td>oldsmobile cutlass ciera (diesel)</td>\n",
       "      <td>18.014286</td>\n",
       "    </tr>\n",
       "    <tr>\n",
       "      <th>364</th>\n",
       "      <td>26.6</td>\n",
       "      <td>8</td>\n",
       "      <td>350.0</td>\n",
       "      <td>105.0</td>\n",
       "      <td>3725</td>\n",
       "      <td>19.0</td>\n",
       "      <td>81</td>\n",
       "      <td>usa</td>\n",
       "      <td>oldsmobile cutlass ls</td>\n",
       "      <td>11.636893</td>\n",
       "    </tr>\n",
       "  </tbody>\n",
       "</table>\n",
       "</div>"
      ],
      "text/plain": [
       "      mpg  cylinders  displacement  horsepower  weight  acceleration  \\\n",
       "334  23.7          3          70.0       100.0    2420          12.5   \n",
       "322  46.6          4          86.0        65.0    2110          17.9   \n",
       "327  36.4          5         121.0        67.0    2950          19.9   \n",
       "387  38.0          6         262.0        85.0    3015          17.0   \n",
       "364  26.6          8         350.0       105.0    3725          19.0   \n",
       "\n",
       "     model_year  origin                               name   mpg_mean  \n",
       "334          80   japan                      mazda rx-7 gs   3.150000  \n",
       "322          80   japan                          mazda glc  17.313235  \n",
       "327          80  europe                audi 5000s (diesel)   9.033333  \n",
       "387          82     usa  oldsmobile cutlass ciera (diesel)  18.014286  \n",
       "364          81     usa              oldsmobile cutlass ls  11.636893  "
      ]
     },
     "execution_count": 134,
     "metadata": {},
     "output_type": "execute_result"
    }
   ],
   "source": [
    "carsDF.loc[carsDF.groupby('cylinders')['mpg_mean'].idxmax()]"
   ]
  },
  {
   "cell_type": "code",
   "execution_count": 135,
   "metadata": {},
   "outputs": [
    {
     "data": {
      "text/html": [
       "<div>\n",
       "<style scoped>\n",
       "    .dataframe tbody tr th:only-of-type {\n",
       "        vertical-align: middle;\n",
       "    }\n",
       "\n",
       "    .dataframe tbody tr th {\n",
       "        vertical-align: top;\n",
       "    }\n",
       "\n",
       "    .dataframe thead th {\n",
       "        text-align: right;\n",
       "    }\n",
       "</style>\n",
       "<table border=\"1\" class=\"dataframe\">\n",
       "  <thead>\n",
       "    <tr style=\"text-align: right;\">\n",
       "      <th></th>\n",
       "      <th>mpg</th>\n",
       "      <th>cylinders</th>\n",
       "      <th>displacement</th>\n",
       "      <th>horsepower</th>\n",
       "      <th>weight</th>\n",
       "      <th>acceleration</th>\n",
       "      <th>model_year</th>\n",
       "      <th>origin</th>\n",
       "      <th>name</th>\n",
       "      <th>mpg_mean</th>\n",
       "    </tr>\n",
       "  </thead>\n",
       "  <tbody>\n",
       "    <tr>\n",
       "      <th>111</th>\n",
       "      <td>18.0</td>\n",
       "      <td>3</td>\n",
       "      <td>70.0</td>\n",
       "      <td>90.0</td>\n",
       "      <td>2124</td>\n",
       "      <td>13.5</td>\n",
       "      <td>73</td>\n",
       "      <td>japan</td>\n",
       "      <td>maxda rx3</td>\n",
       "      <td>-2.550000</td>\n",
       "    </tr>\n",
       "    <tr>\n",
       "      <th>76</th>\n",
       "      <td>18.0</td>\n",
       "      <td>4</td>\n",
       "      <td>121.0</td>\n",
       "      <td>112.0</td>\n",
       "      <td>2933</td>\n",
       "      <td>14.5</td>\n",
       "      <td>72</td>\n",
       "      <td>europe</td>\n",
       "      <td>volvo 145e (sw)</td>\n",
       "      <td>-11.286765</td>\n",
       "    </tr>\n",
       "    <tr>\n",
       "      <th>274</th>\n",
       "      <td>20.3</td>\n",
       "      <td>5</td>\n",
       "      <td>131.0</td>\n",
       "      <td>103.0</td>\n",
       "      <td>2830</td>\n",
       "      <td>15.9</td>\n",
       "      <td>78</td>\n",
       "      <td>europe</td>\n",
       "      <td>audi 5000</td>\n",
       "      <td>-7.066667</td>\n",
       "    </tr>\n",
       "    <tr>\n",
       "      <th>128</th>\n",
       "      <td>15.0</td>\n",
       "      <td>6</td>\n",
       "      <td>250.0</td>\n",
       "      <td>100.0</td>\n",
       "      <td>3336</td>\n",
       "      <td>17.0</td>\n",
       "      <td>74</td>\n",
       "      <td>usa</td>\n",
       "      <td>chevrolet nova</td>\n",
       "      <td>-4.985714</td>\n",
       "    </tr>\n",
       "    <tr>\n",
       "      <th>28</th>\n",
       "      <td>9.0</td>\n",
       "      <td>8</td>\n",
       "      <td>304.0</td>\n",
       "      <td>193.0</td>\n",
       "      <td>4732</td>\n",
       "      <td>18.5</td>\n",
       "      <td>70</td>\n",
       "      <td>usa</td>\n",
       "      <td>hi 1200d</td>\n",
       "      <td>-5.963107</td>\n",
       "    </tr>\n",
       "  </tbody>\n",
       "</table>\n",
       "</div>"
      ],
      "text/plain": [
       "      mpg  cylinders  displacement  horsepower  weight  acceleration  \\\n",
       "111  18.0          3          70.0        90.0    2124          13.5   \n",
       "76   18.0          4         121.0       112.0    2933          14.5   \n",
       "274  20.3          5         131.0       103.0    2830          15.9   \n",
       "128  15.0          6         250.0       100.0    3336          17.0   \n",
       "28    9.0          8         304.0       193.0    4732          18.5   \n",
       "\n",
       "     model_year  origin             name   mpg_mean  \n",
       "111          73   japan        maxda rx3  -2.550000  \n",
       "76           72  europe  volvo 145e (sw) -11.286765  \n",
       "274          78  europe        audi 5000  -7.066667  \n",
       "128          74     usa   chevrolet nova  -4.985714  \n",
       "28           70     usa         hi 1200d  -5.963107  "
      ]
     },
     "execution_count": 135,
     "metadata": {},
     "output_type": "execute_result"
    }
   ],
   "source": [
    "carsDF.loc[carsDF.groupby('cylinders')['mpg_mean'].idxmin()]"
   ]
  },
  {
   "cell_type": "markdown",
   "metadata": {},
   "source": [
    "The 3 cylinder engines are rotaries!\n",
    "\n",
    "You can also group by multiple conditions, but you'll get a hierarchical index as the result"
   ]
  },
  {
   "cell_type": "code",
   "execution_count": 136,
   "metadata": {},
   "outputs": [
    {
     "data": {
      "text/html": [
       "<div>\n",
       "<style scoped>\n",
       "    .dataframe tbody tr th:only-of-type {\n",
       "        vertical-align: middle;\n",
       "    }\n",
       "\n",
       "    .dataframe tbody tr th {\n",
       "        vertical-align: top;\n",
       "    }\n",
       "\n",
       "    .dataframe thead th {\n",
       "        text-align: right;\n",
       "    }\n",
       "</style>\n",
       "<table border=\"1\" class=\"dataframe\">\n",
       "  <thead>\n",
       "    <tr style=\"text-align: right;\">\n",
       "      <th></th>\n",
       "      <th></th>\n",
       "      <th>mpg</th>\n",
       "      <th>displacement</th>\n",
       "      <th>horsepower</th>\n",
       "      <th>weight</th>\n",
       "      <th>acceleration</th>\n",
       "      <th>model_year</th>\n",
       "      <th>mpg_mean</th>\n",
       "    </tr>\n",
       "    <tr>\n",
       "      <th>origin</th>\n",
       "      <th>cylinders</th>\n",
       "      <th></th>\n",
       "      <th></th>\n",
       "      <th></th>\n",
       "      <th></th>\n",
       "      <th></th>\n",
       "      <th></th>\n",
       "      <th></th>\n",
       "    </tr>\n",
       "  </thead>\n",
       "  <tbody>\n",
       "    <tr>\n",
       "      <th rowspan=\"3\" valign=\"top\">europe</th>\n",
       "      <th>4</th>\n",
       "      <td>28.411111</td>\n",
       "      <td>104.222222</td>\n",
       "      <td>78.311475</td>\n",
       "      <td>2330.015873</td>\n",
       "      <td>16.722222</td>\n",
       "      <td>75.507937</td>\n",
       "      <td>-8.756536e-01</td>\n",
       "    </tr>\n",
       "    <tr>\n",
       "      <th>5</th>\n",
       "      <td>27.366667</td>\n",
       "      <td>145.000000</td>\n",
       "      <td>82.333333</td>\n",
       "      <td>3103.333333</td>\n",
       "      <td>18.633333</td>\n",
       "      <td>79.000000</td>\n",
       "      <td>2.368476e-15</td>\n",
       "    </tr>\n",
       "    <tr>\n",
       "      <th>6</th>\n",
       "      <td>20.100000</td>\n",
       "      <td>159.750000</td>\n",
       "      <td>113.500000</td>\n",
       "      <td>3382.500000</td>\n",
       "      <td>16.425000</td>\n",
       "      <td>78.250000</td>\n",
       "      <td>1.142857e-01</td>\n",
       "    </tr>\n",
       "    <tr>\n",
       "      <th rowspan=\"3\" valign=\"top\">japan</th>\n",
       "      <th>3</th>\n",
       "      <td>20.550000</td>\n",
       "      <td>72.500000</td>\n",
       "      <td>99.250000</td>\n",
       "      <td>2398.500000</td>\n",
       "      <td>13.250000</td>\n",
       "      <td>75.500000</td>\n",
       "      <td>-8.881784e-16</td>\n",
       "    </tr>\n",
       "    <tr>\n",
       "      <th>4</th>\n",
       "      <td>31.595652</td>\n",
       "      <td>99.768116</td>\n",
       "      <td>75.579710</td>\n",
       "      <td>2153.492754</td>\n",
       "      <td>16.569565</td>\n",
       "      <td>77.507246</td>\n",
       "      <td>2.308887e+00</td>\n",
       "    </tr>\n",
       "    <tr>\n",
       "      <th>6</th>\n",
       "      <td>23.883333</td>\n",
       "      <td>156.666667</td>\n",
       "      <td>115.833333</td>\n",
       "      <td>2882.000000</td>\n",
       "      <td>13.550000</td>\n",
       "      <td>78.000000</td>\n",
       "      <td>3.897619e+00</td>\n",
       "    </tr>\n",
       "    <tr>\n",
       "      <th rowspan=\"3\" valign=\"top\">usa</th>\n",
       "      <th>4</th>\n",
       "      <td>27.840278</td>\n",
       "      <td>124.284722</td>\n",
       "      <td>80.956522</td>\n",
       "      <td>2437.166667</td>\n",
       "      <td>16.526389</td>\n",
       "      <td>78.027778</td>\n",
       "      <td>-1.446487e+00</td>\n",
       "    </tr>\n",
       "    <tr>\n",
       "      <th>6</th>\n",
       "      <td>19.663514</td>\n",
       "      <td>226.283784</td>\n",
       "      <td>99.671233</td>\n",
       "      <td>3213.905405</td>\n",
       "      <td>16.474324</td>\n",
       "      <td>75.635135</td>\n",
       "      <td>-3.222008e-01</td>\n",
       "    </tr>\n",
       "    <tr>\n",
       "      <th>8</th>\n",
       "      <td>14.963107</td>\n",
       "      <td>345.009709</td>\n",
       "      <td>158.300971</td>\n",
       "      <td>4114.718447</td>\n",
       "      <td>12.955340</td>\n",
       "      <td>73.902913</td>\n",
       "      <td>-2.811128e-15</td>\n",
       "    </tr>\n",
       "  </tbody>\n",
       "</table>\n",
       "</div>"
      ],
      "text/plain": [
       "                        mpg  displacement  horsepower       weight  \\\n",
       "origin cylinders                                                     \n",
       "europe 4          28.411111    104.222222   78.311475  2330.015873   \n",
       "       5          27.366667    145.000000   82.333333  3103.333333   \n",
       "       6          20.100000    159.750000  113.500000  3382.500000   \n",
       "japan  3          20.550000     72.500000   99.250000  2398.500000   \n",
       "       4          31.595652     99.768116   75.579710  2153.492754   \n",
       "       6          23.883333    156.666667  115.833333  2882.000000   \n",
       "usa    4          27.840278    124.284722   80.956522  2437.166667   \n",
       "       6          19.663514    226.283784   99.671233  3213.905405   \n",
       "       8          14.963107    345.009709  158.300971  4114.718447   \n",
       "\n",
       "                  acceleration  model_year      mpg_mean  \n",
       "origin cylinders                                          \n",
       "europe 4             16.722222   75.507937 -8.756536e-01  \n",
       "       5             18.633333   79.000000  2.368476e-15  \n",
       "       6             16.425000   78.250000  1.142857e-01  \n",
       "japan  3             13.250000   75.500000 -8.881784e-16  \n",
       "       4             16.569565   77.507246  2.308887e+00  \n",
       "       6             13.550000   78.000000  3.897619e+00  \n",
       "usa    4             16.526389   78.027778 -1.446487e+00  \n",
       "       6             16.474324   75.635135 -3.222008e-01  \n",
       "       8             12.955340   73.902913 -2.811128e-15  "
      ]
     },
     "execution_count": 136,
     "metadata": {},
     "output_type": "execute_result"
    }
   ],
   "source": [
    "carsDF.groupby(['origin', 'cylinders']).mean()"
   ]
  },
  {
   "cell_type": "markdown",
   "metadata": {},
   "source": [
    "We won't cover Hierarchical indices, so for now we will just flatten the result by resetting the index"
   ]
  },
  {
   "cell_type": "code",
   "execution_count": 137,
   "metadata": {},
   "outputs": [
    {
     "data": {
      "text/html": [
       "<div>\n",
       "<style scoped>\n",
       "    .dataframe tbody tr th:only-of-type {\n",
       "        vertical-align: middle;\n",
       "    }\n",
       "\n",
       "    .dataframe tbody tr th {\n",
       "        vertical-align: top;\n",
       "    }\n",
       "\n",
       "    .dataframe thead th {\n",
       "        text-align: right;\n",
       "    }\n",
       "</style>\n",
       "<table border=\"1\" class=\"dataframe\">\n",
       "  <thead>\n",
       "    <tr style=\"text-align: right;\">\n",
       "      <th></th>\n",
       "      <th>origin</th>\n",
       "      <th>cylinders</th>\n",
       "      <th>mpg</th>\n",
       "    </tr>\n",
       "  </thead>\n",
       "  <tbody>\n",
       "    <tr>\n",
       "      <th>0</th>\n",
       "      <td>europe</td>\n",
       "      <td>4</td>\n",
       "      <td>28.411111</td>\n",
       "    </tr>\n",
       "    <tr>\n",
       "      <th>1</th>\n",
       "      <td>europe</td>\n",
       "      <td>5</td>\n",
       "      <td>27.366667</td>\n",
       "    </tr>\n",
       "    <tr>\n",
       "      <th>2</th>\n",
       "      <td>europe</td>\n",
       "      <td>6</td>\n",
       "      <td>20.100000</td>\n",
       "    </tr>\n",
       "    <tr>\n",
       "      <th>3</th>\n",
       "      <td>japan</td>\n",
       "      <td>3</td>\n",
       "      <td>20.550000</td>\n",
       "    </tr>\n",
       "    <tr>\n",
       "      <th>4</th>\n",
       "      <td>japan</td>\n",
       "      <td>4</td>\n",
       "      <td>31.595652</td>\n",
       "    </tr>\n",
       "    <tr>\n",
       "      <th>5</th>\n",
       "      <td>japan</td>\n",
       "      <td>6</td>\n",
       "      <td>23.883333</td>\n",
       "    </tr>\n",
       "    <tr>\n",
       "      <th>6</th>\n",
       "      <td>usa</td>\n",
       "      <td>4</td>\n",
       "      <td>27.840278</td>\n",
       "    </tr>\n",
       "    <tr>\n",
       "      <th>7</th>\n",
       "      <td>usa</td>\n",
       "      <td>6</td>\n",
       "      <td>19.663514</td>\n",
       "    </tr>\n",
       "    <tr>\n",
       "      <th>8</th>\n",
       "      <td>usa</td>\n",
       "      <td>8</td>\n",
       "      <td>14.963107</td>\n",
       "    </tr>\n",
       "  </tbody>\n",
       "</table>\n",
       "</div>"
      ],
      "text/plain": [
       "   origin  cylinders        mpg\n",
       "0  europe          4  28.411111\n",
       "1  europe          5  27.366667\n",
       "2  europe          6  20.100000\n",
       "3   japan          3  20.550000\n",
       "4   japan          4  31.595652\n",
       "5   japan          6  23.883333\n",
       "6     usa          4  27.840278\n",
       "7     usa          6  19.663514\n",
       "8     usa          8  14.963107"
      ]
     },
     "execution_count": 137,
     "metadata": {},
     "output_type": "execute_result"
    }
   ],
   "source": [
    "carsDF.groupby(['origin', 'cylinders'])['mpg'].mean().reset_index()"
   ]
  },
  {
   "cell_type": "markdown",
   "metadata": {},
   "source": [
    "There is also an `apply` method which can work on the entire DataFrame _at the same time_, this can be useful. N.B. `.transform` and `.apply` exist as methods of both ordinary DataFrames and `DataFrameGroupBy` objects, depending on what you want to do."
   ]
  },
  {
   "cell_type": "markdown",
   "metadata": {},
   "source": [
    "## Concatenate & Join\n",
    "\n",
    "There are a handful of functions which handle concatenation. The main ones are `pd.concat`, `pd.join` and `pd.merge` and there is some overlap in exactly what they do so. You can combine either `Series` and `DataFrames` but we'll jump straight to `DataFrames`,"
   ]
  },
  {
   "cell_type": "code",
   "execution_count": null,
   "metadata": {},
   "outputs": [],
   "source": [
    "s1 = pd.DataFrame(\n",
    "    {\n",
    "        'upper': ['A', 'B', 'C'], \n",
    "        'lower': ['a', 'b', 'c']\n",
    "    }, \n",
    "    columns=['upper', 'lower'], \n",
    "    index=[1,2,3]\n",
    ")\n",
    "\n",
    "s2 = pd.DataFrame(\n",
    "    {\n",
    "        'upper': ['D', 'E', 'F'],\n",
    "        'lower': ['d', 'e', 'f']\n",
    "    }, \n",
    "    columns=['upper', 'lower'],\n",
    "    index=[1, 2, 3]\n",
    ")\n",
    "s2"
   ]
  },
  {
   "cell_type": "markdown",
   "metadata": {},
   "source": [
    "`pd.join` will combine by aligning on the index, but expects unique column names, we can use the suffix keyword to make our columns unique"
   ]
  },
  {
   "cell_type": "code",
   "execution_count": null,
   "metadata": {},
   "outputs": [],
   "source": [
    "s1.join(s2, lsuffix='l_', rsuffix='r_')"
   ]
  },
  {
   "cell_type": "markdown",
   "metadata": {},
   "source": [
    "With `concat` we can combine rows (we'll reindex to get unique index values in the result)"
   ]
  },
  {
   "cell_type": "code",
   "execution_count": null,
   "metadata": {},
   "outputs": [],
   "source": [
    "pd.concat([s1,s2]).reset_index()"
   ]
  },
  {
   "cell_type": "markdown",
   "metadata": {},
   "source": [
    "Notice that we enclosed the things we want to join as some sort of iterable (a `list` here).\n",
    "\n",
    "`concat` can also combine columns with some work"
   ]
  },
  {
   "cell_type": "code",
   "execution_count": null,
   "metadata": {},
   "outputs": [],
   "source": [
    "pd.concat([s1, s2], axis='columns')"
   ]
  },
  {
   "cell_type": "markdown",
   "metadata": {},
   "source": [
    "`pd.concat` will accept duplicate indices, but normally that indicates a problem with the data normalization. `concat` has a `verify_index` argument which can check for these problems and you can specify what you want to do with duplicates manually.\n",
    "\n",
    "`concat` will often result in `NaN`s because some columns might not exist in both/all frames."
   ]
  },
  {
   "cell_type": "code",
   "execution_count": null,
   "metadata": {},
   "outputs": [],
   "source": [
    "d4 = pd.DataFrame({'fruit': ['apple', 'orange'], 'veg': ['brocolli', 'carrot'], 'tree': ['cedar', 'alder']})\n",
    "d5 = pd.DataFrame({'veg': ['onion', 'potato'], 'fruit': ['banana','grape']})\n",
    "pd.concat([d4,d5], sort=False, ignore_index=True)"
   ]
  },
  {
   "cell_type": "markdown",
   "metadata": {},
   "source": [
    "Since the index wasn't important here, I threw it away and just accepted a new one.\n",
    "\n",
    "In the general case, joining DataFrames can get complex. The concat method can take a `join` keyword to specify a database like join stragegy (inner or outer), but `pd.merge` is a bit more flexible. It implements the usual relations\n",
    "\n",
    "  * one-to-one (similar to a concat)\n",
    "  * many-to-one\n",
    "  * many-to-many\n",
    "  \n",
    "For the many-to-one case here is an example"
   ]
  },
  {
   "cell_type": "code",
   "execution_count": null,
   "metadata": {},
   "outputs": [],
   "source": [
    "adf1=pd.DataFrame({\n",
    "    'class': ['insect', 'spider'], \n",
    "    'legs': [6, 8]}\n",
    ")\n",
    "\n",
    "adf2=pd.DataFrame({\n",
    "    'name': ['molly', 'anna', 'stephen', 'mica'], \n",
    "    'class': ['insect','insect','spider','insect']}\n",
    ")                     \n",
    "\n",
    "print(adf1); print(adf2)"
   ]
  },
  {
   "cell_type": "code",
   "execution_count": null,
   "metadata": {},
   "outputs": [],
   "source": [
    "pd.merge(adf1, adf2)"
   ]
  },
  {
   "cell_type": "markdown",
   "metadata": {},
   "source": [
    "The _many-to-one_ is many different rows in adf2 being mapped to a single row in adf1 (insects). `pd.merge` also accepts a selection of keyword arguments so you can manually specify which columns to join, patch up name differences etc."
   ]
  },
  {
   "cell_type": "markdown",
   "metadata": {},
   "source": [
    "## Plotting\n",
    "\n",
    "Pandas uses matplotlib for visualization and I've included a separate notebook on Matplotlib in this repository. Most of what is said in there is accessible with a little bit of effort from within Pandas (as the `.plot` method on Dataframes), or you can use Matplotlib itself explicitlym the choice is yours. The [pandas visualization](https://pandas.pydata.org/docs/user_guide/visualization.html) documentation has more details, and in this section we will show a handful of quick plots"
   ]
  },
  {
   "cell_type": "markdown",
   "metadata": {},
   "source": [
    "The `.plot` method allows you to create various different kinds of plot by specifying a the kind (either as a keyword argument (e.g. `df.plot(kind='scatter')` or using this syntax `df.plot.scatter()`.) You can do this for\n",
    "\n",
    "  * `hist`: histograms\n",
    "  * `bar`: barplots (also barh)\n",
    "  * `box`: boxplots\n",
    "  * `kde`: kernel density estimate plots\n",
    "  * `area`: area plots\n",
    "  * `scatter`: scatter plots\n",
    "  * `hexbin`: hexagonal bin plots\n",
    "  * `pie`: pie charts\n",
    "  \n",
    "The default is a simple line plot"
   ]
  },
  {
   "cell_type": "code",
   "execution_count": 138,
   "metadata": {},
   "outputs": [
    {
     "data": {
      "text/plain": [
       "<AxesSubplot:title={'center':'Sample plot'}, xlabel='x'>"
      ]
     },
     "execution_count": 138,
     "metadata": {},
     "output_type": "execute_result"
    },
    {
     "data": {
      "image/png": "[encoded data removed]",
      "text/plain": [
       "<Figure size 432x288 with 1 Axes>"
      ]
     },
     "metadata": {
      "needs_background": "light"
     },
     "output_type": "display_data"
    }
   ],
   "source": [
    "pDF = pd.DataFrame({'x' : np.linspace(0, 2*np.pi, 100)})\n",
    "pDF[['sin_x','cos_x']] = pDF.apply([np.sin, np.cos])\n",
    "pDF.plot(\n",
    "    x='x',\n",
    "    legend=True,\n",
    "    title='Sample plot'\n",
    ")"
   ]
  },
  {
   "cell_type": "markdown",
   "metadata": {},
   "source": [
    "You can control the output through keywords, e.g. `lw` sets the line width"
   ]
  },
  {
   "cell_type": "code",
   "execution_count": 139,
   "metadata": {},
   "outputs": [
    {
     "data": {
      "text/plain": [
       "array([<AxesSubplot:xlabel='x'>, <AxesSubplot:xlabel='x'>], dtype=object)"
      ]
     },
     "execution_count": 139,
     "metadata": {},
     "output_type": "execute_result"
    },
    {
     "data": {
      "image/png": "[encoded data removed]",
      "text/plain": [
       "<Figure size 432x288 with 2 Axes>"
      ]
     },
     "metadata": {
      "needs_background": "light"
     },
     "output_type": "display_data"
    }
   ],
   "source": [
    "pDF.plot(\n",
    "    x='x',\n",
    "    subplots=True,\n",
    "    lw=4\n",
    ")"
   ]
  },
  {
   "cell_type": "markdown",
   "metadata": {},
   "source": [
    "`.plot` returns an axis object (or objects) which you can then adjust with the usual matplotlib manipuations"
   ]
  },
  {
   "cell_type": "code",
   "execution_count": 140,
   "metadata": {},
   "outputs": [
    {
     "data": {
      "image/png": "[encoded data removed]",
      "text/plain": [
       "<Figure size 432x288 with 1 Axes>"
      ]
     },
     "metadata": {
      "needs_background": "light"
     },
     "output_type": "display_data"
    }
   ],
   "source": [
    "ax = pDF.plot(\n",
    "    kind='scatter',\n",
    "    x='sin_x',\n",
    "    y='cos_x',\n",
    ")\n",
    "\n",
    "ax.set_aspect('equal')"
   ]
  },
  {
   "cell_type": "code",
   "execution_count": 141,
   "metadata": {},
   "outputs": [],
   "source": [
    "csv_url = 'https://archive.ics.uci.edu/ml/machine-learning-databases/iris/iris.data'\n",
    "\n",
    "# using the attribute information as the column names\n",
    "col_names = ['Sepal_Length','Sepal_Width','Petal_Length','Petal_Width','Class']\n",
    "irisDF =  pd.read_csv(csv_url, names = col_names)"
   ]
  },
  {
   "cell_type": "markdown",
   "metadata": {},
   "source": [
    "### Histograms\n",
    "\n",
    "The `hist` kind (or `df.plot.hist`) will select only categorical values by default"
   ]
  },
  {
   "cell_type": "code",
   "execution_count": 144,
   "metadata": {},
   "outputs": [
    {
     "data": {
      "text/plain": [
       "<AxesSubplot:ylabel='Frequency'>"
      ]
     },
     "execution_count": 144,
     "metadata": {},
     "output_type": "execute_result"
    },
    {
     "data": {
      "image/png": "[encoded data removed]",
      "text/plain": [
       "<Figure size 432x288 with 1 Axes>"
      ]
     },
     "metadata": {
      "needs_background": "light"
     },
     "output_type": "display_data"
    }
   ],
   "source": [
    "irisDF.plot(\n",
    "    kind='hist',\n",
    "    alpha=0.3\n",
    ")"
   ]
  },
  {
   "cell_type": "markdown",
   "metadata": {},
   "source": [
    "There is also a hist method on DataFrames which will display each histogram as a subplot"
   ]
  },
  {
   "cell_type": "code",
   "execution_count": 146,
   "metadata": {},
   "outputs": [
    {
     "data": {
      "text/plain": [
       "array([[<AxesSubplot:title={'center':'Sepal_Length'}>,\n",
       "        <AxesSubplot:title={'center':'Sepal_Width'}>],\n",
       "       [<AxesSubplot:title={'center':'Petal_Length'}>,\n",
       "        <AxesSubplot:title={'center':'Petal_Width'}>]], dtype=object)"
      ]
     },
     "execution_count": 146,
     "metadata": {},
     "output_type": "execute_result"
    },
    {
     "data": {
      "image/png": "[encoded data removed]",
      "text/plain": [
       "<Figure size 432x288 with 4 Axes>"
      ]
     },
     "metadata": {
      "needs_background": "light"
     },
     "output_type": "display_data"
    }
   ],
   "source": [
    "irisDF.hist(alpha=0.3)"
   ]
  },
  {
   "cell_type": "markdown",
   "metadata": {},
   "source": [
    "### Boxplots"
   ]
  },
  {
   "cell_type": "code",
   "execution_count": 147,
   "metadata": {},
   "outputs": [
    {
     "data": {
      "image/png": "[encoded data removed]",
      "text/plain": [
       "<Figure size 432x288 with 2 Axes>"
      ]
     },
     "metadata": {
      "needs_background": "light"
     },
     "output_type": "display_data"
    }
   ],
   "source": [
    "ax = irisDF.plot.box(\n",
    "    column=['Sepal_Length', 'Sepal_Width'],\n",
    "    by='Class'\n",
    ")"
   ]
  },
  {
   "cell_type": "markdown",
   "metadata": {},
   "source": [
    "## Plotting Utilities\n",
    "\n",
    "Pandas also includes a handful of very useful functions for exploring common plot combinations. `scatter_matrix` is a good example, it produces a matrix of scatter plots with every numerical feature plotted against every other numerical feature. Since this would be a bit boring down the diagonal, it shows the distribution of values for that variable instead (you can adjust this with e.g. `diagonal='kde'`)"
   ]
  },
  {
   "cell_type": "code",
   "execution_count": 148,
   "metadata": {},
   "outputs": [
    {
     "data": {
      "image/png": "[encoded data removed]",
      "text/plain": [
       "<Figure size 432x288 with 16 Axes>"
      ]
     },
     "metadata": {
      "needs_background": "light"
     },
     "output_type": "display_data"
    }
   ],
   "source": [
    "from pandas.plotting import scatter_matrix\n",
    "\n",
    "_ = scatter_matrix(\n",
    "    irisDF,\n",
    "    alpha=0.4\n",
    ")"
   ]
  },
  {
   "cell_type": "code",
   "execution_count": 151,
   "metadata": {},
   "outputs": [],
   "source": [
    "import seaborn as sn\n",
    "\n",
    "sn.pairplot?"
   ]
  },
  {
   "cell_type": "markdown",
   "metadata": {},
   "source": [
    "#### Autocorrelation Plots\n",
    "\n",
    "For time series, calculating the auto-correlation allows you to see how the data is correlated with itself over various time periods"
   ]
  },
  {
   "cell_type": "code",
   "execution_count": 149,
   "metadata": {},
   "outputs": [
    {
     "data": {
      "text/plain": [
       "<AxesSubplot:xlabel='Lag', ylabel='Autocorrelation'>"
      ]
     },
     "execution_count": 149,
     "metadata": {},
     "output_type": "execute_result"
    },
    {
     "data": {
      "image/png": "[encoded data removed]",
      "text/plain": [
       "<Figure size 432x288 with 1 Axes>"
      ]
     },
     "metadata": {
      "needs_background": "light"
     },
     "output_type": "display_data"
    }
   ],
   "source": [
    "from pandas.plotting import autocorrelation_plot\n",
    "\n",
    "rng = np.random.default_rng(47)\n",
    "\n",
    "x = np.linspace(0, 4*np.pi, 1000)\n",
    "\n",
    "ts = pd.Series(\n",
    "    (\n",
    "        np.sin(x + 0.2 * rng.normal(size=x.shape)) + \n",
    "        np.cos(3 * x + 0.2 * rng.normal(size=x.shape))\n",
    "    ),\n",
    "    index = pd.date_range(\n",
    "        \"1/1/2020\",\n",
    "        periods=1000\n",
    "    )\n",
    ")\n",
    "\n",
    "autocorrelation_plot(ts)"
   ]
  },
  {
   "cell_type": "code",
   "execution_count": null,
   "metadata": {},
   "outputs": [],
   "source": []
  }
 ],
 "metadata": {
  "kernelspec": {
   "display_name": "Python 3 (ipykernel)",
   "language": "python",
   "name": "python3"
  },
  "language_info": {
   "codemirror_mode": {
    "name": "ipython",
    "version": 3
   },
   "file_extension": ".py",
   "mimetype": "text/x-python",
   "name": "python",
   "nbconvert_exporter": "python",
   "pygments_lexer": "ipython3",
   "version": "3.10.5"
  }
 },
 "nbformat": 4,
 "nbformat_minor": 4
}
